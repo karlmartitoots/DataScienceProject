{
 "cells": [
  {
   "cell_type": "code",
   "execution_count": 1,
   "metadata": {},
   "outputs": [],
   "source": [
    "import numpy as np\n",
    "import pandas as pd\n",
    "import urllib.request\n",
    "import requests\n",
    "import re\n",
    "from matplotlib import pyplot as plt\n",
    "import seaborn as sns"
   ]
  },
  {
   "cell_type": "markdown",
   "metadata": {},
   "source": [
    "# Traffic violations data"
   ]
  },
  {
   "cell_type": "markdown",
   "metadata": {},
   "source": [
    "### Description of the police data columns\n",
    "\n",
    "[POLICE TRAFFIC VIOLATION METADATA](https://www.politsei.ee/files/Anal%C3%BC%C3%BCs%20ja%20statistika/ppaavaandmeteseletuskiri.pdf?f3ca9bccf9)"
   ]
  },
  {
   "cell_type": "code",
   "execution_count": 2,
   "metadata": {},
   "outputs": [],
   "source": [
    "data = pd.read_csv(\"liiklusjarelevalve_3.csv\", encoding = \"UTF-8\", sep='\\t')"
   ]
  },
  {
   "cell_type": "code",
   "execution_count": 3,
   "metadata": {},
   "outputs": [
    {
     "data": {
      "text/html": [
       "<div>\n",
       "<style scoped>\n",
       "    .dataframe tbody tr th:only-of-type {\n",
       "        vertical-align: middle;\n",
       "    }\n",
       "\n",
       "    .dataframe tbody tr th {\n",
       "        vertical-align: top;\n",
       "    }\n",
       "\n",
       "    .dataframe thead th {\n",
       "        text-align: right;\n",
       "    }\n",
       "</style>\n",
       "<table border=\"1\" class=\"dataframe\">\n",
       "  <thead>\n",
       "    <tr style=\"text-align: right;\">\n",
       "      <th></th>\n",
       "      <th>JuhtumId</th>\n",
       "      <th>ToimKpv</th>\n",
       "      <th>ToimKell</th>\n",
       "      <th>ToimNadalapaev</th>\n",
       "      <th>Seadus</th>\n",
       "      <th>Paragrahv</th>\n",
       "      <th>ParagrahvTais</th>\n",
       "      <th>Loige</th>\n",
       "      <th>Punkt</th>\n",
       "      <th>RikutudOigusnorm</th>\n",
       "      <th>...</th>\n",
       "      <th>Lest_X</th>\n",
       "      <th>Lest_Y</th>\n",
       "      <th>SoidukLiik</th>\n",
       "      <th>SoidukRegRiik</th>\n",
       "      <th>SoidukMark</th>\n",
       "      <th>SoidukVlAasta</th>\n",
       "      <th>RikkujaSugu</th>\n",
       "      <th>RikkujaVanus</th>\n",
       "      <th>RikkujaElukoht</th>\n",
       "      <th>SyyteoLiik</th>\n",
       "    </tr>\n",
       "  </thead>\n",
       "  <tbody>\n",
       "    <tr>\n",
       "      <td>0</td>\n",
       "      <td>9617cbde-1636-18d5-8326-a9a756483dba</td>\n",
       "      <td>2013-12-31</td>\n",
       "      <td>23:38</td>\n",
       "      <td>Teisipäev</td>\n",
       "      <td>Liiklusseadus</td>\n",
       "      <td>§ 242.</td>\n",
       "      <td>§ 242. Mootorsõiduki- või trammijuhi poolt lii...</td>\n",
       "      <td>lg. 1.</td>\n",
       "      <td></td>\n",
       "      <td>LS § 76 lg. 1; § 73 lg. 1; § 106 lg. 3</td>\n",
       "      <td>...</td>\n",
       "      <td>6534000-6534499</td>\n",
       "      <td>473000-473499</td>\n",
       "      <td>SOIDUAUTO</td>\n",
       "      <td>EST</td>\n",
       "      <td>VOLKSWAGEN</td>\n",
       "      <td>1994</td>\n",
       "      <td>M</td>\n",
       "      <td>18-25</td>\n",
       "      <td>EST</td>\n",
       "      <td>VT</td>\n",
       "    </tr>\n",
       "    <tr>\n",
       "      <td>1</td>\n",
       "      <td>9617cc1a-1636-18d5-8326-a9a756483dba</td>\n",
       "      <td>2013-12-31</td>\n",
       "      <td>23:25</td>\n",
       "      <td>Teisipäev</td>\n",
       "      <td>Liiklusseadus</td>\n",
       "      <td>§ 227.</td>\n",
       "      <td>§ 227. Mootorsõidukijuhi poolt lubatud sõiduki...</td>\n",
       "      <td>lg. 2.</td>\n",
       "      <td></td>\n",
       "      <td>LS § 15 lg. 1 p. 1</td>\n",
       "      <td>...</td>\n",
       "      <td>6577500-6577999</td>\n",
       "      <td>546500-546999</td>\n",
       "      <td>SOIDUAUTO</td>\n",
       "      <td>EST</td>\n",
       "      <td>VOLVO</td>\n",
       "      <td>2010</td>\n",
       "      <td>M</td>\n",
       "      <td>26-34</td>\n",
       "      <td>NaN</td>\n",
       "      <td>VT</td>\n",
       "    </tr>\n",
       "    <tr>\n",
       "      <td>2</td>\n",
       "      <td>9617c9cc-1636-18d5-8326-a9a756483dba</td>\n",
       "      <td>2013-12-31</td>\n",
       "      <td>23:20</td>\n",
       "      <td>Teisipäev</td>\n",
       "      <td>Liiklusseadus</td>\n",
       "      <td>§ 201.</td>\n",
       "      <td>§ 201. Mootorsõiduki, maastikusõiduki või tram...</td>\n",
       "      <td>lg. 1.</td>\n",
       "      <td></td>\n",
       "      <td>LS § 90 lg. 1 p. 1</td>\n",
       "      <td>...</td>\n",
       "      <td>6588500-6588999</td>\n",
       "      <td>685500-685999</td>\n",
       "      <td>TUNDMATU</td>\n",
       "      <td>EST</td>\n",
       "      <td>CITROEN</td>\n",
       "      <td>2008</td>\n",
       "      <td>M</td>\n",
       "      <td>18-25</td>\n",
       "      <td>NaN</td>\n",
       "      <td>VT</td>\n",
       "    </tr>\n",
       "    <tr>\n",
       "      <td>3</td>\n",
       "      <td>9617d20a-1636-18d5-8326-a9a756483dba</td>\n",
       "      <td>2013-12-31</td>\n",
       "      <td>23:20</td>\n",
       "      <td>Teisipäev</td>\n",
       "      <td>Liiklusseadus</td>\n",
       "      <td>§ 202.</td>\n",
       "      <td>§ 202. Mootorsõiduki, maastikusõiduki või tram...</td>\n",
       "      <td>lg. 1.</td>\n",
       "      <td></td>\n",
       "      <td>LS § 90 lg. 2</td>\n",
       "      <td>...</td>\n",
       "      <td>6588500-6588999</td>\n",
       "      <td>685500-685999</td>\n",
       "      <td>TUNDMATU</td>\n",
       "      <td>EST</td>\n",
       "      <td>CITROEN</td>\n",
       "      <td>2008</td>\n",
       "      <td>M</td>\n",
       "      <td>26-34</td>\n",
       "      <td>NaN</td>\n",
       "      <td>VT</td>\n",
       "    </tr>\n",
       "    <tr>\n",
       "      <td>4</td>\n",
       "      <td>9617d20a-1636-18d5-8326-a9a756483dba</td>\n",
       "      <td>2013-12-31</td>\n",
       "      <td>23:20</td>\n",
       "      <td>Teisipäev</td>\n",
       "      <td>Liiklusseadus</td>\n",
       "      <td>§ 225.</td>\n",
       "      <td>§ 225. Joobes isiku mootorsõidukit, maastikusõ...</td>\n",
       "      <td>lg. 1.</td>\n",
       "      <td></td>\n",
       "      <td>LS § 90 lg. 2</td>\n",
       "      <td>...</td>\n",
       "      <td>6588500-6588999</td>\n",
       "      <td>685500-685999</td>\n",
       "      <td>TUNDMATU</td>\n",
       "      <td>EST</td>\n",
       "      <td>CITROEN</td>\n",
       "      <td>2008</td>\n",
       "      <td>M</td>\n",
       "      <td>26-34</td>\n",
       "      <td>NaN</td>\n",
       "      <td>VT</td>\n",
       "    </tr>\n",
       "  </tbody>\n",
       "</table>\n",
       "<p>5 rows × 26 columns</p>\n",
       "</div>"
      ],
      "text/plain": [
       "                               JuhtumId     ToimKpv ToimKell ToimNadalapaev  \\\n",
       "0  9617cbde-1636-18d5-8326-a9a756483dba  2013-12-31    23:38      Teisipäev   \n",
       "1  9617cc1a-1636-18d5-8326-a9a756483dba  2013-12-31    23:25      Teisipäev   \n",
       "2  9617c9cc-1636-18d5-8326-a9a756483dba  2013-12-31    23:20      Teisipäev   \n",
       "3  9617d20a-1636-18d5-8326-a9a756483dba  2013-12-31    23:20      Teisipäev   \n",
       "4  9617d20a-1636-18d5-8326-a9a756483dba  2013-12-31    23:20      Teisipäev   \n",
       "\n",
       "          Seadus Paragrahv                                      ParagrahvTais  \\\n",
       "0  Liiklusseadus    § 242.  § 242. Mootorsõiduki- või trammijuhi poolt lii...   \n",
       "1  Liiklusseadus    § 227.  § 227. Mootorsõidukijuhi poolt lubatud sõiduki...   \n",
       "2  Liiklusseadus    § 201.  § 201. Mootorsõiduki, maastikusõiduki või tram...   \n",
       "3  Liiklusseadus    § 202.  § 202. Mootorsõiduki, maastikusõiduki või tram...   \n",
       "4  Liiklusseadus    § 225.  § 225. Joobes isiku mootorsõidukit, maastikusõ...   \n",
       "\n",
       "    Loige                 Punkt                        RikutudOigusnorm  ...  \\\n",
       "0  lg. 1.                        LS § 76 lg. 1; § 73 lg. 1; § 106 lg. 3  ...   \n",
       "1  lg. 2.                                            LS § 15 lg. 1 p. 1  ...   \n",
       "2  lg. 1.                                            LS § 90 lg. 1 p. 1  ...   \n",
       "3  lg. 1.                                                 LS § 90 lg. 2  ...   \n",
       "4  lg. 1.                                                 LS § 90 lg. 2  ...   \n",
       "\n",
       "            Lest_X         Lest_Y SoidukLiik SoidukRegRiik  SoidukMark  \\\n",
       "0  6534000-6534499  473000-473499  SOIDUAUTO           EST  VOLKSWAGEN   \n",
       "1  6577500-6577999  546500-546999  SOIDUAUTO           EST       VOLVO   \n",
       "2  6588500-6588999  685500-685999   TUNDMATU           EST     CITROEN   \n",
       "3  6588500-6588999  685500-685999   TUNDMATU           EST     CITROEN   \n",
       "4  6588500-6588999  685500-685999   TUNDMATU           EST     CITROEN   \n",
       "\n",
       "   SoidukVlAasta RikkujaSugu RikkujaVanus RikkujaElukoht SyyteoLiik  \n",
       "0           1994           M        18-25            EST         VT  \n",
       "1           2010           M        26-34            NaN         VT  \n",
       "2           2008           M        18-25            NaN         VT  \n",
       "3           2008           M        26-34            NaN         VT  \n",
       "4           2008           M        26-34            NaN         VT  \n",
       "\n",
       "[5 rows x 26 columns]"
      ]
     },
     "execution_count": 3,
     "metadata": {},
     "output_type": "execute_result"
    }
   ],
   "source": [
    "police_data = data.copy()\n",
    "police_data.head()"
   ]
  },
  {
   "cell_type": "markdown",
   "metadata": {},
   "source": [
    "## Pruning data by coordinates \n",
    "\n",
    "[Official Tartu map](https://www.tartu.ee/kaart/)<br>\n",
    "The coordinates can be converted to GPS coordinates (longitude and latitude) in order to get a map in the full range of these coordinates.<br>\n",
    "[Conversion of coordinates betwwen L-EST and GPS](https://www.maaamet.ee/rr/geo-lest/url/)"
   ]
  },
  {
   "cell_type": "markdown",
   "metadata": {},
   "source": [
    "#### A smaller area with most of Tartu inside\n",
    "\n",
    "GPS: 58.404933,26.799217 L-EST: 6477249.3690577,663596.12162501<br>\n",
    "GPS: 58.340461,26.644670 L-EST: 6469707.6486631,654851.71159927\n",
    "\n",
    "A corresponding map is at 'gmaps_tartu_smaller.png'."
   ]
  },
  {
   "cell_type": "code",
   "execution_count": 4,
   "metadata": {},
   "outputs": [],
   "source": [
    "# takes coordinate in form '668000-668499', separates the values as floats into a list [668000, 668499]\n",
    "getLowHigh = lambda coords: list(map(float, coords.split('-')))\n",
    "\n",
    "# takes lowHigh coordinate list [668000, 668499] and its bounds, checks if coord is out of bounds\n",
    "coordNotInRange = lambda lowHigh, c_min, c_max : lowHigh[0] < c_min or lowHigh[1] > c_max\n",
    "\n",
    "# takes lowHigh coordinate list [668000, 668499], calculates their average\n",
    "getAvg = lambda lowHigh: round(sum(lowHigh) / len(lowHigh)) "
   ]
  },
  {
   "cell_type": "markdown",
   "metadata": {},
   "source": [
    "We will prune the data by a bound rectangle and find the average coordinates for those datapoints inside the rectangle."
   ]
  },
  {
   "cell_type": "code",
   "execution_count": 60,
   "metadata": {},
   "outputs": [],
   "source": [
    "lest_x, lest_y = list(police_data['Lest_X']), list(police_data['Lest_Y'])\n",
    "avg_x, avg_y, xy_in_area = [], [], []\n",
    "\n",
    "# boundaries\n",
    "x_min, x_max = 6469500, 6477500\n",
    "y_min, y_max = 654500, 663500\n",
    "for xc, yc in zip(lest_x, lest_y):\n",
    "    \n",
    "    try: \n",
    "        low_high_X = getLowHigh(xc)\n",
    "        low_high_Y = getLowHigh(yc)\n",
    "    except: # if the cell is faulty, we will still need to continue without errors\n",
    "        # these rows will be excluded\n",
    "        xy_in_area.append(False)\n",
    "        continue\n",
    "    \n",
    "    if coordNotInRange(low_high_X, x_min, x_max) or coordNotInRange(low_high_Y, y_min, y_max):\n",
    "        xy_in_area.append(False)\n",
    "    else:\n",
    "        xy_in_area.append(True)\n",
    "        \n",
    "        # calculate average coordinates for all datapoints within boundaries\n",
    "        avg_x.append(getAvg(low_high_X))\n",
    "        avg_y.append(getAvg(low_high_Y))"
   ]
  },
  {
   "cell_type": "code",
   "execution_count": 61,
   "metadata": {
    "scrolled": true
   },
   "outputs": [
    {
     "data": {
      "text/html": [
       "<div>\n",
       "<style scoped>\n",
       "    .dataframe tbody tr th:only-of-type {\n",
       "        vertical-align: middle;\n",
       "    }\n",
       "\n",
       "    .dataframe tbody tr th {\n",
       "        vertical-align: top;\n",
       "    }\n",
       "\n",
       "    .dataframe thead th {\n",
       "        text-align: right;\n",
       "    }\n",
       "</style>\n",
       "<table border=\"1\" class=\"dataframe\">\n",
       "  <thead>\n",
       "    <tr style=\"text-align: right;\">\n",
       "      <th></th>\n",
       "      <th>JuhtumId</th>\n",
       "      <th>ToimKpv</th>\n",
       "      <th>ToimKell</th>\n",
       "      <th>Lest_X</th>\n",
       "      <th>Lest_Y</th>\n",
       "      <th>Avg_x</th>\n",
       "      <th>Avg_y</th>\n",
       "    </tr>\n",
       "  </thead>\n",
       "  <tbody>\n",
       "    <tr>\n",
       "      <td>0</td>\n",
       "      <td>9617ed94-1636-18d5-8326-a9a756483dba</td>\n",
       "      <td>2013-12-31</td>\n",
       "      <td>21:06</td>\n",
       "      <td>6475000-6475499</td>\n",
       "      <td>659000-659499</td>\n",
       "      <td>6475250</td>\n",
       "      <td>659250</td>\n",
       "    </tr>\n",
       "    <tr>\n",
       "      <td>1</td>\n",
       "      <td>9617e9de-1636-18d5-8326-a9a756483dba</td>\n",
       "      <td>2013-12-31</td>\n",
       "      <td>20:28</td>\n",
       "      <td>6475000-6475499</td>\n",
       "      <td>659000-659499</td>\n",
       "      <td>6475250</td>\n",
       "      <td>659250</td>\n",
       "    </tr>\n",
       "    <tr>\n",
       "      <td>2</td>\n",
       "      <td>9617ed3a-1636-18d5-8326-a9a756483dba</td>\n",
       "      <td>2013-12-31</td>\n",
       "      <td>19:19</td>\n",
       "      <td>6472000-6472499</td>\n",
       "      <td>656500-656999</td>\n",
       "      <td>6472250</td>\n",
       "      <td>656750</td>\n",
       "    </tr>\n",
       "    <tr>\n",
       "      <td>3</td>\n",
       "      <td>9617ec90-1636-18d5-8326-a9a756483dba</td>\n",
       "      <td>2013-12-31</td>\n",
       "      <td>14:19</td>\n",
       "      <td>6475000-6475499</td>\n",
       "      <td>659000-659499</td>\n",
       "      <td>6475250</td>\n",
       "      <td>659250</td>\n",
       "    </tr>\n",
       "    <tr>\n",
       "      <td>4</td>\n",
       "      <td>9617ebaa-1636-18d5-8326-a9a756483dba</td>\n",
       "      <td>2013-12-31</td>\n",
       "      <td>13:44</td>\n",
       "      <td>6475000-6475499</td>\n",
       "      <td>659000-659499</td>\n",
       "      <td>6475250</td>\n",
       "      <td>659250</td>\n",
       "    </tr>\n",
       "  </tbody>\n",
       "</table>\n",
       "</div>"
      ],
      "text/plain": [
       "                               JuhtumId     ToimKpv ToimKell           Lest_X  \\\n",
       "0  9617ed94-1636-18d5-8326-a9a756483dba  2013-12-31    21:06  6475000-6475499   \n",
       "1  9617e9de-1636-18d5-8326-a9a756483dba  2013-12-31    20:28  6475000-6475499   \n",
       "2  9617ed3a-1636-18d5-8326-a9a756483dba  2013-12-31    19:19  6472000-6472499   \n",
       "3  9617ec90-1636-18d5-8326-a9a756483dba  2013-12-31    14:19  6475000-6475499   \n",
       "4  9617ebaa-1636-18d5-8326-a9a756483dba  2013-12-31    13:44  6475000-6475499   \n",
       "\n",
       "          Lest_Y    Avg_x   Avg_y  \n",
       "0  659000-659499  6475250  659250  \n",
       "1  659000-659499  6475250  659250  \n",
       "2  656500-656999  6472250  656750  \n",
       "3  659000-659499  6475250  659250  \n",
       "4  659000-659499  6475250  659250  "
      ]
     },
     "execution_count": 61,
     "metadata": {},
     "output_type": "execute_result"
    }
   ],
   "source": [
    "tartu_data = police_data[xy_in_area] # filter the results to fit into chosen rectangle of coordinates\n",
    "tartu_data = tartu_data[['JuhtumId', 'ToimKpv', 'ToimKell', 'Lest_X', 'Lest_Y']] # Columns selected for our project\n",
    "tartu_data = tartu_data.reset_index().drop('index', axis = 1)\n",
    "tartu_data['Avg_x'] = avg_x\n",
    "tartu_data['Avg_y'] = avg_y\n",
    "\n",
    "tartu_data.head()"
   ]
  },
  {
   "cell_type": "markdown",
   "metadata": {},
   "source": [
    "# Weather data"
   ]
  },
  {
   "cell_type": "markdown",
   "metadata": {},
   "source": [
    "## 2019 weather data (9000 rows)"
   ]
  },
  {
   "cell_type": "code",
   "execution_count": 7,
   "metadata": {},
   "outputs": [],
   "source": [
    "w_d_web = 'http://meteo.physic.ut.ee/et/archive.php?do=data&begin%5Byear%5D=2019&begin%5Bmon%5D=11&begin%5Bmday%5D=4&end%5Byear%5D=2019&end%5Bmon%5D=12&end%5Bmday%5D=5&9=1&16=1&14=1&ok=+Esita+p%C3%A4ring+'\n",
    "\n",
    "table = requests.get(w_d_web)"
   ]
  },
  {
   "cell_type": "markdown",
   "metadata": {},
   "source": [
    "## 2012-2019 weather data"
   ]
  },
  {
   "cell_type": "code",
   "execution_count": 8,
   "metadata": {},
   "outputs": [],
   "source": [
    "w_d_web = 'http://meteo.physic.ut.ee/et/archive.php?do=data&begin%5Byear%5D=2012&begin%5Bmon%5D=1&begin%5Bmday%5D=1&end%5Byear%5D=2019&end%5Bmon%5D=12&end%5Bmday%5D=8&9=1&16=1&14=1&ok=+Esita+p%C3%A4ring+'\n",
    "\n",
    "table = requests.get(w_d_web)"
   ]
  },
  {
   "cell_type": "markdown",
   "metadata": {},
   "source": [
    "## 2012 weather data (105210 rows)"
   ]
  },
  {
   "cell_type": "code",
   "execution_count": 9,
   "metadata": {},
   "outputs": [],
   "source": [
    "w_d_web = 'http://meteo.physic.ut.ee/et/archive.php?do=data&begin%5Byear%5D=2012&begin%5Bmon%5D=1&begin%5Bmday%5D=1&end%5Byear%5D=2013&end%5Bmon%5D=1&end%5Bmday%5D=1&9=1&16=1&11=1&ok=+Esita+p%C3%A4ring+'\n",
    "\n",
    "table = requests.get(w_d_web)"
   ]
  },
  {
   "cell_type": "code",
   "execution_count": 10,
   "metadata": {},
   "outputs": [],
   "source": [
    "w_d_raw = []\n",
    "\n",
    "for row in table:\n",
    "    w_d_raw.append(row.decode('utf-8').split('\\n')) # Removing all non-data characters (\\n and b)"
   ]
  },
  {
   "cell_type": "code",
   "execution_count": 11,
   "metadata": {},
   "outputs": [],
   "source": [
    "def striplist(l):\n",
    "    return list(map(lambda s: s.strip(), l))"
   ]
  },
  {
   "cell_type": "code",
   "execution_count": 12,
   "metadata": {},
   "outputs": [],
   "source": [
    "wd_list = []\n",
    "wd_cols = striplist(w_d_raw[0][0].split(','))\n",
    "\n",
    "wd_list.append(striplist(w_d_raw[0][1].split(',')))\n",
    "i = 0\n",
    "while i < len(w_d_raw)-1:\n",
    "    if len(w_d_raw[i]) == 4:\n",
    "        wd_list.append(striplist(w_d_raw[i][2].split(',')))\n",
    "        wd_list.append(striplist((w_d_raw[i][3] + w_d_raw[i + 1][0]).split(',')))\n",
    "    else:\n",
    "        wd_list.append(striplist((w_d_raw[i][2] + w_d_raw[i + 1][0]).split(',')))\n",
    "    wd_list.append(striplist(w_d_raw[i + 1][1].split(',')))\n",
    "    i += 1\n",
    "\n",
    "weather_df = pd.DataFrame(wd_list)[[0, 1, 2, 3]]\n",
    "weather_df.columns = ['datetime', 'temp','prec','illuminance']\n",
    "weather_df = weather_df[weather_df.temp != '']"
   ]
  },
  {
   "cell_type": "code",
   "execution_count": 13,
   "metadata": {},
   "outputs": [
    {
     "name": "stdout",
     "output_type": "stream",
     "text": [
      "(105173, 4)\n"
     ]
    },
    {
     "data": {
      "text/html": [
       "<div>\n",
       "<style scoped>\n",
       "    .dataframe tbody tr th:only-of-type {\n",
       "        vertical-align: middle;\n",
       "    }\n",
       "\n",
       "    .dataframe tbody tr th {\n",
       "        vertical-align: top;\n",
       "    }\n",
       "\n",
       "    .dataframe thead th {\n",
       "        text-align: right;\n",
       "    }\n",
       "</style>\n",
       "<table border=\"1\" class=\"dataframe\">\n",
       "  <thead>\n",
       "    <tr style=\"text-align: right;\">\n",
       "      <th></th>\n",
       "      <th>datetime</th>\n",
       "      <th>temp</th>\n",
       "      <th>prec</th>\n",
       "      <th>illuminance</th>\n",
       "    </tr>\n",
       "  </thead>\n",
       "  <tbody>\n",
       "    <tr>\n",
       "      <td>0</td>\n",
       "      <td>2012-01-01 00:00:00</td>\n",
       "      <td>-1.40256386952938</td>\n",
       "      <td>0</td>\n",
       "      <td>1596.32524005174</td>\n",
       "    </tr>\n",
       "    <tr>\n",
       "      <td>1</td>\n",
       "      <td>2012-01-01 00:05:00</td>\n",
       "      <td>-1.3072008201295098</td>\n",
       "      <td>0</td>\n",
       "      <td>1766.2777027866002</td>\n",
       "    </tr>\n",
       "    <tr>\n",
       "      <td>2</td>\n",
       "      <td>2012-01-01 00:10:00</td>\n",
       "      <td>-1.24774878404425</td>\n",
       "      <td>0</td>\n",
       "      <td>1537.72557855376</td>\n",
       "    </tr>\n",
       "    <tr>\n",
       "      <td>3</td>\n",
       "      <td>2012-01-01 00:15:00</td>\n",
       "      <td>-1.2859692273800398</td>\n",
       "      <td>0</td>\n",
       "      <td>1483.7225387054602</td>\n",
       "    </tr>\n",
       "    <tr>\n",
       "      <td>4</td>\n",
       "      <td>2012-01-01 00:20:00</td>\n",
       "      <td>-1.4057889884906098</td>\n",
       "      <td>0</td>\n",
       "      <td>1544.08768822554</td>\n",
       "    </tr>\n",
       "  </tbody>\n",
       "</table>\n",
       "</div>"
      ],
      "text/plain": [
       "              datetime                 temp prec         illuminance\n",
       "0  2012-01-01 00:00:00    -1.40256386952938    0    1596.32524005174\n",
       "1  2012-01-01 00:05:00  -1.3072008201295098    0  1766.2777027866002\n",
       "2  2012-01-01 00:10:00    -1.24774878404425    0    1537.72557855376\n",
       "3  2012-01-01 00:15:00  -1.2859692273800398    0  1483.7225387054602\n",
       "4  2012-01-01 00:20:00  -1.4057889884906098    0    1544.08768822554"
      ]
     },
     "execution_count": 13,
     "metadata": {},
     "output_type": "execute_result"
    }
   ],
   "source": [
    "print(weather_df.shape)\n",
    "weather_df.head()"
   ]
  },
  {
   "cell_type": "markdown",
   "metadata": {},
   "source": [
    "# 5-minute, hourly and daily data"
   ]
  },
  {
   "cell_type": "code",
   "execution_count": 14,
   "metadata": {},
   "outputs": [],
   "source": [
    "from datetime import datetime"
   ]
  },
  {
   "cell_type": "markdown",
   "metadata": {},
   "source": [
    "Let's create hourly and daily averaged temperature, precipitation, irradiation flux and traffic violations amount to try and find correlations. "
   ]
  },
  {
   "cell_type": "markdown",
   "metadata": {},
   "source": [
    "### Weather data"
   ]
  },
  {
   "cell_type": "code",
   "execution_count": 15,
   "metadata": {},
   "outputs": [],
   "source": [
    "timeformat = '%Y-%m-%d %H:%M:%S'\n",
    "\n",
    "hours = []\n",
    "dates = []\n",
    "times = []\n",
    "for t in weather_df.datetime:\n",
    "    dt = datetime.strptime(t, timeformat)\n",
    "    hours.append(dt.hour)\n",
    "    dates.append(dt.date())\n",
    "    times.append(dt.time())\n",
    "\n",
    "weather_df['hour'] = hours\n",
    "weather_df['date'] = dates\n",
    "weather_df['time'] = times\n",
    "\n",
    "weather_df = weather_df.drop(columns = ['datetime'])"
   ]
  },
  {
   "cell_type": "code",
   "execution_count": 16,
   "metadata": {},
   "outputs": [],
   "source": [
    "weather_df.temp = list(map(float, weather_df.temp))\n",
    "weather_df.prec = list(map(float, weather_df.prec))\n",
    "weather_df.illuminance = list(map(float, weather_df.illuminance))\n",
    "weather_df.hour = list(map(int, weather_df.hour))"
   ]
  },
  {
   "cell_type": "code",
   "execution_count": 17,
   "metadata": {},
   "outputs": [],
   "source": [
    "dailymean_wd = weather_df.groupby(by = 'date').mean()\n",
    "hourlymean_wd = weather_df.groupby(['date','hour'], as_index=False).mean()"
   ]
  },
  {
   "cell_type": "code",
   "execution_count": 18,
   "metadata": {},
   "outputs": [
    {
     "data": {
      "text/plain": [
       "[<matplotlib.lines.Line2D at 0x2198b451978>]"
      ]
     },
     "execution_count": 18,
     "metadata": {},
     "output_type": "execute_result"
    },
    {
     "data": {
      "image/png": "[encoded data removed]",
      "text/plain": [
       "<Figure size 432x288 with 1 Axes>"
      ]
     },
     "metadata": {},
     "output_type": "display_data"
    }
   ],
   "source": [
    "plt.plot(weather_df['temp'])"
   ]
  },
  {
   "cell_type": "code",
   "execution_count": 19,
   "metadata": {},
   "outputs": [
    {
     "data": {
      "text/plain": [
       "[<matplotlib.lines.Line2D at 0x2198b84a9b0>]"
      ]
     },
     "execution_count": 19,
     "metadata": {},
     "output_type": "execute_result"
    },
    {
     "data": {
      "image/png": "[encoded data removed]",
      "text/plain": [
       "<Figure size 432x288 with 1 Axes>"
      ]
     },
     "metadata": {},
     "output_type": "display_data"
    }
   ],
   "source": [
    "plt.plot(hourlymean_wd['temp'])"
   ]
  },
  {
   "cell_type": "code",
   "execution_count": 20,
   "metadata": {},
   "outputs": [
    {
     "name": "stderr",
     "output_type": "stream",
     "text": [
      "C:\\Users\\Karlm\\AppData\\Roaming\\Python\\Python36\\site-packages\\pandas\\plotting\\_matplotlib\\converter.py:103: FutureWarning: Using an implicitly registered datetime converter for a matplotlib plotting method. The converter was registered by pandas on import. Future versions of pandas will require you to explicitly register matplotlib converters.\n",
      "\n",
      "To register the converters:\n",
      "\t>>> from pandas.plotting import register_matplotlib_converters\n",
      "\t>>> register_matplotlib_converters()\n",
      "  warnings.warn(msg, FutureWarning)\n"
     ]
    },
    {
     "data": {
      "text/plain": [
       "[<matplotlib.lines.Line2D at 0x2198b886550>]"
      ]
     },
     "execution_count": 20,
     "metadata": {},
     "output_type": "execute_result"
    },
    {
     "data": {
      "image/png": "[encoded data removed]",
      "text/plain": [
       "<Figure size 432x288 with 1 Axes>"
      ]
     },
     "metadata": {},
     "output_type": "display_data"
    }
   ],
   "source": [
    "plt.plot(dailymean_wd['temp'])"
   ]
  },
  {
   "cell_type": "markdown",
   "metadata": {},
   "source": [
    "### Police Data"
   ]
  },
  {
   "cell_type": "code",
   "execution_count": 21,
   "metadata": {},
   "outputs": [],
   "source": [
    "police_df = tartu_data.copy()"
   ]
  },
  {
   "cell_type": "code",
   "execution_count": 22,
   "metadata": {},
   "outputs": [],
   "source": [
    "timeformat = '%H:%M'\n",
    "\n",
    "hours = []\n",
    "minutes = []\n",
    "times = []\n",
    "for t in police_df.ToimKell:\n",
    "    try:\n",
    "        dt = datetime.strptime(t, timeformat) \n",
    "        dt = dt.replace(minute = dt.minute // 5 * 5) # 5 minuti kaupa\n",
    "        hours.append(dt.hour)\n",
    "        minutes.append(dt.minute)\n",
    "        times.append(dt.time())\n",
    "    except:\n",
    "        hours.append(np.nan)\n",
    "        minutes.append(np.nan)\n",
    "        times.append(np.nan)\n",
    "        continue\n",
    "        # ignore\n",
    "\n",
    "police_df['hour'] = hours\n",
    "police_df['minute'] = minutes\n",
    "police_df['time'] = times"
   ]
  },
  {
   "cell_type": "code",
   "execution_count": 23,
   "metadata": {},
   "outputs": [
    {
     "data": {
      "text/html": [
       "<div>\n",
       "<style scoped>\n",
       "    .dataframe tbody tr th:only-of-type {\n",
       "        vertical-align: middle;\n",
       "    }\n",
       "\n",
       "    .dataframe tbody tr th {\n",
       "        vertical-align: top;\n",
       "    }\n",
       "\n",
       "    .dataframe thead th {\n",
       "        text-align: right;\n",
       "    }\n",
       "</style>\n",
       "<table border=\"1\" class=\"dataframe\">\n",
       "  <thead>\n",
       "    <tr style=\"text-align: right;\">\n",
       "      <th></th>\n",
       "      <th>JuhtumId</th>\n",
       "      <th>ToimKpv</th>\n",
       "      <th>ToimKell</th>\n",
       "      <th>Lest_X</th>\n",
       "      <th>Lest_Y</th>\n",
       "      <th>Avg_x</th>\n",
       "      <th>Avg_y</th>\n",
       "      <th>hour</th>\n",
       "      <th>minute</th>\n",
       "      <th>time</th>\n",
       "    </tr>\n",
       "  </thead>\n",
       "  <tbody>\n",
       "    <tr>\n",
       "      <td>0</td>\n",
       "      <td>9617ed94-1636-18d5-8326-a9a756483dba</td>\n",
       "      <td>2013-12-31</td>\n",
       "      <td>21:06</td>\n",
       "      <td>6475000-6475499</td>\n",
       "      <td>659000-659499</td>\n",
       "      <td>6475250</td>\n",
       "      <td>659250</td>\n",
       "      <td>21.0</td>\n",
       "      <td>5.0</td>\n",
       "      <td>21:05:00</td>\n",
       "    </tr>\n",
       "    <tr>\n",
       "      <td>1</td>\n",
       "      <td>9617e9de-1636-18d5-8326-a9a756483dba</td>\n",
       "      <td>2013-12-31</td>\n",
       "      <td>20:28</td>\n",
       "      <td>6475000-6475499</td>\n",
       "      <td>659000-659499</td>\n",
       "      <td>6475250</td>\n",
       "      <td>659250</td>\n",
       "      <td>20.0</td>\n",
       "      <td>25.0</td>\n",
       "      <td>20:25:00</td>\n",
       "    </tr>\n",
       "    <tr>\n",
       "      <td>2</td>\n",
       "      <td>9617ed3a-1636-18d5-8326-a9a756483dba</td>\n",
       "      <td>2013-12-31</td>\n",
       "      <td>19:19</td>\n",
       "      <td>6472000-6472499</td>\n",
       "      <td>656500-656999</td>\n",
       "      <td>6472250</td>\n",
       "      <td>656750</td>\n",
       "      <td>19.0</td>\n",
       "      <td>15.0</td>\n",
       "      <td>19:15:00</td>\n",
       "    </tr>\n",
       "    <tr>\n",
       "      <td>3</td>\n",
       "      <td>9617ec90-1636-18d5-8326-a9a756483dba</td>\n",
       "      <td>2013-12-31</td>\n",
       "      <td>14:19</td>\n",
       "      <td>6475000-6475499</td>\n",
       "      <td>659000-659499</td>\n",
       "      <td>6475250</td>\n",
       "      <td>659250</td>\n",
       "      <td>14.0</td>\n",
       "      <td>15.0</td>\n",
       "      <td>14:15:00</td>\n",
       "    </tr>\n",
       "    <tr>\n",
       "      <td>4</td>\n",
       "      <td>9617ebaa-1636-18d5-8326-a9a756483dba</td>\n",
       "      <td>2013-12-31</td>\n",
       "      <td>13:44</td>\n",
       "      <td>6475000-6475499</td>\n",
       "      <td>659000-659499</td>\n",
       "      <td>6475250</td>\n",
       "      <td>659250</td>\n",
       "      <td>13.0</td>\n",
       "      <td>40.0</td>\n",
       "      <td>13:40:00</td>\n",
       "    </tr>\n",
       "  </tbody>\n",
       "</table>\n",
       "</div>"
      ],
      "text/plain": [
       "                               JuhtumId     ToimKpv ToimKell           Lest_X  \\\n",
       "0  9617ed94-1636-18d5-8326-a9a756483dba  2013-12-31    21:06  6475000-6475499   \n",
       "1  9617e9de-1636-18d5-8326-a9a756483dba  2013-12-31    20:28  6475000-6475499   \n",
       "2  9617ed3a-1636-18d5-8326-a9a756483dba  2013-12-31    19:19  6472000-6472499   \n",
       "3  9617ec90-1636-18d5-8326-a9a756483dba  2013-12-31    14:19  6475000-6475499   \n",
       "4  9617ebaa-1636-18d5-8326-a9a756483dba  2013-12-31    13:44  6475000-6475499   \n",
       "\n",
       "          Lest_Y    Avg_x   Avg_y  hour  minute      time  \n",
       "0  659000-659499  6475250  659250  21.0     5.0  21:05:00  \n",
       "1  659000-659499  6475250  659250  20.0    25.0  20:25:00  \n",
       "2  656500-656999  6472250  656750  19.0    15.0  19:15:00  \n",
       "3  659000-659499  6475250  659250  14.0    15.0  14:15:00  \n",
       "4  659000-659499  6475250  659250  13.0    40.0  13:40:00  "
      ]
     },
     "execution_count": 23,
     "metadata": {},
     "output_type": "execute_result"
    }
   ],
   "source": [
    "police_df.head()"
   ]
  },
  {
   "cell_type": "code",
   "execution_count": 24,
   "metadata": {},
   "outputs": [],
   "source": [
    "# violations per 1 day interval\n",
    "dailymean_pd = police_df.groupby(['ToimKpv']).count()['JuhtumId']\n",
    "\n",
    "# violations per 1 hour interval\n",
    "hourlymean_pd = police_df.groupby(['ToimKpv','hour']).count()['JuhtumId']\n",
    "\n",
    "# violations per 5 minute interval\n",
    "minutelymean_pd = police_df.groupby(['ToimKpv', 'hour', 'minute']).count()['JuhtumId']"
   ]
  },
  {
   "cell_type": "markdown",
   "metadata": {},
   "source": [
    "## Combine violation count in 5 minute intervals with weather data"
   ]
  },
  {
   "cell_type": "code",
   "execution_count": 25,
   "metadata": {},
   "outputs": [],
   "source": [
    "comb_df = weather_df[['time', 'date', 'hour', 'temp', 'illuminance']]\n",
    "timeformat = '%Y-%m-%d'\n",
    "\n",
    "v_counts = []\n",
    "for index, row in comb_df.iterrows():\n",
    "    try:\n",
    "        v_counts.append(minutelymean_pd[(row.date.strftime(timeformat), row.hour, row.time.minute)])\n",
    "    except:\n",
    "        v_counts.append(0)\n",
    "\n",
    "comb_df['violations'] = v_counts"
   ]
  },
  {
   "cell_type": "code",
   "execution_count": 26,
   "metadata": {},
   "outputs": [],
   "source": [
    "hourlymean_cd = comb_df.groupby(['date','hour'], as_index=False).sum()\n",
    "dailymean_cd = comb_df.groupby(['date']).sum()"
   ]
  },
  {
   "cell_type": "code",
   "execution_count": 27,
   "metadata": {},
   "outputs": [
    {
     "data": {
      "text/plain": [
       "[<matplotlib.lines.Line2D at 0x2198e853048>]"
      ]
     },
     "execution_count": 27,
     "metadata": {},
     "output_type": "execute_result"
    },
    {
     "data": {
      "image/png": "[encoded data removed]",
      "text/plain": [
       "<Figure size 432x288 with 1 Axes>"
      ]
     },
     "metadata": {},
     "output_type": "display_data"
    }
   ],
   "source": [
    "plt.plot(comb_df['violations'])"
   ]
  },
  {
   "cell_type": "code",
   "execution_count": 28,
   "metadata": {},
   "outputs": [
    {
     "data": {
      "text/plain": [
       "[<matplotlib.lines.Line2D at 0x2198e8e1278>]"
      ]
     },
     "execution_count": 28,
     "metadata": {},
     "output_type": "execute_result"
    },
    {
     "data": {
      "image/png": "[encoded data removed]",
      "text/plain": [
       "<Figure size 432x288 with 1 Axes>"
      ]
     },
     "metadata": {},
     "output_type": "display_data"
    }
   ],
   "source": [
    "plt.plot(hourlymean_cd['violations'])"
   ]
  },
  {
   "cell_type": "code",
   "execution_count": 29,
   "metadata": {},
   "outputs": [
    {
     "data": {
      "text/plain": [
       "[<matplotlib.lines.Line2D at 0x2198e8f5978>]"
      ]
     },
     "execution_count": 29,
     "metadata": {},
     "output_type": "execute_result"
    },
    {
     "data": {
      "image/png": "[encoded data removed]",
      "text/plain": [
       "<Figure size 432x288 with 1 Axes>"
      ]
     },
     "metadata": {},
     "output_type": "display_data"
    }
   ],
   "source": [
    "plt.plot(dailymean_cd['violations'])"
   ]
  },
  {
   "cell_type": "code",
   "execution_count": 30,
   "metadata": {},
   "outputs": [],
   "source": [
    "hourlymean_cd.to_csv('weathertimeviolations_hourlymean.csv', index = False)"
   ]
  },
  {
   "cell_type": "code",
   "execution_count": 31,
   "metadata": {},
   "outputs": [],
   "source": [
    "dailymean_cd.to_csv('weathertimeviolations_dailymean.csv', index = False)"
   ]
  },
  {
   "cell_type": "code",
   "execution_count": 32,
   "metadata": {},
   "outputs": [],
   "source": [
    "comb_df.to_csv('weathertimeviolations.csv', index = False)"
   ]
  },
  {
   "cell_type": "markdown",
   "metadata": {},
   "source": [
    "# Modelling"
   ]
  },
  {
   "cell_type": "markdown",
   "metadata": {},
   "source": [
    "Read the latest data from file to separate data manipulation flow from the modelling tasks flow."
   ]
  },
  {
   "cell_type": "code",
   "execution_count": 33,
   "metadata": {},
   "outputs": [],
   "source": [
    "weatherviolations_minutely = pd.read_csv('weathertimeviolations.csv')\n",
    "weatherviolations_hourly = pd.read_csv('weathertimeviolations_hourlymean.csv')\n",
    "weatherviolations_daily = pd.read_csv('weathertimeviolations_dailymean.csv')"
   ]
  },
  {
   "cell_type": "code",
   "execution_count": 34,
   "metadata": {},
   "outputs": [
    {
     "data": {
      "text/plain": [
       "<matplotlib.collections.PathCollection at 0x2198fc78f60>"
      ]
     },
     "execution_count": 34,
     "metadata": {},
     "output_type": "execute_result"
    },
    {
     "data": {
      "image/png": "[encoded data removed]",
      "text/plain": [
       "<Figure size 432x288 with 1 Axes>"
      ]
     },
     "metadata": {},
     "output_type": "display_data"
    }
   ],
   "source": [
    "plt.scatter(weatherviolations_hourly['hour'], weatherviolations_hourly['violations'])"
   ]
  },
  {
   "cell_type": "markdown",
   "metadata": {},
   "source": [
    "**More violations during the day**"
   ]
  },
  {
   "cell_type": "code",
   "execution_count": 35,
   "metadata": {},
   "outputs": [
    {
     "data": {
      "text/plain": [
       "<matplotlib.collections.PathCollection at 0x2198fce9ac8>"
      ]
     },
     "execution_count": 35,
     "metadata": {},
     "output_type": "execute_result"
    },
    {
     "data": {
      "image/png": "[encoded data removed]",
      "text/plain": [
       "<Figure size 432x288 with 1 Axes>"
      ]
     },
     "metadata": {},
     "output_type": "display_data"
    }
   ],
   "source": [
    "plt.scatter(weatherviolations_hourly['temp'], weatherviolations_hourly['violations'])"
   ]
  },
  {
   "cell_type": "markdown",
   "metadata": {},
   "source": [
    "**More violations at 5-15 oC temperature?**"
   ]
  },
  {
   "cell_type": "code",
   "execution_count": 36,
   "metadata": {},
   "outputs": [
    {
     "data": {
      "text/plain": [
       "<matplotlib.collections.PathCollection at 0x2198fd37b38>"
      ]
     },
     "execution_count": 36,
     "metadata": {},
     "output_type": "execute_result"
    },
    {
     "data": {
      "image/png": "[encoded data removed]",
      "text/plain": [
       "<Figure size 432x288 with 1 Axes>"
      ]
     },
     "metadata": {},
     "output_type": "display_data"
    }
   ],
   "source": [
    "plt.scatter(weatherviolations_hourly['illuminance'], weatherviolations_hourly['violations'])"
   ]
  },
  {
   "cell_type": "markdown",
   "metadata": {},
   "source": [
    "**More violations at low luminance?**"
   ]
  },
  {
   "cell_type": "code",
   "execution_count": 37,
   "metadata": {},
   "outputs": [],
   "source": [
    "from sklearn.ensemble import RandomForestRegressor\n",
    "from sklearn.model_selection import train_test_split"
   ]
  },
  {
   "cell_type": "code",
   "execution_count": 38,
   "metadata": {},
   "outputs": [],
   "source": [
    "X_train, X_val, y_train, y_val = train_test_split(hourlymean_cd[['hour', 'temp', 'illuminance']], hourlymean_cd['violations'], test_size=0.3, random_state = 1)"
   ]
  },
  {
   "cell_type": "code",
   "execution_count": 39,
   "metadata": {},
   "outputs": [],
   "source": [
    "rf1 = RandomForestRegressor(n_estimators = 200, random_state = 1).fit(X_train, y_train)"
   ]
  },
  {
   "cell_type": "code",
   "execution_count": 40,
   "metadata": {},
   "outputs": [
    {
     "data": {
      "text/plain": [
       "0.04843623629260452"
      ]
     },
     "execution_count": 40,
     "metadata": {},
     "output_type": "execute_result"
    }
   ],
   "source": [
    "rf1.score(X_val, y_val)"
   ]
  },
  {
   "cell_type": "code",
   "execution_count": 41,
   "metadata": {},
   "outputs": [],
   "source": [
    "rf2 = RandomForestRegressor(n_estimators = 200,\n",
    "                            random_state = 1,\n",
    "                           min_samples_leaf = 4).fit(X_train, y_train)"
   ]
  },
  {
   "cell_type": "code",
   "execution_count": 42,
   "metadata": {},
   "outputs": [
    {
     "data": {
      "text/plain": [
       "0.11321852580946346"
      ]
     },
     "execution_count": 42,
     "metadata": {},
     "output_type": "execute_result"
    }
   ],
   "source": [
    "rf2.score(X_val, y_val)"
   ]
  },
  {
   "cell_type": "markdown",
   "metadata": {},
   "source": [
    "# Heatmap intervals and classification"
   ]
  },
  {
   "cell_type": "code",
   "execution_count": 64,
   "metadata": {},
   "outputs": [],
   "source": [
    "# violations for whole time range in specific coordinate box\n",
    "viocount_percoord = police_df.groupby(['Avg_x', 'Avg_y']).count()['JuhtumId']"
   ]
  },
  {
   "cell_type": "code",
   "execution_count": 97,
   "metadata": {},
   "outputs": [],
   "source": [
    "# currently required to input x as XXXXY00, y as XXXY00, where Y is 0 or 5\n",
    "def create_heatmap_data(x_start = 6469500, x_end = 6477500, y_start = 654500, y_end = 663500):\n",
    "    # largest boundaries: x:6464500 .. 6478500, y:645500 .. 668500\n",
    "    x_min, x_max = 6469500, 6477500\n",
    "    y_min, y_max = 654500, 663500\n",
    "    \n",
    "    # if input is out of range\n",
    "    x_start, x_end = max(x_start, x_min), min(x_end, x_max)\n",
    "    y_start, y_end = max(y_start, y_min), min(y_end, y_max)\n",
    "    \n",
    "    # how many squares in each direction\n",
    "    x_len = int((x_end - x_start) / 500)\n",
    "    y_len = int((y_end - y_start) / 500)\n",
    "\n",
    "    # avg_X := XXXXY50, where Y is 2 or 7\n",
    "    # avg_Y := XXXY50, where Y is 2 or 7\n",
    "\n",
    "    # generate all Avg_X from 6464750 to 6478750\n",
    "    avg_xs = range(x_start + 250, x_end + 250, 500)\n",
    "\n",
    "    # generate all Avg_Y from 645750 to 668750\n",
    "    avg_ys = range(y_start + 250, y_end + 250, 500)\n",
    "\n",
    "    # create 2d-array for the heatmap\n",
    "    heatmap_data = np.zeros((x_len, y_len))\n",
    "\n",
    "    for x_idx, x in enumerate(reversed(avg_xs)):\n",
    "        for y_idx, y in enumerate(avg_ys): # reverse ys to start at top left corner\n",
    "            try:\n",
    "                heatmap_data[x_idx][y_idx] = viocount_percoord[(x, y)]\n",
    "                print('At idx ',(x_idx, y_idx),', At coord ',(x, y),\": \", viocount_percoord[(x, y)], ' violations')\n",
    "            except:\n",
    "                heatmap_data[x_idx][y_idx] = 0\n",
    "\n",
    "    return heatmap_data"
   ]
  },
  {
   "cell_type": "code",
   "execution_count": 92,
   "metadata": {},
   "outputs": [
    {
     "name": "stdout",
     "output_type": "stream",
     "text": [
      "At idx  (0, 7) , At coord  (6469750, 659750) :  50  violations\n",
      "At idx  (0, 8) , At coord  (6469750, 659250) :  3  violations\n",
      "At idx  (0, 9) , At coord  (6469750, 658750) :  523  violations\n",
      "At idx  (0, 10) , At coord  (6469750, 658250) :  65  violations\n",
      "At idx  (0, 15) , At coord  (6469750, 655750) :  54  violations\n",
      "At idx  (1, 0) , At coord  (6470250, 663250) :  1  violations\n",
      "At idx  (1, 1) , At coord  (6470250, 662750) :  2  violations\n",
      "At idx  (1, 5) , At coord  (6470250, 660750) :  7  violations\n",
      "At idx  (1, 6) , At coord  (6470250, 660250) :  10  violations\n",
      "At idx  (1, 7) , At coord  (6470250, 659750) :  10  violations\n",
      "At idx  (1, 8) , At coord  (6470250, 659250) :  4  violations\n",
      "At idx  (1, 9) , At coord  (6470250, 658750) :  2  violations\n",
      "At idx  (1, 10) , At coord  (6470250, 658250) :  7  violations\n",
      "At idx  (1, 12) , At coord  (6470250, 657250) :  35  violations\n",
      "At idx  (2, 0) , At coord  (6470750, 663250) :  3  violations\n",
      "At idx  (2, 1) , At coord  (6470750, 662750) :  2  violations\n",
      "At idx  (2, 6) , At coord  (6470750, 660250) :  4  violations\n",
      "At idx  (2, 7) , At coord  (6470750, 659750) :  11  violations\n",
      "At idx  (2, 8) , At coord  (6470750, 659250) :  47  violations\n",
      "At idx  (2, 9) , At coord  (6470750, 658750) :  34  violations\n",
      "At idx  (2, 10) , At coord  (6470750, 658250) :  4  violations\n",
      "At idx  (2, 11) , At coord  (6470750, 657750) :  27  violations\n",
      "At idx  (2, 14) , At coord  (6470750, 656250) :  12  violations\n",
      "At idx  (3, 3) , At coord  (6471250, 661750) :  1  violations\n",
      "At idx  (3, 6) , At coord  (6471250, 660250) :  1  violations\n",
      "At idx  (3, 7) , At coord  (6471250, 659750) :  13  violations\n",
      "At idx  (3, 8) , At coord  (6471250, 659250) :  110  violations\n",
      "At idx  (3, 9) , At coord  (6471250, 658750) :  27  violations\n",
      "At idx  (3, 10) , At coord  (6471250, 658250) :  11  violations\n",
      "At idx  (3, 11) , At coord  (6471250, 657750) :  6  violations\n",
      "At idx  (3, 12) , At coord  (6471250, 657250) :  10  violations\n",
      "At idx  (3, 13) , At coord  (6471250, 656750) :  1300  violations\n",
      "At idx  (4, 0) , At coord  (6471750, 663250) :  3  violations\n",
      "At idx  (4, 1) , At coord  (6471750, 662750) :  9  violations\n",
      "At idx  (4, 6) , At coord  (6471750, 660250) :  6  violations\n",
      "At idx  (4, 7) , At coord  (6471750, 659750) :  36  violations\n",
      "At idx  (4, 8) , At coord  (6471750, 659250) :  79  violations\n",
      "At idx  (4, 9) , At coord  (6471750, 658750) :  14  violations\n",
      "At idx  (4, 10) , At coord  (6471750, 658250) :  6  violations\n",
      "At idx  (4, 11) , At coord  (6471750, 657750) :  14  violations\n",
      "At idx  (4, 12) , At coord  (6471750, 657250) :  11  violations\n",
      "At idx  (4, 13) , At coord  (6471750, 656750) :  35  violations\n",
      "At idx  (4, 14) , At coord  (6471750, 656250) :  2  violations\n",
      "At idx  (4, 17) , At coord  (6471750, 654750) :  16  violations\n",
      "At idx  (5, 0) , At coord  (6472250, 663250) :  1  violations\n",
      "At idx  (5, 1) , At coord  (6472250, 662750) :  26  violations\n",
      "At idx  (5, 2) , At coord  (6472250, 662250) :  2  violations\n",
      "At idx  (5, 5) , At coord  (6472250, 660750) :  1  violations\n",
      "At idx  (5, 6) , At coord  (6472250, 660250) :  213  violations\n",
      "At idx  (5, 7) , At coord  (6472250, 659750) :  20  violations\n",
      "At idx  (5, 8) , At coord  (6472250, 659250) :  83  violations\n",
      "At idx  (5, 9) , At coord  (6472250, 658750) :  74  violations\n",
      "At idx  (5, 10) , At coord  (6472250, 658250) :  48  violations\n",
      "At idx  (5, 11) , At coord  (6472250, 657750) :  20  violations\n",
      "At idx  (5, 12) , At coord  (6472250, 657250) :  18  violations\n",
      "At idx  (5, 13) , At coord  (6472250, 656750) :  860  violations\n",
      "At idx  (5, 14) , At coord  (6472250, 656250) :  18  violations\n",
      "At idx  (5, 15) , At coord  (6472250, 655750) :  26  violations\n",
      "At idx  (5, 17) , At coord  (6472250, 654750) :  2  violations\n",
      "At idx  (6, 1) , At coord  (6472750, 662750) :  1  violations\n",
      "At idx  (6, 2) , At coord  (6472750, 662250) :  5  violations\n",
      "At idx  (6, 3) , At coord  (6472750, 661750) :  3  violations\n",
      "At idx  (6, 4) , At coord  (6472750, 661250) :  6  violations\n",
      "At idx  (6, 5) , At coord  (6472750, 660750) :  4  violations\n",
      "At idx  (6, 6) , At coord  (6472750, 660250) :  22  violations\n",
      "At idx  (6, 7) , At coord  (6472750, 659750) :  56  violations\n",
      "At idx  (6, 8) , At coord  (6472750, 659250) :  105  violations\n",
      "At idx  (6, 9) , At coord  (6472750, 658750) :  8  violations\n",
      "At idx  (6, 10) , At coord  (6472750, 658250) :  58  violations\n",
      "At idx  (6, 11) , At coord  (6472750, 657750) :  4  violations\n",
      "At idx  (6, 12) , At coord  (6472750, 657250) :  23  violations\n",
      "At idx  (6, 13) , At coord  (6472750, 656750) :  65  violations\n",
      "At idx  (6, 15) , At coord  (6472750, 655750) :  1  violations\n",
      "At idx  (7, 0) , At coord  (6473250, 663250) :  2  violations\n",
      "At idx  (7, 1) , At coord  (6473250, 662750) :  7  violations\n",
      "At idx  (7, 2) , At coord  (6473250, 662250) :  10  violations\n",
      "At idx  (7, 3) , At coord  (6473250, 661750) :  71  violations\n",
      "At idx  (7, 4) , At coord  (6473250, 661250) :  8  violations\n",
      "At idx  (7, 5) , At coord  (6473250, 660750) :  1  violations\n",
      "At idx  (7, 6) , At coord  (6473250, 660250) :  73  violations\n",
      "At idx  (7, 7) , At coord  (6473250, 659750) :  64  violations\n",
      "At idx  (7, 8) , At coord  (6473250, 659250) :  27  violations\n",
      "At idx  (7, 9) , At coord  (6473250, 658750) :  184  violations\n",
      "At idx  (7, 10) , At coord  (6473250, 658250) :  18  violations\n",
      "At idx  (7, 11) , At coord  (6473250, 657750) :  5  violations\n",
      "At idx  (7, 12) , At coord  (6473250, 657250) :  21  violations\n",
      "At idx  (7, 13) , At coord  (6473250, 656750) :  20  violations\n",
      "At idx  (8, 0) , At coord  (6473750, 663250) :  17  violations\n",
      "At idx  (8, 1) , At coord  (6473750, 662750) :  9  violations\n",
      "At idx  (8, 2) , At coord  (6473750, 662250) :  18  violations\n",
      "At idx  (8, 3) , At coord  (6473750, 661750) :  22  violations\n",
      "At idx  (8, 4) , At coord  (6473750, 661250) :  73  violations\n",
      "At idx  (8, 5) , At coord  (6473750, 660750) :  502  violations\n",
      "At idx  (8, 6) , At coord  (6473750, 660250) :  16  violations\n",
      "At idx  (8, 7) , At coord  (6473750, 659750) :  86  violations\n",
      "At idx  (8, 8) , At coord  (6473750, 659250) :  427  violations\n",
      "At idx  (8, 9) , At coord  (6473750, 658750) :  22  violations\n",
      "At idx  (8, 10) , At coord  (6473750, 658250) :  13  violations\n",
      "At idx  (8, 11) , At coord  (6473750, 657750) :  49  violations\n",
      "At idx  (8, 12) , At coord  (6473750, 657250) :  18  violations\n",
      "At idx  (8, 13) , At coord  (6473750, 656750) :  22  violations\n",
      "At idx  (9, 0) , At coord  (6474250, 663250) :  1  violations\n",
      "At idx  (9, 1) , At coord  (6474250, 662750) :  2  violations\n",
      "At idx  (9, 2) , At coord  (6474250, 662250) :  66  violations\n",
      "At idx  (9, 3) , At coord  (6474250, 661750) :  20  violations\n",
      "At idx  (9, 4) , At coord  (6474250, 661250) :  164  violations\n",
      "At idx  (9, 5) , At coord  (6474250, 660750) :  86  violations\n",
      "At idx  (9, 6) , At coord  (6474250, 660250) :  77  violations\n",
      "At idx  (9, 7) , At coord  (6474250, 659750) :  1114  violations\n",
      "At idx  (9, 8) , At coord  (6474250, 659250) :  156  violations\n",
      "At idx  (9, 9) , At coord  (6474250, 658750) :  109  violations\n",
      "At idx  (9, 10) , At coord  (6474250, 658250) :  103  violations\n",
      "At idx  (9, 11) , At coord  (6474250, 657750) :  7  violations\n",
      "At idx  (9, 12) , At coord  (6474250, 657250) :  3  violations\n",
      "At idx  (9, 13) , At coord  (6474250, 656750) :  99  violations\n",
      "At idx  (9, 14) , At coord  (6474250, 656250) :  184  violations\n",
      "At idx  (9, 16) , At coord  (6474250, 655250) :  5  violations\n",
      "At idx  (10, 0) , At coord  (6474750, 663250) :  2  violations\n",
      "At idx  (10, 1) , At coord  (6474750, 662750) :  4  violations\n",
      "At idx  (10, 3) , At coord  (6474750, 661750) :  24  violations\n",
      "At idx  (10, 4) , At coord  (6474750, 661250) :  15  violations\n",
      "At idx  (10, 5) , At coord  (6474750, 660750) :  62  violations\n",
      "At idx  (10, 6) , At coord  (6474750, 660250) :  202  violations\n",
      "At idx  (10, 7) , At coord  (6474750, 659750) :  203  violations\n",
      "At idx  (10, 8) , At coord  (6474750, 659250) :  600  violations\n",
      "At idx  (10, 9) , At coord  (6474750, 658750) :  161  violations\n",
      "At idx  (10, 10) , At coord  (6474750, 658250) :  23  violations\n",
      "At idx  (10, 11) , At coord  (6474750, 657750) :  9  violations\n",
      "At idx  (10, 12) , At coord  (6474750, 657250) :  158  violations\n",
      "At idx  (10, 14) , At coord  (6474750, 656250) :  1  violations\n",
      "At idx  (11, 1) , At coord  (6475250, 662750) :  25  violations\n",
      "At idx  (11, 4) , At coord  (6475250, 661250) :  2  violations\n",
      "At idx  (11, 5) , At coord  (6475250, 660750) :  5  violations\n",
      "At idx  (11, 6) , At coord  (6475250, 660250) :  11  violations\n",
      "At idx  (11, 7) , At coord  (6475250, 659750) :  14  violations\n",
      "At idx  (11, 8) , At coord  (6475250, 659250) :  399  violations\n",
      "At idx  (11, 9) , At coord  (6475250, 658750) :  11  violations\n",
      "At idx  (11, 10) , At coord  (6475250, 658250) :  42  violations\n",
      "At idx  (11, 11) , At coord  (6475250, 657750) :  5  violations\n",
      "At idx  (11, 12) , At coord  (6475250, 657250) :  25  violations\n",
      "At idx  (11, 13) , At coord  (6475250, 656750) :  76  violations\n",
      "At idx  (11, 15) , At coord  (6475250, 655750) :  13  violations\n",
      "At idx  (12, 5) , At coord  (6475750, 660750) :  5  violations\n",
      "At idx  (12, 7) , At coord  (6475750, 659750) :  48  violations\n",
      "At idx  (12, 8) , At coord  (6475750, 659250) :  15  violations\n",
      "At idx  (12, 9) , At coord  (6475750, 658750) :  52  violations\n",
      "At idx  (12, 10) , At coord  (6475750, 658250) :  2  violations\n",
      "At idx  (12, 12) , At coord  (6475750, 657250) :  1  violations\n",
      "At idx  (13, 6) , At coord  (6476250, 660250) :  1  violations\n",
      "At idx  (13, 7) , At coord  (6476250, 659750) :  3  violations\n",
      "At idx  (13, 8) , At coord  (6476250, 659250) :  5  violations\n",
      "At idx  (13, 9) , At coord  (6476250, 658750) :  139  violations\n",
      "At idx  (13, 10) , At coord  (6476250, 658250) :  10  violations\n",
      "At idx  (13, 12) , At coord  (6476250, 657250) :  1  violations\n",
      "At idx  (13, 15) , At coord  (6476250, 655750) :  8  violations\n",
      "At idx  (14, 7) , At coord  (6476750, 659750) :  10  violations\n",
      "At idx  (14, 8) , At coord  (6476750, 659250) :  32  violations\n",
      "At idx  (14, 9) , At coord  (6476750, 658750) :  29  violations\n",
      "At idx  (14, 10) , At coord  (6476750, 658250) :  52  violations\n",
      "At idx  (14, 13) , At coord  (6476750, 656750) :  62  violations\n",
      "At idx  (14, 16) , At coord  (6476750, 655250) :  3  violations\n",
      "At idx  (15, 6) , At coord  (6477250, 660250) :  4  violations\n",
      "At idx  (15, 7) , At coord  (6477250, 659750) :  46  violations\n",
      "At idx  (15, 8) , At coord  (6477250, 659250) :  77  violations\n",
      "At idx  (15, 10) , At coord  (6477250, 658250) :  105  violations\n",
      "At idx  (15, 15) , At coord  (6477250, 655750) :  23  violations\n"
     ]
    },
    {
     "data": {
      "text/plain": [
       "array([[0.000e+00, 0.000e+00, 0.000e+00, 0.000e+00, 0.000e+00, 0.000e+00,\n",
       "        0.000e+00, 5.000e+01, 3.000e+00, 5.230e+02, 6.500e+01, 0.000e+00,\n",
       "        0.000e+00, 0.000e+00, 0.000e+00, 5.400e+01, 0.000e+00, 0.000e+00],\n",
       "       [1.000e+00, 2.000e+00, 0.000e+00, 0.000e+00, 0.000e+00, 7.000e+00,\n",
       "        1.000e+01, 1.000e+01, 4.000e+00, 2.000e+00, 7.000e+00, 0.000e+00,\n",
       "        3.500e+01, 0.000e+00, 0.000e+00, 0.000e+00, 0.000e+00, 0.000e+00],\n",
       "       [3.000e+00, 2.000e+00, 0.000e+00, 0.000e+00, 0.000e+00, 0.000e+00,\n",
       "        4.000e+00, 1.100e+01, 4.700e+01, 3.400e+01, 4.000e+00, 2.700e+01,\n",
       "        0.000e+00, 0.000e+00, 1.200e+01, 0.000e+00, 0.000e+00, 0.000e+00],\n",
       "       [0.000e+00, 0.000e+00, 0.000e+00, 1.000e+00, 0.000e+00, 0.000e+00,\n",
       "        1.000e+00, 1.300e+01, 1.100e+02, 2.700e+01, 1.100e+01, 6.000e+00,\n",
       "        1.000e+01, 1.300e+03, 0.000e+00, 0.000e+00, 0.000e+00, 0.000e+00],\n",
       "       [3.000e+00, 9.000e+00, 0.000e+00, 0.000e+00, 0.000e+00, 0.000e+00,\n",
       "        6.000e+00, 3.600e+01, 7.900e+01, 1.400e+01, 6.000e+00, 1.400e+01,\n",
       "        1.100e+01, 3.500e+01, 2.000e+00, 0.000e+00, 0.000e+00, 1.600e+01],\n",
       "       [1.000e+00, 2.600e+01, 2.000e+00, 0.000e+00, 0.000e+00, 1.000e+00,\n",
       "        2.130e+02, 2.000e+01, 8.300e+01, 7.400e+01, 4.800e+01, 2.000e+01,\n",
       "        1.800e+01, 8.600e+02, 1.800e+01, 2.600e+01, 0.000e+00, 2.000e+00],\n",
       "       [0.000e+00, 1.000e+00, 5.000e+00, 3.000e+00, 6.000e+00, 4.000e+00,\n",
       "        2.200e+01, 5.600e+01, 1.050e+02, 8.000e+00, 5.800e+01, 4.000e+00,\n",
       "        2.300e+01, 6.500e+01, 0.000e+00, 1.000e+00, 0.000e+00, 0.000e+00],\n",
       "       [2.000e+00, 7.000e+00, 1.000e+01, 7.100e+01, 8.000e+00, 1.000e+00,\n",
       "        7.300e+01, 6.400e+01, 2.700e+01, 1.840e+02, 1.800e+01, 5.000e+00,\n",
       "        2.100e+01, 2.000e+01, 0.000e+00, 0.000e+00, 0.000e+00, 0.000e+00],\n",
       "       [1.700e+01, 9.000e+00, 1.800e+01, 2.200e+01, 7.300e+01, 5.020e+02,\n",
       "        1.600e+01, 8.600e+01, 4.270e+02, 2.200e+01, 1.300e+01, 4.900e+01,\n",
       "        1.800e+01, 2.200e+01, 0.000e+00, 0.000e+00, 0.000e+00, 0.000e+00],\n",
       "       [1.000e+00, 2.000e+00, 6.600e+01, 2.000e+01, 1.640e+02, 8.600e+01,\n",
       "        7.700e+01, 1.114e+03, 1.560e+02, 1.090e+02, 1.030e+02, 7.000e+00,\n",
       "        3.000e+00, 9.900e+01, 1.840e+02, 0.000e+00, 5.000e+00, 0.000e+00],\n",
       "       [2.000e+00, 4.000e+00, 0.000e+00, 2.400e+01, 1.500e+01, 6.200e+01,\n",
       "        2.020e+02, 2.030e+02, 6.000e+02, 1.610e+02, 2.300e+01, 9.000e+00,\n",
       "        1.580e+02, 0.000e+00, 1.000e+00, 0.000e+00, 0.000e+00, 0.000e+00],\n",
       "       [0.000e+00, 2.500e+01, 0.000e+00, 0.000e+00, 2.000e+00, 5.000e+00,\n",
       "        1.100e+01, 1.400e+01, 3.990e+02, 1.100e+01, 4.200e+01, 5.000e+00,\n",
       "        2.500e+01, 7.600e+01, 0.000e+00, 1.300e+01, 0.000e+00, 0.000e+00],\n",
       "       [0.000e+00, 0.000e+00, 0.000e+00, 0.000e+00, 0.000e+00, 5.000e+00,\n",
       "        0.000e+00, 4.800e+01, 1.500e+01, 5.200e+01, 2.000e+00, 0.000e+00,\n",
       "        1.000e+00, 0.000e+00, 0.000e+00, 0.000e+00, 0.000e+00, 0.000e+00],\n",
       "       [0.000e+00, 0.000e+00, 0.000e+00, 0.000e+00, 0.000e+00, 0.000e+00,\n",
       "        1.000e+00, 3.000e+00, 5.000e+00, 1.390e+02, 1.000e+01, 0.000e+00,\n",
       "        1.000e+00, 0.000e+00, 0.000e+00, 8.000e+00, 0.000e+00, 0.000e+00],\n",
       "       [0.000e+00, 0.000e+00, 0.000e+00, 0.000e+00, 0.000e+00, 0.000e+00,\n",
       "        0.000e+00, 1.000e+01, 3.200e+01, 2.900e+01, 5.200e+01, 0.000e+00,\n",
       "        0.000e+00, 6.200e+01, 0.000e+00, 0.000e+00, 3.000e+00, 0.000e+00],\n",
       "       [0.000e+00, 0.000e+00, 0.000e+00, 0.000e+00, 0.000e+00, 0.000e+00,\n",
       "        4.000e+00, 4.600e+01, 7.700e+01, 0.000e+00, 1.050e+02, 0.000e+00,\n",
       "        0.000e+00, 0.000e+00, 0.000e+00, 2.300e+01, 0.000e+00, 0.000e+00]])"
      ]
     },
     "execution_count": 92,
     "metadata": {},
     "output_type": "execute_result"
    }
   ],
   "source": [
    "create_heatmap_data()"
   ]
  },
  {
   "cell_type": "code",
   "execution_count": 81,
   "metadata": {},
   "outputs": [],
   "source": [
    "from matplotlib import image, cm\n",
    "from matplotlib.colors import LinearSegmentedColormap\n",
    "import seaborn as sns \n",
    "import numpy.random as random\n",
    "sns.set(font_scale=1.4)"
   ]
  },
  {
   "cell_type": "code",
   "execution_count": 85,
   "metadata": {},
   "outputs": [
    {
     "data": {
      "text/plain": [
       "6476250"
      ]
     },
     "execution_count": 85,
     "metadata": {},
     "output_type": "execute_result"
    }
   ],
   "source": [
    "6469750 + 13 * 500"
   ]
  },
  {
   "cell_type": "code",
   "execution_count": 86,
   "metadata": {},
   "outputs": [
    {
     "data": {
      "text/plain": [
       "656250"
      ]
     },
     "execution_count": 86,
     "metadata": {},
     "output_type": "execute_result"
    }
   ],
   "source": [
    "\n",
    "654750 + 3 * 500"
   ]
  },
  {
   "cell_type": "code",
   "execution_count": 103,
   "metadata": {},
   "outputs": [],
   "source": [
    "def show_heatmap(hmap_data, image_name):\n",
    "    \n",
    "    x_min, x_max = 6469500, 6477500\n",
    "    y_min, y_max = 654500, 663500\n",
    "    \n",
    "    x_range = x_max - x_min\n",
    "    y_range = y_max - y_min\n",
    "    \n",
    "    # aspect ratio (+8 for the scale)\n",
    "    plt.rcParams['figure.figsize'] = (40 + 10), round(40 * (x_max - x_min) / (y_max - y_start))\n",
    "    \n",
    "    wd = plt.cm.winter._segmentdata\n",
    "    wd['alpha'] = ((0.0, 0.0, 0.3), \n",
    "               (0.3, 0.3, 1.0),\n",
    "               (1.0, 1.0, 1.0))\n",
    "    al_winter = LinearSegmentedColormap('AlphaWinter', wd) \n",
    "\n",
    "    # get the map image as array to be able to plot it \n",
    "    map_img = image.imread(image_name)\n",
    "\n",
    "    hmax = sns.heatmap(hmap_data,\n",
    "                cmap = al_winter,\n",
    "                alpha = 0.4, # whole heatmap is translucent\n",
    "                annot = False, # display violation counts\n",
    "                zorder = 2,\n",
    "                fmt = 'g', # change number formatting to not use scientific\n",
    "                )\n",
    "    \n",
    "    hmax.imshow(map_img,\n",
    "              aspect = hmax.get_aspect(),\n",
    "              extent = hmax.get_xlim() + hmax.get_ylim(),\n",
    "              zorder = 1) #put the map under the heatmap\n",
    "\n",
    "    plt.show()"
   ]
  },
  {
   "cell_type": "code",
   "execution_count": 104,
   "metadata": {
    "scrolled": true
   },
   "outputs": [
    {
     "name": "stdout",
     "output_type": "stream",
     "text": [
      "At idx  (0, 2) , At coord  (6477250, 655750) :  23  violations\n",
      "At idx  (0, 7) , At coord  (6477250, 658250) :  105  violations\n",
      "At idx  (0, 9) , At coord  (6477250, 659250) :  77  violations\n",
      "At idx  (0, 10) , At coord  (6477250, 659750) :  46  violations\n",
      "At idx  (0, 11) , At coord  (6477250, 660250) :  4  violations\n",
      "At idx  (1, 1) , At coord  (6476750, 655250) :  3  violations\n",
      "At idx  (1, 4) , At coord  (6476750, 656750) :  62  violations\n",
      "At idx  (1, 7) , At coord  (6476750, 658250) :  52  violations\n",
      "At idx  (1, 8) , At coord  (6476750, 658750) :  29  violations\n",
      "At idx  (1, 9) , At coord  (6476750, 659250) :  32  violations\n",
      "At idx  (1, 10) , At coord  (6476750, 659750) :  10  violations\n",
      "At idx  (2, 2) , At coord  (6476250, 655750) :  8  violations\n",
      "At idx  (2, 5) , At coord  (6476250, 657250) :  1  violations\n",
      "At idx  (2, 7) , At coord  (6476250, 658250) :  10  violations\n",
      "At idx  (2, 8) , At coord  (6476250, 658750) :  139  violations\n",
      "At idx  (2, 9) , At coord  (6476250, 659250) :  5  violations\n",
      "At idx  (2, 10) , At coord  (6476250, 659750) :  3  violations\n",
      "At idx  (2, 11) , At coord  (6476250, 660250) :  1  violations\n",
      "At idx  (3, 5) , At coord  (6475750, 657250) :  1  violations\n",
      "At idx  (3, 7) , At coord  (6475750, 658250) :  2  violations\n",
      "At idx  (3, 8) , At coord  (6475750, 658750) :  52  violations\n",
      "At idx  (3, 9) , At coord  (6475750, 659250) :  15  violations\n",
      "At idx  (3, 10) , At coord  (6475750, 659750) :  48  violations\n",
      "At idx  (3, 12) , At coord  (6475750, 660750) :  5  violations\n",
      "At idx  (4, 2) , At coord  (6475250, 655750) :  13  violations\n",
      "At idx  (4, 4) , At coord  (6475250, 656750) :  76  violations\n",
      "At idx  (4, 5) , At coord  (6475250, 657250) :  25  violations\n",
      "At idx  (4, 6) , At coord  (6475250, 657750) :  5  violations\n",
      "At idx  (4, 7) , At coord  (6475250, 658250) :  42  violations\n",
      "At idx  (4, 8) , At coord  (6475250, 658750) :  11  violations\n",
      "At idx  (4, 9) , At coord  (6475250, 659250) :  399  violations\n",
      "At idx  (4, 10) , At coord  (6475250, 659750) :  14  violations\n",
      "At idx  (4, 11) , At coord  (6475250, 660250) :  11  violations\n",
      "At idx  (4, 12) , At coord  (6475250, 660750) :  5  violations\n",
      "At idx  (4, 13) , At coord  (6475250, 661250) :  2  violations\n",
      "At idx  (4, 16) , At coord  (6475250, 662750) :  25  violations\n",
      "At idx  (5, 3) , At coord  (6474750, 656250) :  1  violations\n",
      "At idx  (5, 5) , At coord  (6474750, 657250) :  158  violations\n",
      "At idx  (5, 6) , At coord  (6474750, 657750) :  9  violations\n",
      "At idx  (5, 7) , At coord  (6474750, 658250) :  23  violations\n",
      "At idx  (5, 8) , At coord  (6474750, 658750) :  161  violations\n",
      "At idx  (5, 9) , At coord  (6474750, 659250) :  600  violations\n",
      "At idx  (5, 10) , At coord  (6474750, 659750) :  203  violations\n",
      "At idx  (5, 11) , At coord  (6474750, 660250) :  202  violations\n",
      "At idx  (5, 12) , At coord  (6474750, 660750) :  62  violations\n",
      "At idx  (5, 13) , At coord  (6474750, 661250) :  15  violations\n",
      "At idx  (5, 14) , At coord  (6474750, 661750) :  24  violations\n",
      "At idx  (5, 16) , At coord  (6474750, 662750) :  4  violations\n",
      "At idx  (5, 17) , At coord  (6474750, 663250) :  2  violations\n",
      "At idx  (6, 1) , At coord  (6474250, 655250) :  5  violations\n",
      "At idx  (6, 3) , At coord  (6474250, 656250) :  184  violations\n",
      "At idx  (6, 4) , At coord  (6474250, 656750) :  99  violations\n",
      "At idx  (6, 5) , At coord  (6474250, 657250) :  3  violations\n",
      "At idx  (6, 6) , At coord  (6474250, 657750) :  7  violations\n",
      "At idx  (6, 7) , At coord  (6474250, 658250) :  103  violations\n",
      "At idx  (6, 8) , At coord  (6474250, 658750) :  109  violations\n",
      "At idx  (6, 9) , At coord  (6474250, 659250) :  156  violations\n",
      "At idx  (6, 10) , At coord  (6474250, 659750) :  1114  violations\n",
      "At idx  (6, 11) , At coord  (6474250, 660250) :  77  violations\n",
      "At idx  (6, 12) , At coord  (6474250, 660750) :  86  violations\n",
      "At idx  (6, 13) , At coord  (6474250, 661250) :  164  violations\n",
      "At idx  (6, 14) , At coord  (6474250, 661750) :  20  violations\n",
      "At idx  (6, 15) , At coord  (6474250, 662250) :  66  violations\n",
      "At idx  (6, 16) , At coord  (6474250, 662750) :  2  violations\n",
      "At idx  (6, 17) , At coord  (6474250, 663250) :  1  violations\n",
      "At idx  (7, 4) , At coord  (6473750, 656750) :  22  violations\n",
      "At idx  (7, 5) , At coord  (6473750, 657250) :  18  violations\n",
      "At idx  (7, 6) , At coord  (6473750, 657750) :  49  violations\n",
      "At idx  (7, 7) , At coord  (6473750, 658250) :  13  violations\n",
      "At idx  (7, 8) , At coord  (6473750, 658750) :  22  violations\n",
      "At idx  (7, 9) , At coord  (6473750, 659250) :  427  violations\n",
      "At idx  (7, 10) , At coord  (6473750, 659750) :  86  violations\n",
      "At idx  (7, 11) , At coord  (6473750, 660250) :  16  violations\n",
      "At idx  (7, 12) , At coord  (6473750, 660750) :  502  violations\n",
      "At idx  (7, 13) , At coord  (6473750, 661250) :  73  violations\n",
      "At idx  (7, 14) , At coord  (6473750, 661750) :  22  violations\n",
      "At idx  (7, 15) , At coord  (6473750, 662250) :  18  violations\n",
      "At idx  (7, 16) , At coord  (6473750, 662750) :  9  violations\n",
      "At idx  (7, 17) , At coord  (6473750, 663250) :  17  violations\n",
      "At idx  (8, 4) , At coord  (6473250, 656750) :  20  violations\n",
      "At idx  (8, 5) , At coord  (6473250, 657250) :  21  violations\n",
      "At idx  (8, 6) , At coord  (6473250, 657750) :  5  violations\n",
      "At idx  (8, 7) , At coord  (6473250, 658250) :  18  violations\n",
      "At idx  (8, 8) , At coord  (6473250, 658750) :  184  violations\n",
      "At idx  (8, 9) , At coord  (6473250, 659250) :  27  violations\n",
      "At idx  (8, 10) , At coord  (6473250, 659750) :  64  violations\n",
      "At idx  (8, 11) , At coord  (6473250, 660250) :  73  violations\n",
      "At idx  (8, 12) , At coord  (6473250, 660750) :  1  violations\n",
      "At idx  (8, 13) , At coord  (6473250, 661250) :  8  violations\n",
      "At idx  (8, 14) , At coord  (6473250, 661750) :  71  violations\n",
      "At idx  (8, 15) , At coord  (6473250, 662250) :  10  violations\n",
      "At idx  (8, 16) , At coord  (6473250, 662750) :  7  violations\n",
      "At idx  (8, 17) , At coord  (6473250, 663250) :  2  violations\n",
      "At idx  (9, 2) , At coord  (6472750, 655750) :  1  violations\n",
      "At idx  (9, 4) , At coord  (6472750, 656750) :  65  violations\n",
      "At idx  (9, 5) , At coord  (6472750, 657250) :  23  violations\n",
      "At idx  (9, 6) , At coord  (6472750, 657750) :  4  violations\n",
      "At idx  (9, 7) , At coord  (6472750, 658250) :  58  violations\n",
      "At idx  (9, 8) , At coord  (6472750, 658750) :  8  violations\n",
      "At idx  (9, 9) , At coord  (6472750, 659250) :  105  violations\n",
      "At idx  (9, 10) , At coord  (6472750, 659750) :  56  violations\n",
      "At idx  (9, 11) , At coord  (6472750, 660250) :  22  violations\n",
      "At idx  (9, 12) , At coord  (6472750, 660750) :  4  violations\n",
      "At idx  (9, 13) , At coord  (6472750, 661250) :  6  violations\n",
      "At idx  (9, 14) , At coord  (6472750, 661750) :  3  violations\n",
      "At idx  (9, 15) , At coord  (6472750, 662250) :  5  violations\n",
      "At idx  (9, 16) , At coord  (6472750, 662750) :  1  violations\n",
      "At idx  (10, 0) , At coord  (6472250, 654750) :  2  violations\n",
      "At idx  (10, 2) , At coord  (6472250, 655750) :  26  violations\n",
      "At idx  (10, 3) , At coord  (6472250, 656250) :  18  violations\n",
      "At idx  (10, 4) , At coord  (6472250, 656750) :  860  violations\n",
      "At idx  (10, 5) , At coord  (6472250, 657250) :  18  violations\n",
      "At idx  (10, 6) , At coord  (6472250, 657750) :  20  violations\n",
      "At idx  (10, 7) , At coord  (6472250, 658250) :  48  violations\n",
      "At idx  (10, 8) , At coord  (6472250, 658750) :  74  violations\n",
      "At idx  (10, 9) , At coord  (6472250, 659250) :  83  violations\n",
      "At idx  (10, 10) , At coord  (6472250, 659750) :  20  violations\n",
      "At idx  (10, 11) , At coord  (6472250, 660250) :  213  violations\n",
      "At idx  (10, 12) , At coord  (6472250, 660750) :  1  violations\n",
      "At idx  (10, 15) , At coord  (6472250, 662250) :  2  violations\n",
      "At idx  (10, 16) , At coord  (6472250, 662750) :  26  violations\n",
      "At idx  (10, 17) , At coord  (6472250, 663250) :  1  violations\n",
      "At idx  (11, 0) , At coord  (6471750, 654750) :  16  violations\n",
      "At idx  (11, 3) , At coord  (6471750, 656250) :  2  violations\n",
      "At idx  (11, 4) , At coord  (6471750, 656750) :  35  violations\n",
      "At idx  (11, 5) , At coord  (6471750, 657250) :  11  violations\n",
      "At idx  (11, 6) , At coord  (6471750, 657750) :  14  violations\n",
      "At idx  (11, 7) , At coord  (6471750, 658250) :  6  violations\n",
      "At idx  (11, 8) , At coord  (6471750, 658750) :  14  violations\n",
      "At idx  (11, 9) , At coord  (6471750, 659250) :  79  violations\n",
      "At idx  (11, 10) , At coord  (6471750, 659750) :  36  violations\n",
      "At idx  (11, 11) , At coord  (6471750, 660250) :  6  violations\n",
      "At idx  (11, 16) , At coord  (6471750, 662750) :  9  violations\n",
      "At idx  (11, 17) , At coord  (6471750, 663250) :  3  violations\n",
      "At idx  (12, 4) , At coord  (6471250, 656750) :  1300  violations\n",
      "At idx  (12, 5) , At coord  (6471250, 657250) :  10  violations\n",
      "At idx  (12, 6) , At coord  (6471250, 657750) :  6  violations\n",
      "At idx  (12, 7) , At coord  (6471250, 658250) :  11  violations\n",
      "At idx  (12, 8) , At coord  (6471250, 658750) :  27  violations\n",
      "At idx  (12, 9) , At coord  (6471250, 659250) :  110  violations\n",
      "At idx  (12, 10) , At coord  (6471250, 659750) :  13  violations\n",
      "At idx  (12, 11) , At coord  (6471250, 660250) :  1  violations\n",
      "At idx  (12, 14) , At coord  (6471250, 661750) :  1  violations\n",
      "At idx  (13, 3) , At coord  (6470750, 656250) :  12  violations\n",
      "At idx  (13, 6) , At coord  (6470750, 657750) :  27  violations\n",
      "At idx  (13, 7) , At coord  (6470750, 658250) :  4  violations\n",
      "At idx  (13, 8) , At coord  (6470750, 658750) :  34  violations\n",
      "At idx  (13, 9) , At coord  (6470750, 659250) :  47  violations\n",
      "At idx  (13, 10) , At coord  (6470750, 659750) :  11  violations\n",
      "At idx  (13, 11) , At coord  (6470750, 660250) :  4  violations\n",
      "At idx  (13, 16) , At coord  (6470750, 662750) :  2  violations\n",
      "At idx  (13, 17) , At coord  (6470750, 663250) :  3  violations\n",
      "At idx  (14, 5) , At coord  (6470250, 657250) :  35  violations\n",
      "At idx  (14, 7) , At coord  (6470250, 658250) :  7  violations\n",
      "At idx  (14, 8) , At coord  (6470250, 658750) :  2  violations\n",
      "At idx  (14, 9) , At coord  (6470250, 659250) :  4  violations\n",
      "At idx  (14, 10) , At coord  (6470250, 659750) :  10  violations\n",
      "At idx  (14, 11) , At coord  (6470250, 660250) :  10  violations\n",
      "At idx  (14, 12) , At coord  (6470250, 660750) :  7  violations\n",
      "At idx  (14, 16) , At coord  (6470250, 662750) :  2  violations\n",
      "At idx  (14, 17) , At coord  (6470250, 663250) :  1  violations\n",
      "At idx  (15, 2) , At coord  (6469750, 655750) :  54  violations\n",
      "At idx  (15, 7) , At coord  (6469750, 658250) :  65  violations\n",
      "At idx  (15, 8) , At coord  (6469750, 658750) :  523  violations\n",
      "At idx  (15, 9) , At coord  (6469750, 659250) :  3  violations\n",
      "At idx  (15, 10) , At coord  (6469750, 659750) :  50  violations\n"
     ]
    },
    {
     "ename": "NameError",
     "evalue": "name 'x_end' is not defined",
     "output_type": "error",
     "traceback": [
      "\u001b[1;31m---------------------------------------------------------------------------\u001b[0m",
      "\u001b[1;31mNameError\u001b[0m                                 Traceback (most recent call last)",
      "\u001b[1;32m<ipython-input-104-86c41e9cb615>\u001b[0m in \u001b[0;36m<module>\u001b[1;34m()\u001b[0m\n\u001b[0;32m      1\u001b[0m \u001b[0mhmap\u001b[0m \u001b[1;33m=\u001b[0m \u001b[0mcreate_heatmap_data\u001b[0m\u001b[1;33m(\u001b[0m\u001b[1;33m)\u001b[0m\u001b[1;33m\u001b[0m\u001b[0m\n\u001b[0;32m      2\u001b[0m show_heatmap(hmap_data = hmap, \n\u001b[1;32m----> 3\u001b[1;33m              image_name = 'gmaps_tartu_smaller.png')\n\u001b[0m",
      "\u001b[1;32m<ipython-input-103-3536714f87c0>\u001b[0m in \u001b[0;36mshow_heatmap\u001b[1;34m(hmap_data, image_name)\u001b[0m\n\u001b[0;32m      8\u001b[0m \u001b[1;33m\u001b[0m\u001b[0m\n\u001b[0;32m      9\u001b[0m     \u001b[1;31m# aspect ratio (+8 for the scale)\u001b[0m\u001b[1;33m\u001b[0m\u001b[1;33m\u001b[0m\u001b[0m\n\u001b[1;32m---> 10\u001b[1;33m     \u001b[0mplt\u001b[0m\u001b[1;33m.\u001b[0m\u001b[0mrcParams\u001b[0m\u001b[1;33m[\u001b[0m\u001b[1;34m'figure.figsize'\u001b[0m\u001b[1;33m]\u001b[0m \u001b[1;33m=\u001b[0m \u001b[1;33m(\u001b[0m\u001b[1;36m40\u001b[0m \u001b[1;33m+\u001b[0m \u001b[1;36m10\u001b[0m\u001b[1;33m)\u001b[0m\u001b[1;33m,\u001b[0m \u001b[0mround\u001b[0m\u001b[1;33m(\u001b[0m\u001b[1;36m40\u001b[0m \u001b[1;33m*\u001b[0m \u001b[1;33m(\u001b[0m\u001b[0mx_end\u001b[0m \u001b[1;33m-\u001b[0m \u001b[0mx_start\u001b[0m\u001b[1;33m)\u001b[0m \u001b[1;33m/\u001b[0m \u001b[1;33m(\u001b[0m\u001b[0my_end\u001b[0m \u001b[1;33m-\u001b[0m \u001b[0my_start\u001b[0m\u001b[1;33m)\u001b[0m\u001b[1;33m)\u001b[0m\u001b[1;33m\u001b[0m\u001b[0m\n\u001b[0m\u001b[0;32m     11\u001b[0m \u001b[1;33m\u001b[0m\u001b[0m\n\u001b[0;32m     12\u001b[0m     \u001b[0mwd\u001b[0m \u001b[1;33m=\u001b[0m \u001b[0mplt\u001b[0m\u001b[1;33m.\u001b[0m\u001b[0mcm\u001b[0m\u001b[1;33m.\u001b[0m\u001b[0mwinter\u001b[0m\u001b[1;33m.\u001b[0m\u001b[0m_segmentdata\u001b[0m\u001b[1;33m\u001b[0m\u001b[0m\n",
      "\u001b[1;31mNameError\u001b[0m: name 'x_end' is not defined"
     ]
    }
   ],
   "source": [
    "hmap = create_heatmap_data()\n",
    "show_heatmap(hmap_data = hmap, \n",
    "             image_name = 'gmaps_tartu_smaller.png')"
   ]
  },
  {
   "cell_type": "code",
   "execution_count": 48,
   "metadata": {},
   "outputs": [],
   "source": [
    "x_c = np.zeros((8, 1), dtype = int)\n",
    "y_c = np.zeros((1, 8), dtype = int)\n",
    "c = np.zeros((8, 8), dtype = int)"
   ]
  },
  {
   "cell_type": "code",
   "execution_count": 49,
   "metadata": {},
   "outputs": [],
   "source": [
    "def interval(x_start, y_start, interval):\n",
    "\n",
    "    k = 1\n",
    "    while k <= len(x_c):\n",
    "        x_c[k-1][0] = x_start + (interval*k)\n",
    "        y_c[0][k-1] = y_start + (interval*k)\n",
    "        k += 1"
   ]
  },
  {
   "cell_type": "code",
   "execution_count": 50,
   "metadata": {},
   "outputs": [],
   "source": [
    "def grid_loc(a, b, l1, l2): # l1 and l2 are to determain the coordinates position in the made grid\n",
    "    n = 0\n",
    "    l = [0, 0]\n",
    "    while n < len(l1):\n",
    "        if a < l1[n][0]: # a is the x-coordinate\n",
    "            l[0] = n\n",
    "            break\n",
    "\n",
    "        n += 1\n",
    "\n",
    "    z = 0\n",
    "    \n",
    "    while z < len(l1):\n",
    "        if b < l2[0][z]: # b is the y-coordinate\n",
    "            l[1] = z\n",
    "            break\n",
    "\n",
    "        z += 1\n",
    "        \n",
    "    return l"
   ]
  },
  {
   "cell_type": "code",
   "execution_count": 51,
   "metadata": {},
   "outputs": [],
   "source": [
    "x0 = 6470000\n",
    "y0 = 656000\n",
    "inter = 1000\n",
    "\n",
    "interval(x0, y0, inter)"
   ]
  },
  {
   "cell_type": "code",
   "execution_count": 52,
   "metadata": {},
   "outputs": [
    {
     "ename": "TypeError",
     "evalue": "'>' not supported between instances of 'numpy.ndarray' and 'str'",
     "output_type": "error",
     "traceback": [
      "\u001b[1;31m---------------------------------------------------------------------------\u001b[0m",
      "\u001b[1;31mTypeError\u001b[0m                                 Traceback (most recent call last)",
      "\u001b[1;32m<ipython-input-52-8fd11848a8b9>\u001b[0m in \u001b[0;36m<module>\u001b[1;34m()\u001b[0m\n\u001b[0;32m      4\u001b[0m \u001b[1;33m\u001b[0m\u001b[0m\n\u001b[0;32m      5\u001b[0m \u001b[1;32mwhile\u001b[0m \u001b[0mlen_loc\u001b[0m \u001b[1;33m<\u001b[0m \u001b[0mlen\u001b[0m\u001b[1;33m(\u001b[0m\u001b[0mloc\u001b[0m\u001b[1;33m)\u001b[0m\u001b[1;33m:\u001b[0m\u001b[1;33m\u001b[0m\u001b[0m\n\u001b[1;32m----> 6\u001b[1;33m     \u001b[0mgrid\u001b[0m\u001b[1;33m.\u001b[0m\u001b[0mappend\u001b[0m\u001b[1;33m(\u001b[0m\u001b[0mgrid_loc\u001b[0m\u001b[1;33m(\u001b[0m\u001b[0mloc\u001b[0m\u001b[1;33m.\u001b[0m\u001b[0miloc\u001b[0m\u001b[1;33m[\u001b[0m\u001b[0mlen_loc\u001b[0m\u001b[1;33m]\u001b[0m\u001b[1;33m[\u001b[0m\u001b[1;36m0\u001b[0m\u001b[1;33m]\u001b[0m\u001b[1;33m,\u001b[0m \u001b[0mloc\u001b[0m\u001b[1;33m.\u001b[0m\u001b[0miloc\u001b[0m\u001b[1;33m[\u001b[0m\u001b[0mlen_loc\u001b[0m\u001b[1;33m]\u001b[0m\u001b[1;33m[\u001b[0m\u001b[1;36m1\u001b[0m\u001b[1;33m]\u001b[0m\u001b[1;33m,\u001b[0m \u001b[0mx_c\u001b[0m\u001b[1;33m,\u001b[0m \u001b[0my_c\u001b[0m\u001b[1;33m)\u001b[0m\u001b[1;33m)\u001b[0m\u001b[1;33m\u001b[0m\u001b[0m\n\u001b[0m\u001b[0;32m      7\u001b[0m     \u001b[0mlen_loc\u001b[0m \u001b[1;33m+=\u001b[0m \u001b[1;36m1\u001b[0m\u001b[1;33m\u001b[0m\u001b[0m\n",
      "\u001b[1;32m<ipython-input-50-7e9df16e67a5>\u001b[0m in \u001b[0;36mgrid_loc\u001b[1;34m(a, b, l1, l2)\u001b[0m\n\u001b[0;32m      3\u001b[0m     \u001b[0ml\u001b[0m \u001b[1;33m=\u001b[0m \u001b[1;33m[\u001b[0m\u001b[1;36m0\u001b[0m\u001b[1;33m,\u001b[0m \u001b[1;36m0\u001b[0m\u001b[1;33m]\u001b[0m\u001b[1;33m\u001b[0m\u001b[0m\n\u001b[0;32m      4\u001b[0m     \u001b[1;32mwhile\u001b[0m \u001b[0mn\u001b[0m \u001b[1;33m<\u001b[0m \u001b[0mlen\u001b[0m\u001b[1;33m(\u001b[0m\u001b[0ml1\u001b[0m\u001b[1;33m)\u001b[0m\u001b[1;33m:\u001b[0m\u001b[1;33m\u001b[0m\u001b[0m\n\u001b[1;32m----> 5\u001b[1;33m         \u001b[1;32mif\u001b[0m \u001b[0ma\u001b[0m \u001b[1;33m<\u001b[0m \u001b[0ml1\u001b[0m\u001b[1;33m[\u001b[0m\u001b[0mn\u001b[0m\u001b[1;33m]\u001b[0m\u001b[1;33m[\u001b[0m\u001b[1;36m0\u001b[0m\u001b[1;33m]\u001b[0m\u001b[1;33m:\u001b[0m \u001b[1;31m# a is the x-coordinate\u001b[0m\u001b[1;33m\u001b[0m\u001b[0m\n\u001b[0m\u001b[0;32m      6\u001b[0m             \u001b[0ml\u001b[0m\u001b[1;33m[\u001b[0m\u001b[1;36m0\u001b[0m\u001b[1;33m]\u001b[0m \u001b[1;33m=\u001b[0m \u001b[0mn\u001b[0m\u001b[1;33m\u001b[0m\u001b[0m\n\u001b[0;32m      7\u001b[0m             \u001b[1;32mbreak\u001b[0m\u001b[1;33m\u001b[0m\u001b[0m\n",
      "\u001b[1;31mTypeError\u001b[0m: '>' not supported between instances of 'numpy.ndarray' and 'str'"
     ]
    }
   ],
   "source": [
    "loc = police_df[['Lest_X', 'Lest_Y']]\n",
    "len_loc = 0\n",
    "grid = []\n",
    "\n",
    "while len_loc < len(loc):\n",
    "    grid.append(grid_loc(loc.iloc[len_loc][0], loc.iloc[len_loc][1], x_c, y_c))   \n",
    "    len_loc += 1"
   ]
  },
  {
   "cell_type": "code",
   "execution_count": null,
   "metadata": {},
   "outputs": [],
   "source": [
    "for el in grid:\n",
    "    c[el[0]][el[1]] += 1"
   ]
  },
  {
   "cell_type": "code",
   "execution_count": null,
   "metadata": {},
   "outputs": [],
   "source": [
    "n = 7\n",
    "co = []\n",
    "\n",
    "while n >= 0:\n",
    "    co.append(list(c[n]))\n",
    "    n -= 1"
   ]
  },
  {
   "cell_type": "code",
   "execution_count": null,
   "metadata": {},
   "outputs": [],
   "source": [
    "plt.subplots(figsize = (12, 10))\n",
    "hm = sns.heatmap(co, xticklabels = False, yticklabels = False, cmap = 'summer_r')"
   ]
  },
  {
   "cell_type": "code",
   "execution_count": null,
   "metadata": {},
   "outputs": [],
   "source": [
    "pic = hm.get_figure()\n",
    "#pic.savefig('heatmap_2012_terrain_r.png')"
   ]
  }
 ],
 "metadata": {
  "kernelspec": {
   "display_name": "Python 3",
   "language": "python",
   "name": "python3"
  },
  "language_info": {
   "codemirror_mode": {
    "name": "ipython",
    "version": 3
   },
   "file_extension": ".py",
   "mimetype": "text/x-python",
   "name": "python",
   "nbconvert_exporter": "python",
   "pygments_lexer": "ipython3",
   "version": "3.6.5"
  }
 },
 "nbformat": 4,
 "nbformat_minor": 2
}
