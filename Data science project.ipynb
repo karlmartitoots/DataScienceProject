{
 "cells": [
  {
   "cell_type": "code",
   "execution_count": 3,
   "metadata": {},
   "outputs": [],
   "source": [
    "import numpy as np\n",
    "import pandas as pd\n",
    "import urllib.request\n",
    "import requests\n",
    "import re\n",
    "from matplotlib import pyplot as plt\n",
    "import seaborn as sns"
   ]
  },
  {
   "cell_type": "markdown",
   "metadata": {},
   "source": [
    "# Traffic violations data"
   ]
  },
  {
   "cell_type": "markdown",
   "metadata": {},
   "source": [
    "### Description of the police data columns\n",
    "\n",
    "[POLICE TRAFFIC VIOLATION METADATA](https://www.politsei.ee/files/Anal%C3%BC%C3%BCs%20ja%20statistika/ppaavaandmeteseletuskiri.pdf?f3ca9bccf9)"
   ]
  },
  {
   "cell_type": "code",
   "execution_count": 17,
   "metadata": {},
   "outputs": [],
   "source": [
    "data = pd.read_csv(\"liiklusjarelevalve_3.csv\", encoding = \"UTF-8\", sep='\\t')"
   ]
  },
  {
   "cell_type": "code",
   "execution_count": 20,
   "metadata": {},
   "outputs": [
    {
     "data": {
      "text/html": [
       "<div>\n",
       "<style scoped>\n",
       "    .dataframe tbody tr th:only-of-type {\n",
       "        vertical-align: middle;\n",
       "    }\n",
       "\n",
       "    .dataframe tbody tr th {\n",
       "        vertical-align: top;\n",
       "    }\n",
       "\n",
       "    .dataframe thead th {\n",
       "        text-align: right;\n",
       "    }\n",
       "</style>\n",
       "<table border=\"1\" class=\"dataframe\">\n",
       "  <thead>\n",
       "    <tr style=\"text-align: right;\">\n",
       "      <th></th>\n",
       "      <th>JuhtumId</th>\n",
       "      <th>ToimKpv</th>\n",
       "      <th>ToimKell</th>\n",
       "      <th>ToimNadalapaev</th>\n",
       "      <th>Seadus</th>\n",
       "      <th>Paragrahv</th>\n",
       "      <th>ParagrahvTais</th>\n",
       "      <th>Loige</th>\n",
       "      <th>Punkt</th>\n",
       "      <th>RikutudOigusnorm</th>\n",
       "      <th>...</th>\n",
       "      <th>Lest_X</th>\n",
       "      <th>Lest_Y</th>\n",
       "      <th>SoidukLiik</th>\n",
       "      <th>SoidukRegRiik</th>\n",
       "      <th>SoidukMark</th>\n",
       "      <th>SoidukVlAasta</th>\n",
       "      <th>RikkujaSugu</th>\n",
       "      <th>RikkujaVanus</th>\n",
       "      <th>RikkujaElukoht</th>\n",
       "      <th>SyyteoLiik</th>\n",
       "    </tr>\n",
       "  </thead>\n",
       "  <tbody>\n",
       "    <tr>\n",
       "      <td>0</td>\n",
       "      <td>9617cbde-1636-18d5-8326-a9a756483dba</td>\n",
       "      <td>2013-12-31</td>\n",
       "      <td>23:38</td>\n",
       "      <td>Teisipäev</td>\n",
       "      <td>Liiklusseadus</td>\n",
       "      <td>§ 242.</td>\n",
       "      <td>§ 242. Mootorsõiduki- või trammijuhi poolt lii...</td>\n",
       "      <td>lg. 1.</td>\n",
       "      <td></td>\n",
       "      <td>LS § 76 lg. 1; § 73 lg. 1; § 106 lg. 3</td>\n",
       "      <td>...</td>\n",
       "      <td>6534000-6534499</td>\n",
       "      <td>473000-473499</td>\n",
       "      <td>SOIDUAUTO</td>\n",
       "      <td>EST</td>\n",
       "      <td>VOLKSWAGEN</td>\n",
       "      <td>1994</td>\n",
       "      <td>M</td>\n",
       "      <td>18-25</td>\n",
       "      <td>EST</td>\n",
       "      <td>VT</td>\n",
       "    </tr>\n",
       "    <tr>\n",
       "      <td>1</td>\n",
       "      <td>9617cc1a-1636-18d5-8326-a9a756483dba</td>\n",
       "      <td>2013-12-31</td>\n",
       "      <td>23:25</td>\n",
       "      <td>Teisipäev</td>\n",
       "      <td>Liiklusseadus</td>\n",
       "      <td>§ 227.</td>\n",
       "      <td>§ 227. Mootorsõidukijuhi poolt lubatud sõiduki...</td>\n",
       "      <td>lg. 2.</td>\n",
       "      <td></td>\n",
       "      <td>LS § 15 lg. 1 p. 1</td>\n",
       "      <td>...</td>\n",
       "      <td>6577500-6577999</td>\n",
       "      <td>546500-546999</td>\n",
       "      <td>SOIDUAUTO</td>\n",
       "      <td>EST</td>\n",
       "      <td>VOLVO</td>\n",
       "      <td>2010</td>\n",
       "      <td>M</td>\n",
       "      <td>26-34</td>\n",
       "      <td>NaN</td>\n",
       "      <td>VT</td>\n",
       "    </tr>\n",
       "    <tr>\n",
       "      <td>2</td>\n",
       "      <td>9617c9cc-1636-18d5-8326-a9a756483dba</td>\n",
       "      <td>2013-12-31</td>\n",
       "      <td>23:20</td>\n",
       "      <td>Teisipäev</td>\n",
       "      <td>Liiklusseadus</td>\n",
       "      <td>§ 201.</td>\n",
       "      <td>§ 201. Mootorsõiduki, maastikusõiduki või tram...</td>\n",
       "      <td>lg. 1.</td>\n",
       "      <td></td>\n",
       "      <td>LS § 90 lg. 1 p. 1</td>\n",
       "      <td>...</td>\n",
       "      <td>6588500-6588999</td>\n",
       "      <td>685500-685999</td>\n",
       "      <td>TUNDMATU</td>\n",
       "      <td>EST</td>\n",
       "      <td>CITROEN</td>\n",
       "      <td>2008</td>\n",
       "      <td>M</td>\n",
       "      <td>18-25</td>\n",
       "      <td>NaN</td>\n",
       "      <td>VT</td>\n",
       "    </tr>\n",
       "    <tr>\n",
       "      <td>3</td>\n",
       "      <td>9617d20a-1636-18d5-8326-a9a756483dba</td>\n",
       "      <td>2013-12-31</td>\n",
       "      <td>23:20</td>\n",
       "      <td>Teisipäev</td>\n",
       "      <td>Liiklusseadus</td>\n",
       "      <td>§ 202.</td>\n",
       "      <td>§ 202. Mootorsõiduki, maastikusõiduki või tram...</td>\n",
       "      <td>lg. 1.</td>\n",
       "      <td></td>\n",
       "      <td>LS § 90 lg. 2</td>\n",
       "      <td>...</td>\n",
       "      <td>6588500-6588999</td>\n",
       "      <td>685500-685999</td>\n",
       "      <td>TUNDMATU</td>\n",
       "      <td>EST</td>\n",
       "      <td>CITROEN</td>\n",
       "      <td>2008</td>\n",
       "      <td>M</td>\n",
       "      <td>26-34</td>\n",
       "      <td>NaN</td>\n",
       "      <td>VT</td>\n",
       "    </tr>\n",
       "    <tr>\n",
       "      <td>4</td>\n",
       "      <td>9617d20a-1636-18d5-8326-a9a756483dba</td>\n",
       "      <td>2013-12-31</td>\n",
       "      <td>23:20</td>\n",
       "      <td>Teisipäev</td>\n",
       "      <td>Liiklusseadus</td>\n",
       "      <td>§ 225.</td>\n",
       "      <td>§ 225. Joobes isiku mootorsõidukit, maastikusõ...</td>\n",
       "      <td>lg. 1.</td>\n",
       "      <td></td>\n",
       "      <td>LS § 90 lg. 2</td>\n",
       "      <td>...</td>\n",
       "      <td>6588500-6588999</td>\n",
       "      <td>685500-685999</td>\n",
       "      <td>TUNDMATU</td>\n",
       "      <td>EST</td>\n",
       "      <td>CITROEN</td>\n",
       "      <td>2008</td>\n",
       "      <td>M</td>\n",
       "      <td>26-34</td>\n",
       "      <td>NaN</td>\n",
       "      <td>VT</td>\n",
       "    </tr>\n",
       "  </tbody>\n",
       "</table>\n",
       "<p>5 rows × 26 columns</p>\n",
       "</div>"
      ],
      "text/plain": [
       "                               JuhtumId     ToimKpv ToimKell ToimNadalapaev  \\\n",
       "0  9617cbde-1636-18d5-8326-a9a756483dba  2013-12-31    23:38      Teisipäev   \n",
       "1  9617cc1a-1636-18d5-8326-a9a756483dba  2013-12-31    23:25      Teisipäev   \n",
       "2  9617c9cc-1636-18d5-8326-a9a756483dba  2013-12-31    23:20      Teisipäev   \n",
       "3  9617d20a-1636-18d5-8326-a9a756483dba  2013-12-31    23:20      Teisipäev   \n",
       "4  9617d20a-1636-18d5-8326-a9a756483dba  2013-12-31    23:20      Teisipäev   \n",
       "\n",
       "          Seadus Paragrahv                                      ParagrahvTais  \\\n",
       "0  Liiklusseadus    § 242.  § 242. Mootorsõiduki- või trammijuhi poolt lii...   \n",
       "1  Liiklusseadus    § 227.  § 227. Mootorsõidukijuhi poolt lubatud sõiduki...   \n",
       "2  Liiklusseadus    § 201.  § 201. Mootorsõiduki, maastikusõiduki või tram...   \n",
       "3  Liiklusseadus    § 202.  § 202. Mootorsõiduki, maastikusõiduki või tram...   \n",
       "4  Liiklusseadus    § 225.  § 225. Joobes isiku mootorsõidukit, maastikusõ...   \n",
       "\n",
       "    Loige                 Punkt                        RikutudOigusnorm  ...  \\\n",
       "0  lg. 1.                        LS § 76 lg. 1; § 73 lg. 1; § 106 lg. 3  ...   \n",
       "1  lg. 2.                                            LS § 15 lg. 1 p. 1  ...   \n",
       "2  lg. 1.                                            LS § 90 lg. 1 p. 1  ...   \n",
       "3  lg. 1.                                                 LS § 90 lg. 2  ...   \n",
       "4  lg. 1.                                                 LS § 90 lg. 2  ...   \n",
       "\n",
       "            Lest_X         Lest_Y SoidukLiik SoidukRegRiik  SoidukMark  \\\n",
       "0  6534000-6534499  473000-473499  SOIDUAUTO           EST  VOLKSWAGEN   \n",
       "1  6577500-6577999  546500-546999  SOIDUAUTO           EST       VOLVO   \n",
       "2  6588500-6588999  685500-685999   TUNDMATU           EST     CITROEN   \n",
       "3  6588500-6588999  685500-685999   TUNDMATU           EST     CITROEN   \n",
       "4  6588500-6588999  685500-685999   TUNDMATU           EST     CITROEN   \n",
       "\n",
       "   SoidukVlAasta RikkujaSugu RikkujaVanus RikkujaElukoht SyyteoLiik  \n",
       "0           1994           M        18-25            EST         VT  \n",
       "1           2010           M        26-34            NaN         VT  \n",
       "2           2008           M        18-25            NaN         VT  \n",
       "3           2008           M        26-34            NaN         VT  \n",
       "4           2008           M        26-34            NaN         VT  \n",
       "\n",
       "[5 rows x 26 columns]"
      ]
     },
     "execution_count": 20,
     "metadata": {},
     "output_type": "execute_result"
    }
   ],
   "source": [
    "police_data = data.copy()\n",
    "police_data.head()"
   ]
  },
  {
   "cell_type": "markdown",
   "metadata": {},
   "source": [
    "## Pruning data by coordinates \n",
    "\n",
    "[Official Tartu map](https://www.tartu.ee/kaart/)<br>\n",
    "The coordinates can be converted to GPS coordinates (longitude and latitude) in order to get a map in the full range of these coordinates.<br>\n",
    "[Conversion of coordinates from L-EST to GPS](https://www.maaamet.ee/rr/geo-lest/url/)"
   ]
  },
  {
   "cell_type": "code",
   "execution_count": 54,
   "metadata": {},
   "outputs": [],
   "source": [
    "# takes coordinate in form '668000-668499', separates the values as floats into a list [668000, 668499]\n",
    "getLowHigh = lambda coords: list(map(float, coords.split('-')))\n",
    "\n",
    "# takes lowHigh coordinate list [668000, 668499] and its bounds, checks if coord is out of bounds\n",
    "coordNotInRange = lambda lowHigh, c_min, c_max : lowHigh[0] < c_min or lowHigh[1] > c_max\n",
    "\n",
    "# takes lowHigh coordinate list [668000, 668499], calculates their average\n",
    "getAvg = lambda lowHigh: round(sum(lowHigh) / len(lowHigh)) "
   ]
  },
  {
   "cell_type": "markdown",
   "metadata": {},
   "source": [
    "We will prune the data by a bound rectangle and find the average coordinates for those datapoints inside the rectangle."
   ]
  },
  {
   "cell_type": "code",
   "execution_count": 56,
   "metadata": {},
   "outputs": [],
   "source": [
    "lest_x, lest_y = list(police_data['Lest_X']), list(police_data['Lest_Y'])\n",
    "avg_x, avg_y, xy_in_area = [], [], []\n",
    "\n",
    "# boundaries: x:6464500 .. 6478500, y:645500 .. 668500\n",
    "x_min, x_max = 6464500, 6478500\n",
    "y_min, y_max = 645500, 668500\n",
    "for xc, yc in zip(lest_x, lest_y):\n",
    "    \n",
    "    try: # if the cell is faulty, we will still need to continue without errors\n",
    "        low_high_X = getLowHigh(xc)\n",
    "        low_high_Y = getLowHigh(yc)\n",
    "    except:\n",
    "        # these rows will be excluded\n",
    "        xy_in_area.append(False)\n",
    "        continue\n",
    "    \n",
    "    if coordNotInRange(low_high_X, x_min, x_max) or coordNotInRange(low_high_Y, y_min, y_max):\n",
    "        xy_in_area.append(False)\n",
    "    else:\n",
    "        xy_in_area.append(True)\n",
    "        \n",
    "        # calculate average coordinates for all datapoints within boundaries\n",
    "        avg_x.append(getAvg(low_high_X))\n",
    "        avg_y.append(getAvg(low_high_Y))"
   ]
  },
  {
   "cell_type": "code",
   "execution_count": 57,
   "metadata": {
    "scrolled": true
   },
   "outputs": [
    {
     "data": {
      "text/html": [
       "<div>\n",
       "<style scoped>\n",
       "    .dataframe tbody tr th:only-of-type {\n",
       "        vertical-align: middle;\n",
       "    }\n",
       "\n",
       "    .dataframe tbody tr th {\n",
       "        vertical-align: top;\n",
       "    }\n",
       "\n",
       "    .dataframe thead th {\n",
       "        text-align: right;\n",
       "    }\n",
       "</style>\n",
       "<table border=\"1\" class=\"dataframe\">\n",
       "  <thead>\n",
       "    <tr style=\"text-align: right;\">\n",
       "      <th></th>\n",
       "      <th>JuhtumId</th>\n",
       "      <th>ToimKpv</th>\n",
       "      <th>ToimKell</th>\n",
       "      <th>Lest_X</th>\n",
       "      <th>Lest_Y</th>\n",
       "      <th>Avg_x</th>\n",
       "      <th>Avg_y</th>\n",
       "    </tr>\n",
       "  </thead>\n",
       "  <tbody>\n",
       "    <tr>\n",
       "      <td>0</td>\n",
       "      <td>9617ed94-1636-18d5-8326-a9a756483dba</td>\n",
       "      <td>2013-12-31</td>\n",
       "      <td>21:06</td>\n",
       "      <td>6475000-6475499</td>\n",
       "      <td>659000-659499</td>\n",
       "      <td>6475250</td>\n",
       "      <td>659250</td>\n",
       "    </tr>\n",
       "    <tr>\n",
       "      <td>1</td>\n",
       "      <td>9617e9de-1636-18d5-8326-a9a756483dba</td>\n",
       "      <td>2013-12-31</td>\n",
       "      <td>20:28</td>\n",
       "      <td>6475000-6475499</td>\n",
       "      <td>659000-659499</td>\n",
       "      <td>6475250</td>\n",
       "      <td>659250</td>\n",
       "    </tr>\n",
       "    <tr>\n",
       "      <td>2</td>\n",
       "      <td>9617ed3a-1636-18d5-8326-a9a756483dba</td>\n",
       "      <td>2013-12-31</td>\n",
       "      <td>19:19</td>\n",
       "      <td>6472000-6472499</td>\n",
       "      <td>656500-656999</td>\n",
       "      <td>6472250</td>\n",
       "      <td>656750</td>\n",
       "    </tr>\n",
       "    <tr>\n",
       "      <td>3</td>\n",
       "      <td>9617ec90-1636-18d5-8326-a9a756483dba</td>\n",
       "      <td>2013-12-31</td>\n",
       "      <td>14:19</td>\n",
       "      <td>6475000-6475499</td>\n",
       "      <td>659000-659499</td>\n",
       "      <td>6475250</td>\n",
       "      <td>659250</td>\n",
       "    </tr>\n",
       "    <tr>\n",
       "      <td>4</td>\n",
       "      <td>9617ebaa-1636-18d5-8326-a9a756483dba</td>\n",
       "      <td>2013-12-31</td>\n",
       "      <td>13:44</td>\n",
       "      <td>6475000-6475499</td>\n",
       "      <td>659000-659499</td>\n",
       "      <td>6475250</td>\n",
       "      <td>659250</td>\n",
       "    </tr>\n",
       "  </tbody>\n",
       "</table>\n",
       "</div>"
      ],
      "text/plain": [
       "                               JuhtumId     ToimKpv ToimKell           Lest_X  \\\n",
       "0  9617ed94-1636-18d5-8326-a9a756483dba  2013-12-31    21:06  6475000-6475499   \n",
       "1  9617e9de-1636-18d5-8326-a9a756483dba  2013-12-31    20:28  6475000-6475499   \n",
       "2  9617ed3a-1636-18d5-8326-a9a756483dba  2013-12-31    19:19  6472000-6472499   \n",
       "3  9617ec90-1636-18d5-8326-a9a756483dba  2013-12-31    14:19  6475000-6475499   \n",
       "4  9617ebaa-1636-18d5-8326-a9a756483dba  2013-12-31    13:44  6475000-6475499   \n",
       "\n",
       "          Lest_Y    Avg_x   Avg_y  \n",
       "0  659000-659499  6475250  659250  \n",
       "1  659000-659499  6475250  659250  \n",
       "2  656500-656999  6472250  656750  \n",
       "3  659000-659499  6475250  659250  \n",
       "4  659000-659499  6475250  659250  "
      ]
     },
     "execution_count": 57,
     "metadata": {},
     "output_type": "execute_result"
    }
   ],
   "source": [
    "tartu_data = police_data[xy_in_area] # filter the results to fit into chosen rectangle of coordinates\n",
    "tartu_data = tartu_data[['JuhtumId', 'ToimKpv', 'ToimKell', 'Lest_X', 'Lest_Y']] # Columns selected for our project\n",
    "tartu_data = tartu_data.reset_index().drop('index', axis = 1)\n",
    "tartu_data['Avg_x'] = avg_x\n",
    "tartu_data['Avg_y'] = avg_y\n",
    "\n",
    "tartu_data.head()"
   ]
  },
  {
   "cell_type": "markdown",
   "metadata": {},
   "source": [
    "# Weather data"
   ]
  },
  {
   "cell_type": "markdown",
   "metadata": {},
   "source": [
    "## 2019 weather data (9000 rows)"
   ]
  },
  {
   "cell_type": "code",
   "execution_count": 9,
   "metadata": {},
   "outputs": [],
   "source": [
    "w_d_web = 'http://meteo.physic.ut.ee/et/archive.php?do=data&begin%5Byear%5D=2019&begin%5Bmon%5D=11&begin%5Bmday%5D=4&end%5Byear%5D=2019&end%5Bmon%5D=12&end%5Bmday%5D=5&9=1&16=1&14=1&ok=+Esita+p%C3%A4ring+'\n",
    "\n",
    "table = requests.get(w_d_web)"
   ]
  },
  {
   "cell_type": "markdown",
   "metadata": {},
   "source": [
    "## 2012-2019 weather data"
   ]
  },
  {
   "cell_type": "code",
   "execution_count": 10,
   "metadata": {},
   "outputs": [],
   "source": [
    "w_d_web = 'http://meteo.physic.ut.ee/et/archive.php?do=data&begin%5Byear%5D=2012&begin%5Bmon%5D=1&begin%5Bmday%5D=1&end%5Byear%5D=2019&end%5Bmon%5D=12&end%5Bmday%5D=8&9=1&16=1&14=1&ok=+Esita+p%C3%A4ring+'\n",
    "\n",
    "table = requests.get(w_d_web)"
   ]
  },
  {
   "cell_type": "markdown",
   "metadata": {},
   "source": [
    "## 2012 weather data (105210 rows)"
   ]
  },
  {
   "cell_type": "code",
   "execution_count": 58,
   "metadata": {},
   "outputs": [],
   "source": [
    "w_d_web = 'http://meteo.physic.ut.ee/et/archive.php?do=data&begin%5Byear%5D=2012&begin%5Bmon%5D=1&begin%5Bmday%5D=1&end%5Byear%5D=2013&end%5Bmon%5D=1&end%5Bmday%5D=1&9=1&16=1&11=1&ok=+Esita+p%C3%A4ring+'\n",
    "\n",
    "table = requests.get(w_d_web)"
   ]
  },
  {
   "cell_type": "code",
   "execution_count": 59,
   "metadata": {},
   "outputs": [],
   "source": [
    "w_d_raw = []\n",
    "\n",
    "for row in table:\n",
    "    w_d_raw.append(row.decode('utf-8').split('\\n')) # Removing all non-data characters (\\n and b)"
   ]
  },
  {
   "cell_type": "code",
   "execution_count": 60,
   "metadata": {},
   "outputs": [],
   "source": [
    "def striplist(l):\n",
    "    return list(map(lambda s: s.strip(), l))"
   ]
  },
  {
   "cell_type": "code",
   "execution_count": 61,
   "metadata": {},
   "outputs": [],
   "source": [
    "wd_list = []\n",
    "wd_cols = striplist(w_d_raw[0][0].split(','))\n",
    "\n",
    "wd_list.append(striplist(w_d_raw[0][1].split(',')))\n",
    "i = 0\n",
    "while i < len(w_d_raw)-1:\n",
    "    if len(w_d_raw[i]) == 4:\n",
    "        wd_list.append(striplist(w_d_raw[i][2].split(',')))\n",
    "        wd_list.append(striplist((w_d_raw[i][3] + w_d_raw[i + 1][0]).split(',')))\n",
    "    else:\n",
    "        wd_list.append(striplist((w_d_raw[i][2] + w_d_raw[i + 1][0]).split(',')))\n",
    "    wd_list.append(striplist(w_d_raw[i + 1][1].split(',')))\n",
    "    i += 1\n",
    "\n",
    "weather_df = pd.DataFrame(wd_list)[[0, 1, 2, 3]]\n",
    "weather_df.columns = ['datetime', 'temp','prec','illuminance']\n",
    "weather_df = weather_df[weather_df.temp != '']"
   ]
  },
  {
   "cell_type": "code",
   "execution_count": 62,
   "metadata": {},
   "outputs": [
    {
     "name": "stdout",
     "output_type": "stream",
     "text": [
      "(105173, 4)\n"
     ]
    },
    {
     "data": {
      "text/html": [
       "<div>\n",
       "<style scoped>\n",
       "    .dataframe tbody tr th:only-of-type {\n",
       "        vertical-align: middle;\n",
       "    }\n",
       "\n",
       "    .dataframe tbody tr th {\n",
       "        vertical-align: top;\n",
       "    }\n",
       "\n",
       "    .dataframe thead th {\n",
       "        text-align: right;\n",
       "    }\n",
       "</style>\n",
       "<table border=\"1\" class=\"dataframe\">\n",
       "  <thead>\n",
       "    <tr style=\"text-align: right;\">\n",
       "      <th></th>\n",
       "      <th>datetime</th>\n",
       "      <th>temp</th>\n",
       "      <th>prec</th>\n",
       "      <th>illuminance</th>\n",
       "    </tr>\n",
       "  </thead>\n",
       "  <tbody>\n",
       "    <tr>\n",
       "      <td>0</td>\n",
       "      <td>2012-01-01 00:00:00</td>\n",
       "      <td>-1.40256386952938</td>\n",
       "      <td>0</td>\n",
       "      <td>1596.32524005174</td>\n",
       "    </tr>\n",
       "    <tr>\n",
       "      <td>1</td>\n",
       "      <td>2012-01-01 00:05:00</td>\n",
       "      <td>-1.3072008201295098</td>\n",
       "      <td>0</td>\n",
       "      <td>1766.2777027866002</td>\n",
       "    </tr>\n",
       "    <tr>\n",
       "      <td>2</td>\n",
       "      <td>2012-01-01 00:10:00</td>\n",
       "      <td>-1.24774878404425</td>\n",
       "      <td>0</td>\n",
       "      <td>1537.72557855376</td>\n",
       "    </tr>\n",
       "    <tr>\n",
       "      <td>3</td>\n",
       "      <td>2012-01-01 00:15:00</td>\n",
       "      <td>-1.2859692273800398</td>\n",
       "      <td>0</td>\n",
       "      <td>1483.7225387054602</td>\n",
       "    </tr>\n",
       "    <tr>\n",
       "      <td>4</td>\n",
       "      <td>2012-01-01 00:20:00</td>\n",
       "      <td>-1.4057889884906098</td>\n",
       "      <td>0</td>\n",
       "      <td>1544.08768822554</td>\n",
       "    </tr>\n",
       "  </tbody>\n",
       "</table>\n",
       "</div>"
      ],
      "text/plain": [
       "              datetime                 temp prec         illuminance\n",
       "0  2012-01-01 00:00:00    -1.40256386952938    0    1596.32524005174\n",
       "1  2012-01-01 00:05:00  -1.3072008201295098    0  1766.2777027866002\n",
       "2  2012-01-01 00:10:00    -1.24774878404425    0    1537.72557855376\n",
       "3  2012-01-01 00:15:00  -1.2859692273800398    0  1483.7225387054602\n",
       "4  2012-01-01 00:20:00  -1.4057889884906098    0    1544.08768822554"
      ]
     },
     "execution_count": 62,
     "metadata": {},
     "output_type": "execute_result"
    }
   ],
   "source": [
    "print(weather_df.shape)\n",
    "weather_df.head()"
   ]
  },
  {
   "cell_type": "markdown",
   "metadata": {},
   "source": [
    "# 5-minute, hourly and daily data"
   ]
  },
  {
   "cell_type": "code",
   "execution_count": 70,
   "metadata": {},
   "outputs": [],
   "source": [
    "from datetime import datetime"
   ]
  },
  {
   "cell_type": "markdown",
   "metadata": {},
   "source": [
    "Let's create hourly and daily averaged temperature, precipitation, irradiation flux and traffic violations amount to try and find correlations. "
   ]
  },
  {
   "cell_type": "markdown",
   "metadata": {},
   "source": [
    "### Weather data"
   ]
  },
  {
   "cell_type": "code",
   "execution_count": 71,
   "metadata": {},
   "outputs": [],
   "source": [
    "timeformat = '%Y-%m-%d %H:%M:%S'\n",
    "\n",
    "hours = []\n",
    "dates = []\n",
    "times = []\n",
    "for t in weather_df.datetime:\n",
    "    dt = datetime.strptime(t, timeformat)\n",
    "    hours.append(dt.hour)\n",
    "    dates.append(dt.date())\n",
    "    times.append(dt.time())\n",
    "\n",
    "weather_df['hour'] = hours\n",
    "weather_df['date'] = dates\n",
    "weather_df['time'] = times\n",
    "\n",
    "weather_df = weather_df.drop(columns = ['datetime'])"
   ]
  },
  {
   "cell_type": "code",
   "execution_count": 72,
   "metadata": {},
   "outputs": [],
   "source": [
    "weather_df.temp = list(map(float, weather_df.temp))\n",
    "weather_df.prec = list(map(float, weather_df.prec))\n",
    "weather_df.illuminance = list(map(float, weather_df.illuminance))\n",
    "weather_df.hour = list(map(int, weather_df.hour))"
   ]
  },
  {
   "cell_type": "code",
   "execution_count": 73,
   "metadata": {},
   "outputs": [],
   "source": [
    "dailymean_wd = weather_df.groupby(by = 'date').mean()\n",
    "hourlymean_wd = weather_df.groupby(['date','hour'], as_index=False).mean()"
   ]
  },
  {
   "cell_type": "code",
   "execution_count": 74,
   "metadata": {},
   "outputs": [
    {
     "data": {
      "text/plain": [
       "[<matplotlib.lines.Line2D at 0x1b9e196d3c8>]"
      ]
     },
     "execution_count": 74,
     "metadata": {},
     "output_type": "execute_result"
    },
    {
     "data": {
      "image/png": "[encoded data removed]",
      "text/plain": [
       "<Figure size 432x288 with 1 Axes>"
      ]
     },
     "metadata": {},
     "output_type": "display_data"
    }
   ],
   "source": [
    "plt.plot(weather_df['temp'])"
   ]
  },
  {
   "cell_type": "code",
   "execution_count": 75,
   "metadata": {},
   "outputs": [
    {
     "data": {
      "text/plain": [
       "[<matplotlib.lines.Line2D at 0x1b9e1baf320>]"
      ]
     },
     "execution_count": 75,
     "metadata": {},
     "output_type": "execute_result"
    },
    {
     "data": {
      "image/png": "[encoded data removed]",
      "text/plain": [
       "<Figure size 432x288 with 1 Axes>"
      ]
     },
     "metadata": {},
     "output_type": "display_data"
    }
   ],
   "source": [
    "plt.plot(hourlymean_wd['temp'])"
   ]
  },
  {
   "cell_type": "code",
   "execution_count": 76,
   "metadata": {},
   "outputs": [
    {
     "name": "stderr",
     "output_type": "stream",
     "text": [
      "C:\\Users\\Karlm\\AppData\\Roaming\\Python\\Python36\\site-packages\\pandas\\plotting\\_matplotlib\\converter.py:103: FutureWarning: Using an implicitly registered datetime converter for a matplotlib plotting method. The converter was registered by pandas on import. Future versions of pandas will require you to explicitly register matplotlib converters.\n",
      "\n",
      "To register the converters:\n",
      "\t>>> from pandas.plotting import register_matplotlib_converters\n",
      "\t>>> register_matplotlib_converters()\n",
      "  warnings.warn(msg, FutureWarning)\n"
     ]
    },
    {
     "data": {
      "text/plain": [
       "[<matplotlib.lines.Line2D at 0x1b9e4884550>]"
      ]
     },
     "execution_count": 76,
     "metadata": {},
     "output_type": "execute_result"
    },
    {
     "data": {
      "image/png": "[encoded data removed]",
      "text/plain": [
       "<Figure size 432x288 with 1 Axes>"
      ]
     },
     "metadata": {},
     "output_type": "display_data"
    }
   ],
   "source": [
    "plt.plot(dailymean_wd['temp'])"
   ]
  },
  {
   "cell_type": "markdown",
   "metadata": {},
   "source": [
    "### Police Data"
   ]
  },
  {
   "cell_type": "code",
   "execution_count": 64,
   "metadata": {},
   "outputs": [],
   "source": [
    "police_df = tartu_data.copy()"
   ]
  },
  {
   "cell_type": "code",
   "execution_count": 65,
   "metadata": {},
   "outputs": [],
   "source": [
    "timeformat = '%H:%M'\n",
    "\n",
    "hours = []\n",
    "minutes = []\n",
    "times = []\n",
    "for t in police_df.ToimKell:\n",
    "    try:\n",
    "        dt = datetime.strptime(t, timeformat) \n",
    "        dt = dt.replace(minute = dt.minute // 5 * 5) # 5 minuti kaupa\n",
    "        hours.append(dt.hour)\n",
    "        minutes.append(dt.minute)\n",
    "        times.append(dt.time())\n",
    "    except:\n",
    "        hours.append(np.nan)\n",
    "        minutes.append(np.nan)\n",
    "        times.append(np.nan)\n",
    "        continue\n",
    "        # ignore\n",
    "\n",
    "police_df['hour'] = hours\n",
    "police_df['minute'] = minutes\n",
    "police_df['time'] = times"
   ]
  },
  {
   "cell_type": "code",
   "execution_count": 66,
   "metadata": {},
   "outputs": [
    {
     "data": {
      "text/html": [
       "<div>\n",
       "<style scoped>\n",
       "    .dataframe tbody tr th:only-of-type {\n",
       "        vertical-align: middle;\n",
       "    }\n",
       "\n",
       "    .dataframe tbody tr th {\n",
       "        vertical-align: top;\n",
       "    }\n",
       "\n",
       "    .dataframe thead th {\n",
       "        text-align: right;\n",
       "    }\n",
       "</style>\n",
       "<table border=\"1\" class=\"dataframe\">\n",
       "  <thead>\n",
       "    <tr style=\"text-align: right;\">\n",
       "      <th></th>\n",
       "      <th>JuhtumId</th>\n",
       "      <th>ToimKpv</th>\n",
       "      <th>ToimKell</th>\n",
       "      <th>Lest_X</th>\n",
       "      <th>Lest_Y</th>\n",
       "      <th>Avg_x</th>\n",
       "      <th>Avg_y</th>\n",
       "      <th>hour</th>\n",
       "      <th>minute</th>\n",
       "      <th>time</th>\n",
       "    </tr>\n",
       "  </thead>\n",
       "  <tbody>\n",
       "    <tr>\n",
       "      <td>0</td>\n",
       "      <td>9617ed94-1636-18d5-8326-a9a756483dba</td>\n",
       "      <td>2013-12-31</td>\n",
       "      <td>21:06</td>\n",
       "      <td>6475000-6475499</td>\n",
       "      <td>659000-659499</td>\n",
       "      <td>6475250</td>\n",
       "      <td>659250</td>\n",
       "      <td>21.0</td>\n",
       "      <td>5.0</td>\n",
       "      <td>21:05:00</td>\n",
       "    </tr>\n",
       "    <tr>\n",
       "      <td>1</td>\n",
       "      <td>9617e9de-1636-18d5-8326-a9a756483dba</td>\n",
       "      <td>2013-12-31</td>\n",
       "      <td>20:28</td>\n",
       "      <td>6475000-6475499</td>\n",
       "      <td>659000-659499</td>\n",
       "      <td>6475250</td>\n",
       "      <td>659250</td>\n",
       "      <td>20.0</td>\n",
       "      <td>25.0</td>\n",
       "      <td>20:25:00</td>\n",
       "    </tr>\n",
       "    <tr>\n",
       "      <td>2</td>\n",
       "      <td>9617ed3a-1636-18d5-8326-a9a756483dba</td>\n",
       "      <td>2013-12-31</td>\n",
       "      <td>19:19</td>\n",
       "      <td>6472000-6472499</td>\n",
       "      <td>656500-656999</td>\n",
       "      <td>6472250</td>\n",
       "      <td>656750</td>\n",
       "      <td>19.0</td>\n",
       "      <td>15.0</td>\n",
       "      <td>19:15:00</td>\n",
       "    </tr>\n",
       "    <tr>\n",
       "      <td>3</td>\n",
       "      <td>9617ec90-1636-18d5-8326-a9a756483dba</td>\n",
       "      <td>2013-12-31</td>\n",
       "      <td>14:19</td>\n",
       "      <td>6475000-6475499</td>\n",
       "      <td>659000-659499</td>\n",
       "      <td>6475250</td>\n",
       "      <td>659250</td>\n",
       "      <td>14.0</td>\n",
       "      <td>15.0</td>\n",
       "      <td>14:15:00</td>\n",
       "    </tr>\n",
       "    <tr>\n",
       "      <td>4</td>\n",
       "      <td>9617ebaa-1636-18d5-8326-a9a756483dba</td>\n",
       "      <td>2013-12-31</td>\n",
       "      <td>13:44</td>\n",
       "      <td>6475000-6475499</td>\n",
       "      <td>659000-659499</td>\n",
       "      <td>6475250</td>\n",
       "      <td>659250</td>\n",
       "      <td>13.0</td>\n",
       "      <td>40.0</td>\n",
       "      <td>13:40:00</td>\n",
       "    </tr>\n",
       "  </tbody>\n",
       "</table>\n",
       "</div>"
      ],
      "text/plain": [
       "                               JuhtumId     ToimKpv ToimKell           Lest_X  \\\n",
       "0  9617ed94-1636-18d5-8326-a9a756483dba  2013-12-31    21:06  6475000-6475499   \n",
       "1  9617e9de-1636-18d5-8326-a9a756483dba  2013-12-31    20:28  6475000-6475499   \n",
       "2  9617ed3a-1636-18d5-8326-a9a756483dba  2013-12-31    19:19  6472000-6472499   \n",
       "3  9617ec90-1636-18d5-8326-a9a756483dba  2013-12-31    14:19  6475000-6475499   \n",
       "4  9617ebaa-1636-18d5-8326-a9a756483dba  2013-12-31    13:44  6475000-6475499   \n",
       "\n",
       "          Lest_Y    Avg_x   Avg_y  hour  minute      time  \n",
       "0  659000-659499  6475250  659250  21.0     5.0  21:05:00  \n",
       "1  659000-659499  6475250  659250  20.0    25.0  20:25:00  \n",
       "2  656500-656999  6472250  656750  19.0    15.0  19:15:00  \n",
       "3  659000-659499  6475250  659250  14.0    15.0  14:15:00  \n",
       "4  659000-659499  6475250  659250  13.0    40.0  13:40:00  "
      ]
     },
     "execution_count": 66,
     "metadata": {},
     "output_type": "execute_result"
    }
   ],
   "source": [
    "police_df.head()"
   ]
  },
  {
   "cell_type": "code",
   "execution_count": 67,
   "metadata": {},
   "outputs": [],
   "source": [
    "# violations per 1 day interval\n",
    "dailymean_pd = police_df.groupby(['ToimKpv']).count()['JuhtumId']\n",
    "\n",
    "# violations per 1 hour interval\n",
    "hourlymean_pd = police_df.groupby(['ToimKpv','hour']).count()['JuhtumId']\n",
    "\n",
    "# violations per 5 minute interval\n",
    "minutelymean_pd = police_df.groupby(['ToimKpv', 'hour', 'minute']).count()['JuhtumId']"
   ]
  },
  {
   "cell_type": "markdown",
   "metadata": {},
   "source": [
    "## Combine violation count in 5 minute intervals with weather data"
   ]
  },
  {
   "cell_type": "code",
   "execution_count": 77,
   "metadata": {},
   "outputs": [],
   "source": [
    "comb_df = weather_df[['time', 'date', 'hour', 'temp', 'illuminance']]\n",
    "timeformat = '%Y-%m-%d'\n",
    "\n",
    "v_counts = []\n",
    "for index, row in comb_df.iterrows():\n",
    "    try:\n",
    "        v_counts.append(minutelymean_pd[(row.date.strftime(timeformat), row.hour, row.time.minute)])\n",
    "    except:\n",
    "        v_counts.append(0)\n",
    "\n",
    "comb_df['violations'] = v_counts"
   ]
  },
  {
   "cell_type": "code",
   "execution_count": 78,
   "metadata": {},
   "outputs": [],
   "source": [
    "hourlymean_cd = comb_df.groupby(['date','hour'], as_index=False).sum()\n",
    "dailymean_cd = comb_df.groupby(['date']).sum()"
   ]
  },
  {
   "cell_type": "code",
   "execution_count": 79,
   "metadata": {},
   "outputs": [
    {
     "data": {
      "text/plain": [
       "[<matplotlib.lines.Line2D at 0x1b9e5092320>]"
      ]
     },
     "execution_count": 79,
     "metadata": {},
     "output_type": "execute_result"
    },
    {
     "data": {
      "image/png": "[encoded data removed]",
      "text/plain": [
       "<Figure size 432x288 with 1 Axes>"
      ]
     },
     "metadata": {},
     "output_type": "display_data"
    }
   ],
   "source": [
    "plt.plot(comb_df['violations'])"
   ]
  },
  {
   "cell_type": "code",
   "execution_count": 80,
   "metadata": {},
   "outputs": [
    {
     "data": {
      "text/plain": [
       "[<matplotlib.lines.Line2D at 0x1b9e50e3828>]"
      ]
     },
     "execution_count": 80,
     "metadata": {},
     "output_type": "execute_result"
    },
    {
     "data": {
      "image/png": "[encoded data removed]",
      "text/plain": [
       "<Figure size 432x288 with 1 Axes>"
      ]
     },
     "metadata": {},
     "output_type": "display_data"
    }
   ],
   "source": [
    "plt.plot(hourlymean_cd['violations'])"
   ]
  },
  {
   "cell_type": "code",
   "execution_count": 81,
   "metadata": {},
   "outputs": [
    {
     "data": {
      "text/plain": [
       "[<matplotlib.lines.Line2D at 0x1b9e490a6d8>]"
      ]
     },
     "execution_count": 81,
     "metadata": {},
     "output_type": "execute_result"
    },
    {
     "data": {
      "image/png": "[encoded data removed]",
      "text/plain": [
       "<Figure size 432x288 with 1 Axes>"
      ]
     },
     "metadata": {},
     "output_type": "display_data"
    }
   ],
   "source": [
    "plt.plot(dailymean_cd['violations'])"
   ]
  },
  {
   "cell_type": "code",
   "execution_count": 34,
   "metadata": {},
   "outputs": [],
   "source": [
    "hourlymean_cd.to_csv('weathertimeviolations_hourlymean.csv', index = False)"
   ]
  },
  {
   "cell_type": "code",
   "execution_count": 35,
   "metadata": {},
   "outputs": [],
   "source": [
    "dailymean_cd.to_csv('weathertimeviolations_dailymean.csv', index = False)"
   ]
  },
  {
   "cell_type": "code",
   "execution_count": 36,
   "metadata": {},
   "outputs": [],
   "source": [
    "comb_df.to_csv('weathertimeviolations.csv', index = False)"
   ]
  },
  {
   "cell_type": "markdown",
   "metadata": {},
   "source": [
    "# Modelling"
   ]
  },
  {
   "cell_type": "markdown",
   "metadata": {},
   "source": [
    "Read the latest data from file to separate data manipulation flow from the modelling tasks flow."
   ]
  },
  {
   "cell_type": "code",
   "execution_count": 37,
   "metadata": {},
   "outputs": [],
   "source": [
    "weatherviolations_minutely = pd.read_csv('weathertimeviolations.csv')\n",
    "weatherviolations_hourly = pd.read_csv('weathertimeviolations_hourlymean.csv')\n",
    "weatherviolations_daily = pd.read_csv('weathertimeviolations_dailymean.csv')"
   ]
  },
  {
   "cell_type": "code",
   "execution_count": 38,
   "metadata": {},
   "outputs": [
    {
     "data": {
      "text/plain": [
       "<matplotlib.collections.PathCollection at 0x250c34ef978>"
      ]
     },
     "execution_count": 38,
     "metadata": {},
     "output_type": "execute_result"
    },
    {
     "data": {
      "image/png": "[encoded data removed]",
      "text/plain": [
       "<Figure size 432x288 with 1 Axes>"
      ]
     },
     "metadata": {
      "needs_background": "light"
     },
     "output_type": "display_data"
    }
   ],
   "source": [
    "plt.scatter(weatherviolations_hourly['hour'], weatherviolations_hourly['violations'])"
   ]
  },
  {
   "cell_type": "markdown",
   "metadata": {},
   "source": [
    "**More violations during the day**"
   ]
  },
  {
   "cell_type": "code",
   "execution_count": 39,
   "metadata": {},
   "outputs": [
    {
     "data": {
      "text/plain": [
       "<matplotlib.collections.PathCollection at 0x250c482c9e8>"
      ]
     },
     "execution_count": 39,
     "metadata": {},
     "output_type": "execute_result"
    },
    {
     "data": {
      "image/png": "[encoded data removed]",
      "text/plain": [
       "<Figure size 432x288 with 1 Axes>"
      ]
     },
     "metadata": {
      "needs_background": "light"
     },
     "output_type": "display_data"
    }
   ],
   "source": [
    "plt.scatter(weatherviolations_hourly['temp'], weatherviolations_hourly['violations'])"
   ]
  },
  {
   "cell_type": "markdown",
   "metadata": {},
   "source": [
    "**More violations at 5-15 oC temperature?**"
   ]
  },
  {
   "cell_type": "code",
   "execution_count": 40,
   "metadata": {},
   "outputs": [
    {
     "data": {
      "text/plain": [
       "<matplotlib.collections.PathCollection at 0x250c489b7f0>"
      ]
     },
     "execution_count": 40,
     "metadata": {},
     "output_type": "execute_result"
    },
    {
     "data": {
      "image/png": "[encoded data removed]",
      "text/plain": [
       "<Figure size 432x288 with 1 Axes>"
      ]
     },
     "metadata": {
      "needs_background": "light"
     },
     "output_type": "display_data"
    }
   ],
   "source": [
    "plt.scatter(weatherviolations_hourly['illuminance'], weatherviolations_hourly['violations'])"
   ]
  },
  {
   "cell_type": "markdown",
   "metadata": {},
   "source": [
    "**More violations at low luminance?**"
   ]
  },
  {
   "cell_type": "code",
   "execution_count": 41,
   "metadata": {},
   "outputs": [],
   "source": [
    "from sklearn.ensemble import RandomForestRegressor\n",
    "from sklearn.model_selection import train_test_split"
   ]
  },
  {
   "cell_type": "code",
   "execution_count": 42,
   "metadata": {},
   "outputs": [],
   "source": [
    "X_train, X_val, y_train, y_val = train_test_split(hourlymean_cd[['hour', 'temp', 'illuminance']], hourlymean_cd['violations'], test_size=0.3, random_state = 1)"
   ]
  },
  {
   "cell_type": "code",
   "execution_count": 53,
   "metadata": {},
   "outputs": [],
   "source": [
    "rf1 = RandomForestRegressor(n_estimators = 200, random_state = 1).fit(X_train, y_train)"
   ]
  },
  {
   "cell_type": "code",
   "execution_count": 54,
   "metadata": {},
   "outputs": [
    {
     "data": {
      "text/plain": [
       "0.03507584130576635"
      ]
     },
     "execution_count": 54,
     "metadata": {},
     "output_type": "execute_result"
    }
   ],
   "source": [
    "rf1.score(X_val, y_val)"
   ]
  },
  {
   "cell_type": "code",
   "execution_count": 64,
   "metadata": {},
   "outputs": [],
   "source": [
    "rf2 = RandomForestRegressor(n_estimators = 200,\n",
    "                            random_state = 1,\n",
    "                           min_samples_leaf = 4).fit(X_train, y_train)"
   ]
  },
  {
   "cell_type": "code",
   "execution_count": 65,
   "metadata": {},
   "outputs": [
    {
     "data": {
      "text/plain": [
       "0.09926287939755386"
      ]
     },
     "execution_count": 65,
     "metadata": {},
     "output_type": "execute_result"
    }
   ],
   "source": [
    "rf2.score(X_val, y_val)"
   ]
  },
  {
   "cell_type": "markdown",
   "metadata": {},
   "source": [
    "# Heatmap intervals and classification"
   ]
  },
  {
   "cell_type": "code",
   "execution_count": null,
   "metadata": {},
   "outputs": [],
   "source": [
    "# add alpha (transparency) to a colormap\n",
    "import matplotlib.cm from matplotlib.colors \n",
    "import LinearSegmentedColormap \n",
    "wd = matplotlib.cm.winter._segmentdata # only has r,g,b  \n",
    "wd['alpha'] =  ((0.0, 0.0, 0.3), \n",
    "               (0.3, 0.3, 1.0),\n",
    "               (1.0, 1.0, 1.0))\n",
    "\n",
    "# modified colormap with changing alpha\n",
    "al_winter = LinearSegmentedColormap('AlphaWinter', wd) \n",
    "\n",
    "# get the map image as an array so we can plot it \n",
    "import matplotlib.image as mpimg \n",
    "map_img = mpimg.imread('tunis.png') \n",
    "\n",
    "# making and plotting heatmap \n",
    "import numpy.random as random \n",
    "heatmap_data = random.rand(8,9) \n",
    "\n",
    "import seaborn as sns \n",
    "sns.set()\n",
    "\n",
    "hmax = sns.heatmap(heatmap_data,\n",
    "            #cmap = al_winter, # this worked but I didn't like it\n",
    "            cmap = matplotlib.cm.winter,\n",
    "            alpha = 0.5, # whole heatmap is translucent\n",
    "            annot = True,\n",
    "            zorder = 2,\n",
    "            )\n",
    "\n",
    "# heatmap uses pcolormesh instead of imshow, so we can't pass through \n",
    "# extent as a kwarg, so we can't mmatch the heatmap to the map. Instead, \n",
    "# match the map to the heatmap:\n",
    "\n",
    "hmax.imshow(map_img,\n",
    "          aspect = hmax.get_aspect(),\n",
    "          extent = hmax.get_xlim() + hmax.get_ylim(),\n",
    "          zorder = 1) #put the map under the heatmap\n",
    "\n",
    "from matplotlib.pyplot import show \n",
    "show()"
   ]
  },
  {
   "cell_type": "code",
   "execution_count": 45,
   "metadata": {},
   "outputs": [],
   "source": [
    "x_c = np.zeros((8, 1), dtype = int)\n",
    "y_c = np.zeros((1, 8), dtype = int)\n",
    "c = np.zeros((8, 8), dtype = int)"
   ]
  },
  {
   "cell_type": "code",
   "execution_count": 46,
   "metadata": {},
   "outputs": [],
   "source": [
    "def interval(x_start, y_start, interval):\n",
    "\n",
    "    k = 1\n",
    "    while k <= len(x_c):\n",
    "        x_c[k-1][0] = x_start + (interval*k)\n",
    "        y_c[0][k-1] = y_start + (interval*k)\n",
    "        k += 1"
   ]
  },
  {
   "cell_type": "code",
   "execution_count": 47,
   "metadata": {},
   "outputs": [],
   "source": [
    "def grid_loc(a, b, l1, l2): # l1 and l2 are to determain the coordinates position in the made grid\n",
    "    n = 0\n",
    "    l = [0, 0]\n",
    "    while n < len(l1):\n",
    "        if a < l1[n][0]: # a is the x-coordinate\n",
    "            l[0] = n\n",
    "            break\n",
    "\n",
    "        n += 1\n",
    "\n",
    "    z = 0\n",
    "    \n",
    "    while z < len(l1):\n",
    "        if b < l2[0][z]: # b is the y-coordinate\n",
    "            l[1] = z\n",
    "            break\n",
    "\n",
    "        z += 1\n",
    "        \n",
    "    return l"
   ]
  },
  {
   "cell_type": "code",
   "execution_count": 48,
   "metadata": {},
   "outputs": [],
   "source": [
    "x0 = 6470000\n",
    "y0 = 656000\n",
    "inter = 1000\n",
    "\n",
    "interval(x0, y0, inter)"
   ]
  },
  {
   "cell_type": "code",
   "execution_count": 49,
   "metadata": {},
   "outputs": [],
   "source": [
    "loc = police_df[['Lest_X', 'Lest_Y']]\n",
    "len_loc = 0\n",
    "grid = []\n",
    "\n",
    "while len_loc < len(loc):\n",
    "    grid.append(grid_loc(loc.iloc[len_loc][0], loc.iloc[len_loc][1], x_c, y_c))   \n",
    "    len_loc += 1"
   ]
  },
  {
   "cell_type": "code",
   "execution_count": 50,
   "metadata": {},
   "outputs": [],
   "source": [
    "for el in grid:\n",
    "    c[el[0]][el[1]] += 1"
   ]
  },
  {
   "cell_type": "code",
   "execution_count": 51,
   "metadata": {},
   "outputs": [],
   "source": [
    "n = 7\n",
    "co = []\n",
    "\n",
    "while n >= 0:\n",
    "    co.append(list(c[n]))\n",
    "    n -= 1"
   ]
  },
  {
   "cell_type": "code",
   "execution_count": 283,
   "metadata": {},
   "outputs": [
    {
     "data": {
      "image/png": "[encoded data removed]",
      "text/plain": [
       "<Figure size 864x720 with 2 Axes>"
      ]
     },
     "metadata": {
      "needs_background": "light"
     },
     "output_type": "display_data"
    }
   ],
   "source": [
    "plt.subplots(figsize = (12, 10))\n",
    "hm = sns.heatmap(co, xticklabels = False, yticklabels = False, cmap = 'summer_r')"
   ]
  },
  {
   "cell_type": "code",
   "execution_count": 273,
   "metadata": {},
   "outputs": [],
   "source": [
    "pic = hm.get_figure()\n",
    "#pic.savefig('heatmap_2012_terrain_r.png')"
   ]
  }
 ],
 "metadata": {
  "kernelspec": {
   "display_name": "Python 3",
   "language": "python",
   "name": "python3"
  },
  "language_info": {
   "codemirror_mode": {
    "name": "ipython",
    "version": 3
   },
   "file_extension": ".py",
   "mimetype": "text/x-python",
   "name": "python",
   "nbconvert_exporter": "python",
   "pygments_lexer": "ipython3",
   "version": "3.6.5"
  }
 },
 "nbformat": 4,
 "nbformat_minor": 2
}
