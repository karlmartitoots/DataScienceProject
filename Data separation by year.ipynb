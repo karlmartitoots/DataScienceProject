{
 "cells": [
  {
   "cell_type": "markdown",
   "metadata": {},
   "source": [
    "# Separate police data by year"
   ]
  },
  {
   "cell_type": "markdown",
   "metadata": {},
   "source": [
    "File liiklusjarelevalve_1.csv contains data about 2018.01.01-2019.12.11<br>\n",
    "File liiklusjarelevalve_2.csv contains data about 2014.01.01-2018.12.31<br>\n",
    "File liiklusjarelevalve_3.csv contains data about 2012.01.01-2013.12.31"
   ]
  },
  {
   "cell_type": "code",
   "execution_count": 11,
   "metadata": {},
   "outputs": [],
   "source": [
    "import pandas as pd\n",
    "from datetime import datetime\n",
    "\n",
    "data1 = pd.read_csv(\"datafiles/liiklusjarelevalve_1.csv\", encoding = \"UTF-8\", sep='\\t')\n",
    "data2 = pd.read_csv(\"datafiles/liiklusjarelevalve_2.csv\", encoding = \"UTF-8\", sep='\\t')\n",
    "data3 = pd.read_csv(\"datafiles/liiklusjarelevalve_3.csv\", encoding = \"UTF-8\", sep='\\t')"
   ]
  },
  {
   "cell_type": "code",
   "execution_count": 7,
   "metadata": {},
   "outputs": [],
   "source": [
    "# Creates a list of booleans, each boolean determines if the corresponding dataframe row has 'ToimKpv' with input year\n",
    "isYear = lambda yr, df: list([str(datetime.strptime(kpv, '%Y-%m-%d').year) == yr for kpv in df['ToimKpv']])"
   ]
  },
  {
   "cell_type": "code",
   "execution_count": 10,
   "metadata": {},
   "outputs": [],
   "source": [
    "data3[isYear('2012', data3)].to_csv('datafiles/2012_traffic_violations.csv', encoding = \"UTF-8\", sep='\\t') \n",
    "data3[isYear('2013', data3)].to_csv('datafiles/2013_traffic_violations.csv', encoding = \"UTF-8\", sep='\\t') \n",
    "data2[isYear('2014', data2)].to_csv('datafiles/2014_traffic_violations.csv', encoding = \"UTF-8\", sep='\\t') \n",
    "data2[isYear('2015', data2)].to_csv('datafiles/2015_traffic_violations.csv', encoding = \"UTF-8\", sep='\\t') \n",
    "data2[isYear('2016', data2)].to_csv('datafiles/2016_traffic_violations.csv', encoding = \"UTF-8\", sep='\\t') \n",
    "data2[isYear('2017', data2)].to_csv('datafiles/2017_traffic_violations.csv', encoding = \"UTF-8\", sep='\\t') \n",
    "data2[isYear('2018', data2)].to_csv('datafiles/2018_traffic_violations.csv', encoding = \"UTF-8\", sep='\\t') \n",
    "data1[isYear('2019', data1)].to_csv('datafiles/2019_traffic_violations.csv', encoding = \"UTF-8\", sep='\\t')"
   ]
  }
 ],
 "metadata": {
  "kernelspec": {
   "display_name": "Python 3",
   "language": "python",
   "name": "python3"
  },
  "language_info": {
   "codemirror_mode": {
    "name": "ipython",
    "version": 3
   },
   "file_extension": ".py",
   "mimetype": "text/x-python",
   "name": "python",
   "nbconvert_exporter": "python",
   "pygments_lexer": "ipython3",
   "version": "3.6.5"
  }
 },
 "nbformat": 4,
 "nbformat_minor": 2
}
