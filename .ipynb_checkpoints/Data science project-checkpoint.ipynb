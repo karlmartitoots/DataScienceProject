{
 "cells": [
  {
   "cell_type": "code",
   "execution_count": 107,
   "metadata": {},
   "outputs": [],
   "source": [
    "import numpy as np\n",
    "import pandas as pd\n",
    "import urllib.request\n",
    "import requests\n",
    "import re\n",
    "from matplotlib import pyplot as plt"
   ]
  },
  {
   "cell_type": "code",
   "execution_count": 6,
   "metadata": {},
   "outputs": [],
   "source": [
    "data = pd.read_csv(\"liiklusjarelevalve_3.csv\", encoding = \"UTF-8\", sep='\\t')"
   ]
  },
  {
   "cell_type": "code",
   "execution_count": 21,
   "metadata": {},
   "outputs": [
    {
     "data": {
      "text/html": [
       "<div>\n",
       "<style scoped>\n",
       "    .dataframe tbody tr th:only-of-type {\n",
       "        vertical-align: middle;\n",
       "    }\n",
       "\n",
       "    .dataframe tbody tr th {\n",
       "        vertical-align: top;\n",
       "    }\n",
       "\n",
       "    .dataframe thead th {\n",
       "        text-align: right;\n",
       "    }\n",
       "</style>\n",
       "<table border=\"1\" class=\"dataframe\">\n",
       "  <thead>\n",
       "    <tr style=\"text-align: right;\">\n",
       "      <th></th>\n",
       "      <th>JuhtumId</th>\n",
       "      <th>ToimKpv</th>\n",
       "      <th>ToimKell</th>\n",
       "      <th>ToimNadalapaev</th>\n",
       "      <th>Seadus</th>\n",
       "      <th>Paragrahv</th>\n",
       "      <th>ParagrahvTais</th>\n",
       "      <th>Loige</th>\n",
       "      <th>Punkt</th>\n",
       "      <th>RikutudOigusnorm</th>\n",
       "      <th>...</th>\n",
       "      <th>Lest_X</th>\n",
       "      <th>Lest_Y</th>\n",
       "      <th>SoidukLiik</th>\n",
       "      <th>SoidukRegRiik</th>\n",
       "      <th>SoidukMark</th>\n",
       "      <th>SoidukVlAasta</th>\n",
       "      <th>RikkujaSugu</th>\n",
       "      <th>RikkujaVanus</th>\n",
       "      <th>RikkujaElukoht</th>\n",
       "      <th>SyyteoLiik</th>\n",
       "    </tr>\n",
       "  </thead>\n",
       "  <tbody>\n",
       "    <tr>\n",
       "      <td>0</td>\n",
       "      <td>9617cbde-1636-18d5-8326-a9a756483dba</td>\n",
       "      <td>2013-12-31</td>\n",
       "      <td>23:38</td>\n",
       "      <td>Teisipäev</td>\n",
       "      <td>Liiklusseadus</td>\n",
       "      <td>§ 242.</td>\n",
       "      <td>§ 242. Mootorsõiduki- või trammijuhi poolt lii...</td>\n",
       "      <td>lg. 1.</td>\n",
       "      <td></td>\n",
       "      <td>LS § 76 lg. 1; § 73 lg. 1; § 106 lg. 3</td>\n",
       "      <td>...</td>\n",
       "      <td>6534000-6534499</td>\n",
       "      <td>473000-473499</td>\n",
       "      <td>SOIDUAUTO</td>\n",
       "      <td>EST</td>\n",
       "      <td>VOLKSWAGEN</td>\n",
       "      <td>1994</td>\n",
       "      <td>M</td>\n",
       "      <td>18-25</td>\n",
       "      <td>EST</td>\n",
       "      <td>VT</td>\n",
       "    </tr>\n",
       "    <tr>\n",
       "      <td>1</td>\n",
       "      <td>9617cc1a-1636-18d5-8326-a9a756483dba</td>\n",
       "      <td>2013-12-31</td>\n",
       "      <td>23:25</td>\n",
       "      <td>Teisipäev</td>\n",
       "      <td>Liiklusseadus</td>\n",
       "      <td>§ 227.</td>\n",
       "      <td>§ 227. Mootorsõidukijuhi poolt lubatud sõiduki...</td>\n",
       "      <td>lg. 2.</td>\n",
       "      <td></td>\n",
       "      <td>LS § 15 lg. 1 p. 1</td>\n",
       "      <td>...</td>\n",
       "      <td>6577500-6577999</td>\n",
       "      <td>546500-546999</td>\n",
       "      <td>SOIDUAUTO</td>\n",
       "      <td>EST</td>\n",
       "      <td>VOLVO</td>\n",
       "      <td>2010</td>\n",
       "      <td>M</td>\n",
       "      <td>26-34</td>\n",
       "      <td>NaN</td>\n",
       "      <td>VT</td>\n",
       "    </tr>\n",
       "    <tr>\n",
       "      <td>2</td>\n",
       "      <td>9617c9cc-1636-18d5-8326-a9a756483dba</td>\n",
       "      <td>2013-12-31</td>\n",
       "      <td>23:20</td>\n",
       "      <td>Teisipäev</td>\n",
       "      <td>Liiklusseadus</td>\n",
       "      <td>§ 201.</td>\n",
       "      <td>§ 201. Mootorsõiduki, maastikusõiduki või tram...</td>\n",
       "      <td>lg. 1.</td>\n",
       "      <td></td>\n",
       "      <td>LS § 90 lg. 1 p. 1</td>\n",
       "      <td>...</td>\n",
       "      <td>6588500-6588999</td>\n",
       "      <td>685500-685999</td>\n",
       "      <td>TUNDMATU</td>\n",
       "      <td>EST</td>\n",
       "      <td>CITROEN</td>\n",
       "      <td>2008</td>\n",
       "      <td>M</td>\n",
       "      <td>18-25</td>\n",
       "      <td>NaN</td>\n",
       "      <td>VT</td>\n",
       "    </tr>\n",
       "    <tr>\n",
       "      <td>3</td>\n",
       "      <td>9617d20a-1636-18d5-8326-a9a756483dba</td>\n",
       "      <td>2013-12-31</td>\n",
       "      <td>23:20</td>\n",
       "      <td>Teisipäev</td>\n",
       "      <td>Liiklusseadus</td>\n",
       "      <td>§ 202.</td>\n",
       "      <td>§ 202. Mootorsõiduki, maastikusõiduki või tram...</td>\n",
       "      <td>lg. 1.</td>\n",
       "      <td></td>\n",
       "      <td>LS § 90 lg. 2</td>\n",
       "      <td>...</td>\n",
       "      <td>6588500-6588999</td>\n",
       "      <td>685500-685999</td>\n",
       "      <td>TUNDMATU</td>\n",
       "      <td>EST</td>\n",
       "      <td>CITROEN</td>\n",
       "      <td>2008</td>\n",
       "      <td>M</td>\n",
       "      <td>26-34</td>\n",
       "      <td>NaN</td>\n",
       "      <td>VT</td>\n",
       "    </tr>\n",
       "    <tr>\n",
       "      <td>4</td>\n",
       "      <td>9617d20a-1636-18d5-8326-a9a756483dba</td>\n",
       "      <td>2013-12-31</td>\n",
       "      <td>23:20</td>\n",
       "      <td>Teisipäev</td>\n",
       "      <td>Liiklusseadus</td>\n",
       "      <td>§ 225.</td>\n",
       "      <td>§ 225. Joobes isiku mootorsõidukit, maastikusõ...</td>\n",
       "      <td>lg. 1.</td>\n",
       "      <td></td>\n",
       "      <td>LS § 90 lg. 2</td>\n",
       "      <td>...</td>\n",
       "      <td>6588500-6588999</td>\n",
       "      <td>685500-685999</td>\n",
       "      <td>TUNDMATU</td>\n",
       "      <td>EST</td>\n",
       "      <td>CITROEN</td>\n",
       "      <td>2008</td>\n",
       "      <td>M</td>\n",
       "      <td>26-34</td>\n",
       "      <td>NaN</td>\n",
       "      <td>VT</td>\n",
       "    </tr>\n",
       "  </tbody>\n",
       "</table>\n",
       "<p>5 rows × 26 columns</p>\n",
       "</div>"
      ],
      "text/plain": [
       "                               JuhtumId     ToimKpv ToimKell ToimNadalapaev  \\\n",
       "0  9617cbde-1636-18d5-8326-a9a756483dba  2013-12-31    23:38      Teisipäev   \n",
       "1  9617cc1a-1636-18d5-8326-a9a756483dba  2013-12-31    23:25      Teisipäev   \n",
       "2  9617c9cc-1636-18d5-8326-a9a756483dba  2013-12-31    23:20      Teisipäev   \n",
       "3  9617d20a-1636-18d5-8326-a9a756483dba  2013-12-31    23:20      Teisipäev   \n",
       "4  9617d20a-1636-18d5-8326-a9a756483dba  2013-12-31    23:20      Teisipäev   \n",
       "\n",
       "          Seadus Paragrahv                                      ParagrahvTais  \\\n",
       "0  Liiklusseadus    § 242.  § 242. Mootorsõiduki- või trammijuhi poolt lii...   \n",
       "1  Liiklusseadus    § 227.  § 227. Mootorsõidukijuhi poolt lubatud sõiduki...   \n",
       "2  Liiklusseadus    § 201.  § 201. Mootorsõiduki, maastikusõiduki või tram...   \n",
       "3  Liiklusseadus    § 202.  § 202. Mootorsõiduki, maastikusõiduki või tram...   \n",
       "4  Liiklusseadus    § 225.  § 225. Joobes isiku mootorsõidukit, maastikusõ...   \n",
       "\n",
       "    Loige                 Punkt                        RikutudOigusnorm  ...  \\\n",
       "0  lg. 1.                        LS § 76 lg. 1; § 73 lg. 1; § 106 lg. 3  ...   \n",
       "1  lg. 2.                                            LS § 15 lg. 1 p. 1  ...   \n",
       "2  lg. 1.                                            LS § 90 lg. 1 p. 1  ...   \n",
       "3  lg. 1.                                                 LS § 90 lg. 2  ...   \n",
       "4  lg. 1.                                                 LS § 90 lg. 2  ...   \n",
       "\n",
       "            Lest_X         Lest_Y SoidukLiik SoidukRegRiik  SoidukMark  \\\n",
       "0  6534000-6534499  473000-473499  SOIDUAUTO           EST  VOLKSWAGEN   \n",
       "1  6577500-6577999  546500-546999  SOIDUAUTO           EST       VOLVO   \n",
       "2  6588500-6588999  685500-685999   TUNDMATU           EST     CITROEN   \n",
       "3  6588500-6588999  685500-685999   TUNDMATU           EST     CITROEN   \n",
       "4  6588500-6588999  685500-685999   TUNDMATU           EST     CITROEN   \n",
       "\n",
       "   SoidukVlAasta RikkujaSugu RikkujaVanus RikkujaElukoht SyyteoLiik  \n",
       "0           1994           M        18-25            EST         VT  \n",
       "1           2010           M        26-34            NaN         VT  \n",
       "2           2008           M        18-25            NaN         VT  \n",
       "3           2008           M        26-34            NaN         VT  \n",
       "4           2008           M        26-34            NaN         VT  \n",
       "\n",
       "[5 rows x 26 columns]"
      ]
     },
     "execution_count": 21,
     "metadata": {},
     "output_type": "execute_result"
    }
   ],
   "source": [
    "police_data = data.copy()\n",
    "police_data.head()"
   ]
  },
  {
   "cell_type": "code",
   "execution_count": 11,
   "metadata": {},
   "outputs": [
    {
     "data": {
      "text/plain": [
       "array(['Haapsalu linn', 'Rae vald', 'Kohtla-Järve linn', 'Võru linn',\n",
       "       'Saarde vald', 'Hiiu vald', 'Tallinna linn', 'Võru vald',\n",
       "       'Tartu linn', 'Kohtla vald', 'Pärnu linn', 'Saku vald',\n",
       "       'Vändra vald', 'Kose vald', 'Saue vald', 'Jõelähtme vald',\n",
       "       'Nissi vald', 'Viljandi linn', 'Narva linn', 'Rakvere linn',\n",
       "       'Põltsamaa vald', 'Puurmani vald', 'Laeva vald', 'Mäetaguse vald',\n",
       "       'Harku vald', 'Kuressaare linn', 'Sillamäe linn', 'Jõgeva vald',\n",
       "       'Rakvere vald', 'Raasiku vald', 'Sõmerpalu vald', 'Kernu vald',\n",
       "       'Väike-Maarja vald', 'Lüganuse vald', 'Kambja vald', 'Jõgeva linn',\n",
       "       'Tartu vald', 'Märjamaa vald', 'Türi linn', 'Hanila vald',\n",
       "       'Ridala vald', 'Häädemeeste vald', 'Valgjärve vald', 'Rapla linn',\n",
       "       'Kuusalu vald', 'Lihula vald', 'Valga linn', 'Paide linn',\n",
       "       'Kunda linn', 'Paikuse vald', 'Leisi vald', 'Elva linn',\n",
       "       'Toila vald', 'Viljandi vald', 'Põltsamaa linn',\n",
       "       'Kolga-Jaani vald', 'Keila vald', 'Käina vald', 'Pala vald',\n",
       "       'Ülenurme vald', 'Maardu linn', 'Kõue vald', 'Are vald',\n",
       "       'Jõhvi vald', 'Anija vald', 'Sonda vald', 'Vaivara vald',\n",
       "       'Kehtna vald', 'Türi vald', 'Torma vald', 'Jõhvi linn',\n",
       "       'Värska vald', 'Halinga vald', 'Misso vald', 'Kaarma vald',\n",
       "       'Raikküla vald', 'Palupera vald', 'Oru vald', 'Kohila vald',\n",
       "       'Audru vald', 'Koeru vald', 'Kareda vald', 'Imavere vald',\n",
       "       'Palamuse vald', 'Tabivere vald', 'Saarepeedi vald', 'Taebla vald',\n",
       "       'Kiili vald', 'Paistu vald', 'Tahkuranna vald', 'Haaslava vald',\n",
       "       'Kiviõli linn', 'Paide vald', 'Väätsa vald', nan,\n",
       "       'Narva-Jõesuu linn', 'Karksi vald', 'Helme vald', 'Põlva vald',\n",
       "       'Mäksa vald', 'Nõo vald', 'Laheda vald', 'Käru vald',\n",
       "       'Suure-Jaani vald', 'Rõngu vald', 'Muhu vald', 'Iisaku vald',\n",
       "       'Tapa vald', 'Lohusuu vald', 'Roosna-Alliku vald', 'Tähtvere vald',\n",
       "       'Põlva linn', 'Tõstamaa vald', 'Tõlliste vald', 'Pühalepa vald',\n",
       "       'Vasalemma vald', 'Viimsi vald', 'Keila linn', 'Haljala vald',\n",
       "       'Vinni vald', 'Puhja vald', 'Tapa linn', 'Rannu vald',\n",
       "       'Sõmeru vald', 'Sangaste vald', 'Sauga vald', 'Aseri vald',\n",
       "       'Ahja vald', 'Otepää linn', 'Ambla vald', 'Kõlleste vald',\n",
       "       'Mikitamäe vald', 'Kärla vald', 'Rapla vald', 'Vara vald',\n",
       "       'Koigi vald', 'Veriora vald', 'Mustvee linn', 'Martna vald',\n",
       "       'Surju vald', 'Järvakandi vald', 'Viru-Nigula vald', 'Tori vald',\n",
       "       'Padise vald', 'Pärsti vald', 'Vändra vald (alev)', 'Meeksi vald',\n",
       "       'Kanepi vald', 'Meremäe vald', 'Kaiu vald', 'Põdrala vald',\n",
       "       'Lihula linn', 'Konguta vald', 'Kärdla linn', 'Vastseliina vald',\n",
       "       'Tõrva linn', 'Räpina linn', 'Kallaste linn', 'Lasva vald',\n",
       "       'Sindi linn', 'Lavassaare vald', 'Koonga vald', 'Rõuge vald',\n",
       "       'Pihtla vald', 'Pajusi vald', 'Räpina vald', 'Luunja vald',\n",
       "       'Kadrina vald', 'Kehra linn', 'Kihelkonna vald', 'Tamsalu linn',\n",
       "       '!Sisestamata', 'Saue linn', 'Kilingi-Nõmme linn', 'Avinurme vald',\n",
       "       'Otepää vald', 'Hummuli vald', 'Viiratsi vald', 'Mooste vald',\n",
       "       'Tudulinna vald', 'Haanja vald', 'Orissaare vald', 'Tamsalu vald',\n",
       "       'Orava vald', 'Risti vald', 'Kullamaa vald', 'Mõniste vald',\n",
       "       'Kasepää vald', 'Saare vald', 'Pöide vald', 'Emmaste vald',\n",
       "       'Vigala vald', 'Halliste vald', 'Kõpu vald', 'Valjala vald',\n",
       "       'Tarvastu vald', 'Puka vald', 'Varstu vald', 'Paldiski linn',\n",
       "       'Antsla linn', 'Varbla vald', 'Antsla vald', 'Vastse-Kuuste vald',\n",
       "       'Aegviidu vald', 'Salme vald', 'Kõrgessaare vald',\n",
       "       'Abja-Paluoja linn', 'Karksi-Nuia linn', 'Loksa linn',\n",
       "       'Lääne-Nigula vald', 'Võhma linn', 'Mustjala vald',\n",
       "       'Rägavere vald', 'Järva-Jaani vald', 'Kihnu vald',\n",
       "       'Peipsiääre vald', 'Juuru vald', 'Laekvere vald', 'Püssi linn',\n",
       "       'Rakke vald', 'Kohtla-Nõmme vald', 'Kõo vald', 'Taheva vald',\n",
       "       'Illuka vald', 'Vihula vald', 'Noarootsi vald', 'Alatskivi vald',\n",
       "       'Õru vald', 'Albu vald', 'Laimjala vald', 'Võnnu vald',\n",
       "       'Mõisaküla linn', 'Abja vald', 'Lümanda vald', 'Saaremaa vald',\n",
       "       'Maidla vald', 'Urvaste vald', 'Suure-Jaani linn', 'Alajõe vald',\n",
       "       'Lääneranna vald', 'Nõva vald', 'Karula vald', 'Vormsi vald',\n",
       "       'Torgu vald', 'Tootsi vald', 'Järva vald', 'Hiiumaa vald'],\n",
       "      dtype=object)"
      ]
     },
     "execution_count": 11,
     "metadata": {},
     "output_type": "execute_result"
    }
   ],
   "source": [
    "police_data.ValdLinnNimetus.unique() # Siit Tartu linn"
   ]
  },
  {
   "cell_type": "code",
   "execution_count": 55,
   "metadata": {},
   "outputs": [
    {
     "data": {
      "text/html": [
       "<div>\n",
       "<style scoped>\n",
       "    .dataframe tbody tr th:only-of-type {\n",
       "        vertical-align: middle;\n",
       "    }\n",
       "\n",
       "    .dataframe tbody tr th {\n",
       "        vertical-align: top;\n",
       "    }\n",
       "\n",
       "    .dataframe thead th {\n",
       "        text-align: right;\n",
       "    }\n",
       "</style>\n",
       "<table border=\"1\" class=\"dataframe\">\n",
       "  <thead>\n",
       "    <tr style=\"text-align: right;\">\n",
       "      <th></th>\n",
       "      <th>JuhtumId</th>\n",
       "      <th>ToimKpv</th>\n",
       "      <th>ToimKell</th>\n",
       "      <th>Lest_X</th>\n",
       "      <th>Lest_Y</th>\n",
       "    </tr>\n",
       "  </thead>\n",
       "  <tbody>\n",
       "    <tr>\n",
       "      <td>0</td>\n",
       "      <td>9617ed94-1636-18d5-8326-a9a756483dba</td>\n",
       "      <td>2013-12-31</td>\n",
       "      <td>21:06</td>\n",
       "      <td>6475000-6475499</td>\n",
       "      <td>659000-659499</td>\n",
       "    </tr>\n",
       "    <tr>\n",
       "      <td>1</td>\n",
       "      <td>9617e9de-1636-18d5-8326-a9a756483dba</td>\n",
       "      <td>2013-12-31</td>\n",
       "      <td>20:28</td>\n",
       "      <td>6475000-6475499</td>\n",
       "      <td>659000-659499</td>\n",
       "    </tr>\n",
       "    <tr>\n",
       "      <td>2</td>\n",
       "      <td>9617ed3a-1636-18d5-8326-a9a756483dba</td>\n",
       "      <td>2013-12-31</td>\n",
       "      <td>19:19</td>\n",
       "      <td>6472000-6472499</td>\n",
       "      <td>656500-656999</td>\n",
       "    </tr>\n",
       "    <tr>\n",
       "      <td>3</td>\n",
       "      <td>9617ec90-1636-18d5-8326-a9a756483dba</td>\n",
       "      <td>2013-12-31</td>\n",
       "      <td>14:19</td>\n",
       "      <td>6475000-6475499</td>\n",
       "      <td>659000-659499</td>\n",
       "    </tr>\n",
       "    <tr>\n",
       "      <td>4</td>\n",
       "      <td>9617ebaa-1636-18d5-8326-a9a756483dba</td>\n",
       "      <td>2013-12-31</td>\n",
       "      <td>13:44</td>\n",
       "      <td>6475000-6475499</td>\n",
       "      <td>659000-659499</td>\n",
       "    </tr>\n",
       "  </tbody>\n",
       "</table>\n",
       "</div>"
      ],
      "text/plain": [
       "                               JuhtumId     ToimKpv ToimKell           Lest_X  \\\n",
       "0  9617ed94-1636-18d5-8326-a9a756483dba  2013-12-31    21:06  6475000-6475499   \n",
       "1  9617e9de-1636-18d5-8326-a9a756483dba  2013-12-31    20:28  6475000-6475499   \n",
       "2  9617ed3a-1636-18d5-8326-a9a756483dba  2013-12-31    19:19  6472000-6472499   \n",
       "3  9617ec90-1636-18d5-8326-a9a756483dba  2013-12-31    14:19  6475000-6475499   \n",
       "4  9617ebaa-1636-18d5-8326-a9a756483dba  2013-12-31    13:44  6475000-6475499   \n",
       "\n",
       "          Lest_Y  \n",
       "0  659000-659499  \n",
       "1  659000-659499  \n",
       "2  656500-656999  \n",
       "3  659000-659499  \n",
       "4  659000-659499  "
      ]
     },
     "execution_count": 55,
     "metadata": {},
     "output_type": "execute_result"
    }
   ],
   "source": [
    "tartu_data = police_data[police_data.ValdLinnNimetus == 'Tartu linn'] # Filtering the results to Tartu\n",
    "tartu_data = tartu_data[['JuhtumId', 'ToimKpv', 'ToimKell', 'Lest_X', 'Lest_Y']] # Columns selected for our project\n",
    "tartu_data = tartu_data.reset_index().drop('index', axis = 1)\n",
    "\n",
    "tartu_data.head()"
   ]
  },
  {
   "cell_type": "code",
   "execution_count": 56,
   "metadata": {},
   "outputs": [],
   "source": [
    "def avg(l): \n",
    "    return sum(l) / len(l) \n",
    "\n",
    "def average_coordinates(column): # Function for getting the centerpoint of the square where the violation took place\n",
    "    n = 0\n",
    "    while n < len(tartu_data[column]):\n",
    "        a = tartu_data[column][n].split('-')\n",
    "        tartu_data[column][n] = round(avg(list(map(int, a)))) # Values with decimals were appropriately rounded\n",
    "        n += 1"
   ]
  },
  {
   "cell_type": "code",
   "execution_count": 57,
   "metadata": {},
   "outputs": [],
   "source": [
    "average_coordinates('Lest_X')\n",
    "average_coordinates('Lest_Y')"
   ]
  },
  {
   "cell_type": "code",
   "execution_count": 114,
   "metadata": {
    "scrolled": true
   },
   "outputs": [
    {
     "data": {
      "text/html": [
       "<div>\n",
       "<style scoped>\n",
       "    .dataframe tbody tr th:only-of-type {\n",
       "        vertical-align: middle;\n",
       "    }\n",
       "\n",
       "    .dataframe tbody tr th {\n",
       "        vertical-align: top;\n",
       "    }\n",
       "\n",
       "    .dataframe thead th {\n",
       "        text-align: right;\n",
       "    }\n",
       "</style>\n",
       "<table border=\"1\" class=\"dataframe\">\n",
       "  <thead>\n",
       "    <tr style=\"text-align: right;\">\n",
       "      <th></th>\n",
       "      <th>JuhtumId</th>\n",
       "      <th>ToimKpv</th>\n",
       "      <th>ToimKell</th>\n",
       "      <th>Lest_X</th>\n",
       "      <th>Lest_Y</th>\n",
       "    </tr>\n",
       "  </thead>\n",
       "  <tbody>\n",
       "    <tr>\n",
       "      <td>0</td>\n",
       "      <td>9617ed94-1636-18d5-8326-a9a756483dba</td>\n",
       "      <td>2013-12-31</td>\n",
       "      <td>21:06</td>\n",
       "      <td>6475250</td>\n",
       "      <td>659250</td>\n",
       "    </tr>\n",
       "    <tr>\n",
       "      <td>1</td>\n",
       "      <td>9617e9de-1636-18d5-8326-a9a756483dba</td>\n",
       "      <td>2013-12-31</td>\n",
       "      <td>20:28</td>\n",
       "      <td>6475250</td>\n",
       "      <td>659250</td>\n",
       "    </tr>\n",
       "    <tr>\n",
       "      <td>2</td>\n",
       "      <td>9617ed3a-1636-18d5-8326-a9a756483dba</td>\n",
       "      <td>2013-12-31</td>\n",
       "      <td>19:19</td>\n",
       "      <td>6472250</td>\n",
       "      <td>656750</td>\n",
       "    </tr>\n",
       "    <tr>\n",
       "      <td>3</td>\n",
       "      <td>9617ec90-1636-18d5-8326-a9a756483dba</td>\n",
       "      <td>2013-12-31</td>\n",
       "      <td>14:19</td>\n",
       "      <td>6475250</td>\n",
       "      <td>659250</td>\n",
       "    </tr>\n",
       "    <tr>\n",
       "      <td>4</td>\n",
       "      <td>9617ebaa-1636-18d5-8326-a9a756483dba</td>\n",
       "      <td>2013-12-31</td>\n",
       "      <td>13:44</td>\n",
       "      <td>6475250</td>\n",
       "      <td>659250</td>\n",
       "    </tr>\n",
       "  </tbody>\n",
       "</table>\n",
       "</div>"
      ],
      "text/plain": [
       "                               JuhtumId     ToimKpv ToimKell   Lest_X  Lest_Y\n",
       "0  9617ed94-1636-18d5-8326-a9a756483dba  2013-12-31    21:06  6475250  659250\n",
       "1  9617e9de-1636-18d5-8326-a9a756483dba  2013-12-31    20:28  6475250  659250\n",
       "2  9617ed3a-1636-18d5-8326-a9a756483dba  2013-12-31    19:19  6472250  656750\n",
       "3  9617ec90-1636-18d5-8326-a9a756483dba  2013-12-31    14:19  6475250  659250\n",
       "4  9617ebaa-1636-18d5-8326-a9a756483dba  2013-12-31    13:44  6475250  659250"
      ]
     },
     "execution_count": 114,
     "metadata": {},
     "output_type": "execute_result"
    }
   ],
   "source": [
    "tartu_data.head()"
   ]
  },
  {
   "cell_type": "markdown",
   "metadata": {},
   "source": [
    "# Weather data"
   ]
  },
  {
   "cell_type": "markdown",
   "metadata": {},
   "source": [
    "## 2019 weather data (9000 rows)"
   ]
  },
  {
   "cell_type": "code",
   "execution_count": 80,
   "metadata": {},
   "outputs": [],
   "source": [
    "w_d_web = 'http://meteo.physic.ut.ee/et/archive.php?do=data&begin%5Byear%5D=2019&begin%5Bmon%5D=11&begin%5Bmday%5D=4&end%5Byear%5D=2019&end%5Bmon%5D=12&end%5Bmday%5D=5&9=1&16=1&14=1&ok=+Esita+p%C3%A4ring+'\n",
    "\n",
    "table = requests.get(w_d_web)"
   ]
  },
  {
   "cell_type": "markdown",
   "metadata": {},
   "source": [
    "## 2012-2019 weather data"
   ]
  },
  {
   "cell_type": "code",
   "execution_count": 179,
   "metadata": {},
   "outputs": [],
   "source": [
    "w_d_web = 'http://meteo.physic.ut.ee/et/archive.php?do=data&begin%5Byear%5D=2012&begin%5Bmon%5D=1&begin%5Bmday%5D=1&end%5Byear%5D=2019&end%5Bmon%5D=12&end%5Bmday%5D=8&9=1&16=1&14=1&ok=+Esita+p%C3%A4ring+'\n",
    "\n",
    "table = requests.get(w_d_web)"
   ]
  },
  {
   "cell_type": "markdown",
   "metadata": {},
   "source": [
    "## 2012 weather data (105210 rows)"
   ]
  },
  {
   "cell_type": "code",
   "execution_count": 212,
   "metadata": {},
   "outputs": [],
   "source": [
    "w_d_web = 'http://meteo.physic.ut.ee/et/archive.php?do=data&begin%5Byear%5D=2012&begin%5Bmon%5D=1&begin%5Bmday%5D=1&end%5Byear%5D=2013&end%5Bmon%5D=1&end%5Bmday%5D=1&9=1&16=1&11=1&ok=+Esita+p%C3%A4ring+'\n",
    "\n",
    "table = requests.get(w_d_web)"
   ]
  },
  {
   "cell_type": "code",
   "execution_count": 214,
   "metadata": {},
   "outputs": [],
   "source": [
    "w_d_raw = []\n",
    "\n",
    "for row in table:\n",
    "    w_d_raw.append(row.decode('utf-8').split('\\n')) # Removing all non-data characters (\\n and b)"
   ]
  },
  {
   "cell_type": "code",
   "execution_count": 335,
   "metadata": {},
   "outputs": [],
   "source": [
    "def striplist(l):\n",
    "    return list(map(lambda s: s.strip(), l))"
   ]
  },
  {
   "cell_type": "code",
   "execution_count": 378,
   "metadata": {},
   "outputs": [],
   "source": [
    "wd_list = []\n",
    "wd_cols = striplist(w_d_raw[0][0].split(','))\n",
    "\n",
    "wd_list.append(striplist(w_d_raw[0][1].split(',')))\n",
    "i = 0\n",
    "while i < len(w_d_raw)-1:\n",
    "    if len(w_d_raw[i]) == 4:\n",
    "        wd_list.append(striplist(w_d_raw[i][2].split(',')))\n",
    "        wd_list.append(striplist((w_d_raw[i][3] + w_d_raw[i + 1][0]).split(',')))\n",
    "    else:\n",
    "        wd_list.append(striplist((w_d_raw[i][2] + w_d_raw[i + 1][0]).split(',')))\n",
    "    wd_list.append(striplist(w_d_raw[i + 1][1].split(',')))\n",
    "    i += 1\n",
    "\n",
    "weather_df = pd.DataFrame(wd_list)[[0, 1, 2, 3]]\n",
    "weather_df.columns = ['datetime', 'temp','prec','illuminance']\n",
    "weather_df = weather_df[weather_df.temp != '']"
   ]
  },
  {
   "cell_type": "code",
   "execution_count": 379,
   "metadata": {},
   "outputs": [
    {
     "name": "stdout",
     "output_type": "stream",
     "text": [
      "(105173, 4)\n"
     ]
    },
    {
     "data": {
      "text/html": [
       "<div>\n",
       "<style scoped>\n",
       "    .dataframe tbody tr th:only-of-type {\n",
       "        vertical-align: middle;\n",
       "    }\n",
       "\n",
       "    .dataframe tbody tr th {\n",
       "        vertical-align: top;\n",
       "    }\n",
       "\n",
       "    .dataframe thead th {\n",
       "        text-align: right;\n",
       "    }\n",
       "</style>\n",
       "<table border=\"1\" class=\"dataframe\">\n",
       "  <thead>\n",
       "    <tr style=\"text-align: right;\">\n",
       "      <th></th>\n",
       "      <th>datetime</th>\n",
       "      <th>temp</th>\n",
       "      <th>prec</th>\n",
       "      <th>illuminance</th>\n",
       "    </tr>\n",
       "  </thead>\n",
       "  <tbody>\n",
       "    <tr>\n",
       "      <td>0</td>\n",
       "      <td>2012-01-01 00:00:00</td>\n",
       "      <td>-1.40256386952938</td>\n",
       "      <td>0</td>\n",
       "      <td>1596.32524005174</td>\n",
       "    </tr>\n",
       "    <tr>\n",
       "      <td>1</td>\n",
       "      <td>2012-01-01 00:05:00</td>\n",
       "      <td>-1.3072008201295098</td>\n",
       "      <td>0</td>\n",
       "      <td>1766.2777027866002</td>\n",
       "    </tr>\n",
       "    <tr>\n",
       "      <td>2</td>\n",
       "      <td>2012-01-01 00:10:00</td>\n",
       "      <td>-1.24774878404425</td>\n",
       "      <td>0</td>\n",
       "      <td>1537.72557855376</td>\n",
       "    </tr>\n",
       "    <tr>\n",
       "      <td>3</td>\n",
       "      <td>2012-01-01 00:15:00</td>\n",
       "      <td>-1.2859692273800398</td>\n",
       "      <td>0</td>\n",
       "      <td>1483.7225387054602</td>\n",
       "    </tr>\n",
       "    <tr>\n",
       "      <td>4</td>\n",
       "      <td>2012-01-01 00:20:00</td>\n",
       "      <td>-1.4057889884906098</td>\n",
       "      <td>0</td>\n",
       "      <td>1544.08768822554</td>\n",
       "    </tr>\n",
       "  </tbody>\n",
       "</table>\n",
       "</div>"
      ],
      "text/plain": [
       "              datetime                 temp prec         illuminance\n",
       "0  2012-01-01 00:00:00    -1.40256386952938    0    1596.32524005174\n",
       "1  2012-01-01 00:05:00  -1.3072008201295098    0  1766.2777027866002\n",
       "2  2012-01-01 00:10:00    -1.24774878404425    0    1537.72557855376\n",
       "3  2012-01-01 00:15:00  -1.2859692273800398    0  1483.7225387054602\n",
       "4  2012-01-01 00:20:00  -1.4057889884906098    0    1544.08768822554"
      ]
     },
     "execution_count": 379,
     "metadata": {},
     "output_type": "execute_result"
    }
   ],
   "source": [
    "print(weather_df.shape)\n",
    "weather_df.head()"
   ]
  },
  {
   "cell_type": "markdown",
   "metadata": {},
   "source": [
    "# 5-minute, hourly and daily data"
   ]
  },
  {
   "cell_type": "code",
   "execution_count": 305,
   "metadata": {},
   "outputs": [],
   "source": [
    "from datetime import datetime"
   ]
  },
  {
   "cell_type": "markdown",
   "metadata": {},
   "source": [
    "Let's create hourly and daily averaged temperature, precipitation, irradiation flux and traffic violations amount to try and find correlations. "
   ]
  },
  {
   "cell_type": "markdown",
   "metadata": {},
   "source": [
    "### Weather data"
   ]
  },
  {
   "cell_type": "code",
   "execution_count": 380,
   "metadata": {},
   "outputs": [],
   "source": [
    "timeformat = '%Y-%m-%d %H:%M:%S'\n",
    "\n",
    "hours = []\n",
    "dates = []\n",
    "times = []\n",
    "for t in weather_df.datetime:\n",
    "    dt = datetime.strptime(t, timeformat)\n",
    "    hours.append(dt.hour)\n",
    "    dates.append(dt.date())\n",
    "    times.append(dt.time())\n",
    "\n",
    "weather_df['hour'] = hours\n",
    "weather_df['date'] = dates\n",
    "weather_df['time'] = times\n",
    "\n",
    "weather_df = weather_df.drop(columns = ['datetime'])"
   ]
  },
  {
   "cell_type": "code",
   "execution_count": 381,
   "metadata": {},
   "outputs": [],
   "source": [
    "weather_df.temp = list(map(float, weather_df.temp))\n",
    "weather_df.prec = list(map(float, weather_df.prec))\n",
    "weather_df.illuminance = list(map(float, weather_df.illuminance))\n",
    "weather_df.hour = list(map(int, weather_df.hour))"
   ]
  },
  {
   "cell_type": "code",
   "execution_count": 382,
   "metadata": {},
   "outputs": [],
   "source": [
    "dailymean_wd = weather_df.groupby(by = 'date').mean()\n",
    "hourlymean_wd = weather_df.groupby(['date','hour'], as_index=False).mean()"
   ]
  },
  {
   "cell_type": "code",
   "execution_count": 384,
   "metadata": {},
   "outputs": [
    {
     "data": {
      "text/plain": [
       "[<matplotlib.lines.Line2D at 0x1a468401080>]"
      ]
     },
     "execution_count": 384,
     "metadata": {},
     "output_type": "execute_result"
    },
    {
     "data": {
      "image/png": "[encoded data removed]",
      "text/plain": [
       "<Figure size 432x288 with 1 Axes>"
      ]
     },
     "metadata": {},
     "output_type": "display_data"
    }
   ],
   "source": [
    "plt.plot(weather_df['temp'])"
   ]
  },
  {
   "cell_type": "code",
   "execution_count": 385,
   "metadata": {},
   "outputs": [
    {
     "data": {
      "text/plain": [
       "[<matplotlib.lines.Line2D at 0x1a4682ca860>]"
      ]
     },
     "execution_count": 385,
     "metadata": {},
     "output_type": "execute_result"
    },
    {
     "data": {
      "image/png": "[encoded data removed]",
      "text/plain": [
       "<Figure size 432x288 with 1 Axes>"
      ]
     },
     "metadata": {},
     "output_type": "display_data"
    }
   ],
   "source": [
    "plt.plot(hourlymean_wd['temp'])"
   ]
  },
  {
   "cell_type": "code",
   "execution_count": 386,
   "metadata": {},
   "outputs": [
    {
     "name": "stderr",
     "output_type": "stream",
     "text": [
      "C:\\Users\\Karlm\\AppData\\Roaming\\Python\\Python36\\site-packages\\pandas\\plotting\\_matplotlib\\converter.py:103: FutureWarning: Using an implicitly registered datetime converter for a matplotlib plotting method. The converter was registered by pandas on import. Future versions of pandas will require you to explicitly register matplotlib converters.\n",
      "\n",
      "To register the converters:\n",
      "\t>>> from pandas.plotting import register_matplotlib_converters\n",
      "\t>>> register_matplotlib_converters()\n",
      "  warnings.warn(msg, FutureWarning)\n"
     ]
    },
    {
     "data": {
      "text/plain": [
       "[<matplotlib.lines.Line2D at 0x1a4682e6048>]"
      ]
     },
     "execution_count": 386,
     "metadata": {},
     "output_type": "execute_result"
    },
    {
     "data": {
      "image/png": "[encoded data removed]",
      "text/plain": [
       "<Figure size 432x288 with 1 Axes>"
      ]
     },
     "metadata": {},
     "output_type": "display_data"
    }
   ],
   "source": [
    "plt.plot(dailymean_wd['temp'])"
   ]
  },
  {
   "cell_type": "markdown",
   "metadata": {},
   "source": [
    "### Police Data"
   ]
  },
  {
   "cell_type": "code",
   "execution_count": null,
   "metadata": {},
   "outputs": [],
   "source": [
    "police_df = tartu_data.copy()"
   ]
  },
  {
   "cell_type": "code",
   "execution_count": 417,
   "metadata": {},
   "outputs": [],
   "source": [
    "timeformat = '%H:%M'\n",
    "\n",
    "hours = []\n",
    "minutes = []\n",
    "times = []\n",
    "for t in police_df.ToimKell:\n",
    "    try:\n",
    "        dt = datetime.strptime(t, timeformat) \n",
    "        dt = dt.replace(minute = dt.minute // 5 * 5) # 5 minuti kaupa\n",
    "        hours.append(dt.hour)\n",
    "        minutes.append(dt.minute)\n",
    "        times.append(dt.time())\n",
    "    except:\n",
    "        hours.append(np.nan)\n",
    "        minutes.append(np.nan)\n",
    "        times.append(np.nan)\n",
    "        continue\n",
    "        # ignore\n",
    "\n",
    "police_df['hour'] = hours\n",
    "police_df['minute'] = minutes\n",
    "police_df['time'] = times"
   ]
  },
  {
   "cell_type": "code",
   "execution_count": 422,
   "metadata": {},
   "outputs": [
    {
     "data": {
      "text/html": [
       "<div>\n",
       "<style scoped>\n",
       "    .dataframe tbody tr th:only-of-type {\n",
       "        vertical-align: middle;\n",
       "    }\n",
       "\n",
       "    .dataframe tbody tr th {\n",
       "        vertical-align: top;\n",
       "    }\n",
       "\n",
       "    .dataframe thead th {\n",
       "        text-align: right;\n",
       "    }\n",
       "</style>\n",
       "<table border=\"1\" class=\"dataframe\">\n",
       "  <thead>\n",
       "    <tr style=\"text-align: right;\">\n",
       "      <th></th>\n",
       "      <th>JuhtumId</th>\n",
       "      <th>ToimKpv</th>\n",
       "      <th>ToimKell</th>\n",
       "      <th>Lest_X</th>\n",
       "      <th>Lest_Y</th>\n",
       "      <th>hour</th>\n",
       "      <th>minute</th>\n",
       "      <th>time</th>\n",
       "    </tr>\n",
       "  </thead>\n",
       "  <tbody>\n",
       "    <tr>\n",
       "      <td>0</td>\n",
       "      <td>9617ed94-1636-18d5-8326-a9a756483dba</td>\n",
       "      <td>2013-12-31</td>\n",
       "      <td>21:06</td>\n",
       "      <td>6475250</td>\n",
       "      <td>659250</td>\n",
       "      <td>21.0</td>\n",
       "      <td>5.0</td>\n",
       "      <td>21:05:00</td>\n",
       "    </tr>\n",
       "    <tr>\n",
       "      <td>1</td>\n",
       "      <td>9617e9de-1636-18d5-8326-a9a756483dba</td>\n",
       "      <td>2013-12-31</td>\n",
       "      <td>20:28</td>\n",
       "      <td>6475250</td>\n",
       "      <td>659250</td>\n",
       "      <td>20.0</td>\n",
       "      <td>25.0</td>\n",
       "      <td>20:25:00</td>\n",
       "    </tr>\n",
       "    <tr>\n",
       "      <td>2</td>\n",
       "      <td>9617ed3a-1636-18d5-8326-a9a756483dba</td>\n",
       "      <td>2013-12-31</td>\n",
       "      <td>19:19</td>\n",
       "      <td>6472250</td>\n",
       "      <td>656750</td>\n",
       "      <td>19.0</td>\n",
       "      <td>15.0</td>\n",
       "      <td>19:15:00</td>\n",
       "    </tr>\n",
       "    <tr>\n",
       "      <td>3</td>\n",
       "      <td>9617ec90-1636-18d5-8326-a9a756483dba</td>\n",
       "      <td>2013-12-31</td>\n",
       "      <td>14:19</td>\n",
       "      <td>6475250</td>\n",
       "      <td>659250</td>\n",
       "      <td>14.0</td>\n",
       "      <td>15.0</td>\n",
       "      <td>14:15:00</td>\n",
       "    </tr>\n",
       "    <tr>\n",
       "      <td>4</td>\n",
       "      <td>9617ebaa-1636-18d5-8326-a9a756483dba</td>\n",
       "      <td>2013-12-31</td>\n",
       "      <td>13:44</td>\n",
       "      <td>6475250</td>\n",
       "      <td>659250</td>\n",
       "      <td>13.0</td>\n",
       "      <td>40.0</td>\n",
       "      <td>13:40:00</td>\n",
       "    </tr>\n",
       "    <tr>\n",
       "      <td>...</td>\n",
       "      <td>...</td>\n",
       "      <td>...</td>\n",
       "      <td>...</td>\n",
       "      <td>...</td>\n",
       "      <td>...</td>\n",
       "      <td>...</td>\n",
       "      <td>...</td>\n",
       "      <td>...</td>\n",
       "    </tr>\n",
       "    <tr>\n",
       "      <td>10411</td>\n",
       "      <td>95dfe250-1636-18d5-8326-a9a756483dba</td>\n",
       "      <td>2012-01-01</td>\n",
       "      <td>15:41</td>\n",
       "      <td>6472250</td>\n",
       "      <td>659250</td>\n",
       "      <td>15.0</td>\n",
       "      <td>40.0</td>\n",
       "      <td>15:40:00</td>\n",
       "    </tr>\n",
       "    <tr>\n",
       "      <td>10412</td>\n",
       "      <td>95dfe246-1636-18d5-8326-a9a756483dba</td>\n",
       "      <td>2012-01-01</td>\n",
       "      <td>15:41</td>\n",
       "      <td>6476250</td>\n",
       "      <td>658750</td>\n",
       "      <td>15.0</td>\n",
       "      <td>40.0</td>\n",
       "      <td>15:40:00</td>\n",
       "    </tr>\n",
       "    <tr>\n",
       "      <td>10413</td>\n",
       "      <td>95dfe188-1636-18d5-8326-a9a756483dba</td>\n",
       "      <td>2012-01-01</td>\n",
       "      <td>13:30</td>\n",
       "      <td>6474250</td>\n",
       "      <td>658750</td>\n",
       "      <td>13.0</td>\n",
       "      <td>30.0</td>\n",
       "      <td>13:30:00</td>\n",
       "    </tr>\n",
       "    <tr>\n",
       "      <td>10414</td>\n",
       "      <td>95dfe12e-1636-18d5-8326-a9a756483dba</td>\n",
       "      <td>2012-01-01</td>\n",
       "      <td>11:40</td>\n",
       "      <td>6473750</td>\n",
       "      <td>659750</td>\n",
       "      <td>11.0</td>\n",
       "      <td>40.0</td>\n",
       "      <td>11:40:00</td>\n",
       "    </tr>\n",
       "    <tr>\n",
       "      <td>10415</td>\n",
       "      <td>95dfe016-1636-18d5-8326-a9a756483dba</td>\n",
       "      <td>2012-01-01</td>\n",
       "      <td>04:05</td>\n",
       "      <td>6472250</td>\n",
       "      <td>657750</td>\n",
       "      <td>4.0</td>\n",
       "      <td>5.0</td>\n",
       "      <td>04:05:00</td>\n",
       "    </tr>\n",
       "  </tbody>\n",
       "</table>\n",
       "<p>10416 rows × 8 columns</p>\n",
       "</div>"
      ],
      "text/plain": [
       "                                   JuhtumId     ToimKpv ToimKell   Lest_X  \\\n",
       "0      9617ed94-1636-18d5-8326-a9a756483dba  2013-12-31    21:06  6475250   \n",
       "1      9617e9de-1636-18d5-8326-a9a756483dba  2013-12-31    20:28  6475250   \n",
       "2      9617ed3a-1636-18d5-8326-a9a756483dba  2013-12-31    19:19  6472250   \n",
       "3      9617ec90-1636-18d5-8326-a9a756483dba  2013-12-31    14:19  6475250   \n",
       "4      9617ebaa-1636-18d5-8326-a9a756483dba  2013-12-31    13:44  6475250   \n",
       "...                                     ...         ...      ...      ...   \n",
       "10411  95dfe250-1636-18d5-8326-a9a756483dba  2012-01-01    15:41  6472250   \n",
       "10412  95dfe246-1636-18d5-8326-a9a756483dba  2012-01-01    15:41  6476250   \n",
       "10413  95dfe188-1636-18d5-8326-a9a756483dba  2012-01-01    13:30  6474250   \n",
       "10414  95dfe12e-1636-18d5-8326-a9a756483dba  2012-01-01    11:40  6473750   \n",
       "10415  95dfe016-1636-18d5-8326-a9a756483dba  2012-01-01    04:05  6472250   \n",
       "\n",
       "       Lest_Y  hour  minute      time  \n",
       "0      659250  21.0     5.0  21:05:00  \n",
       "1      659250  20.0    25.0  20:25:00  \n",
       "2      656750  19.0    15.0  19:15:00  \n",
       "3      659250  14.0    15.0  14:15:00  \n",
       "4      659250  13.0    40.0  13:40:00  \n",
       "...       ...   ...     ...       ...  \n",
       "10411  659250  15.0    40.0  15:40:00  \n",
       "10412  658750  15.0    40.0  15:40:00  \n",
       "10413  658750  13.0    30.0  13:30:00  \n",
       "10414  659750  11.0    40.0  11:40:00  \n",
       "10415  657750   4.0     5.0  04:05:00  \n",
       "\n",
       "[10416 rows x 8 columns]"
      ]
     },
     "execution_count": 422,
     "metadata": {},
     "output_type": "execute_result"
    }
   ],
   "source": [
    "police_df"
   ]
  },
  {
   "cell_type": "code",
   "execution_count": 452,
   "metadata": {},
   "outputs": [],
   "source": [
    "#minute5_violation_count\n",
    "#daily_violation_count\n",
    "#hourly_violation_count\n",
    "dailymean_pd = police_df.groupby(['ToimKpv']).count()['JuhtumId']\n",
    "hourlymean_pd = police_df.groupby(['ToimKpv','hour']).count()['JuhtumId']\n",
    "minutelymean_pd = police_df.groupby(['ToimKpv', 'hour', 'minute']).count()['JuhtumId']"
   ]
  },
  {
   "cell_type": "code",
   "execution_count": 484,
   "metadata": {},
   "outputs": [
    {
     "data": {
      "text/plain": [
       "temp             -1.86406\n",
       "prec                    0\n",
       "illuminance       1626.08\n",
       "hour                    4\n",
       "date           2012-01-01\n",
       "time             04:05:00\n",
       "Name: 49, dtype: object"
      ]
     },
     "execution_count": 484,
     "metadata": {},
     "output_type": "execute_result"
    }
   ],
   "source": [
    "weather_df.iloc[49]"
   ]
  },
  {
   "cell_type": "code",
   "execution_count": 485,
   "metadata": {},
   "outputs": [
    {
     "data": {
      "text/plain": [
       "1"
      ]
     },
     "execution_count": 485,
     "metadata": {},
     "output_type": "execute_result"
    }
   ],
   "source": [
    "#minutelymean_pd[('2012-01-01', 4.0, 5.0)]\n",
    "#hourlymean_pd['JuhtumId'][('2012-01-01', 4.0)]\n",
    "#minutelymean_pd[(weather_df.date[0].strftime('%Y-%m-%d'), 4.0, 5.0)]\n",
    "#weather_df.time[4].minute"
   ]
  },
  {
   "cell_type": "markdown",
   "metadata": {},
   "source": [
    "## Combine violation count in 5 minute intervals with weather data"
   ]
  },
  {
   "cell_type": "code",
   "execution_count": 489,
   "metadata": {},
   "outputs": [],
   "source": [
    "comb_df = weather_df[['time', 'date', 'hour', 'temp', 'illuminance']]\n",
    "timeformat = '%Y-%m-%d'\n",
    "\n",
    "v_counts = []\n",
    "for index, row in comb_df.iterrows():\n",
    "    try:\n",
    "        v_counts.append(minutelymean_pd[(row.date.strftime(timeformat), row.hour, row.time.minute)])\n",
    "    except:\n",
    "        v_counts.append(0)\n",
    "\n",
    "comb_df['violations'] = v_counts"
   ]
  },
  {
   "cell_type": "code",
   "execution_count": 496,
   "metadata": {},
   "outputs": [],
   "source": [
    "hourlymean_cd = comb_df.groupby(['date','hour'], as_index=False).mean()\n",
    "dailymean_cd = comb_df.groupby(['date']).mean()"
   ]
  },
  {
   "cell_type": "code",
   "execution_count": 500,
   "metadata": {},
   "outputs": [
    {
     "data": {
      "text/plain": [
       "[<matplotlib.lines.Line2D at 0x1a46ddb18d0>]"
      ]
     },
     "execution_count": 500,
     "metadata": {},
     "output_type": "execute_result"
    },
    {
     "data": {
      "image/png": "[encoded data removed]",
      "text/plain": [
       "<Figure size 432x288 with 1 Axes>"
      ]
     },
     "metadata": {},
     "output_type": "display_data"
    }
   ],
   "source": [
    "plt.plot(comb_df['violations'])"
   ]
  },
  {
   "cell_type": "code",
   "execution_count": 499,
   "metadata": {},
   "outputs": [
    {
     "data": {
      "text/plain": [
       "[<matplotlib.lines.Line2D at 0x1a46cd80ac8>]"
      ]
     },
     "execution_count": 499,
     "metadata": {},
     "output_type": "execute_result"
    },
    {
     "data": {
      "image/png": "[encoded data removed]",
      "text/plain": [
       "<Figure size 432x288 with 1 Axes>"
      ]
     },
     "metadata": {},
     "output_type": "display_data"
    }
   ],
   "source": [
    "plt.plot(hourlymean_cd['violations'])"
   ]
  },
  {
   "cell_type": "code",
   "execution_count": 498,
   "metadata": {},
   "outputs": [
    {
     "data": {
      "text/plain": [
       "[<matplotlib.lines.Line2D at 0x1a46ccef780>]"
      ]
     },
     "execution_count": 498,
     "metadata": {},
     "output_type": "execute_result"
    },
    {
     "data": {
      "image/png": "[encoded data removed]",
      "text/plain": [
       "<Figure size 432x288 with 1 Axes>"
      ]
     },
     "metadata": {},
     "output_type": "display_data"
    }
   ],
   "source": [
    "plt.plot(dailymean_cd['violations'])"
   ]
  },
  {
   "cell_type": "code",
   "execution_count": 528,
   "metadata": {},
   "outputs": [],
   "source": [
    "hourlymean_cd.to_csv('weathertimeviolations_hourlymean.csv', index = False)"
   ]
  },
  {
   "cell_type": "code",
   "execution_count": 529,
   "metadata": {},
   "outputs": [],
   "source": [
    "dailymean_cd.to_csv('weathertimeviolations_dailymean.csv', index = False)"
   ]
  },
  {
   "cell_type": "code",
   "execution_count": 530,
   "metadata": {},
   "outputs": [],
   "source": [
    "comb_df.to_csv('weathertimeviolations.csv', index = False)"
   ]
  },
  {
   "cell_type": "markdown",
   "metadata": {},
   "source": [
    "# Modelling"
   ]
  },
  {
   "cell_type": "markdown",
   "metadata": {},
   "source": [
    "Read the latest data from file to separate data manipulation flow from the modelling tasks flow."
   ]
  },
  {
   "cell_type": "code",
   "execution_count": 534,
   "metadata": {},
   "outputs": [],
   "source": [
    "weatherviolations_minutely = pd.read_csv('weathertimeviolations.csv')\n",
    "weatherviolations_hourly = pd.read_csv('weathertimeviolations_hourlymean.csv')\n",
    "weatherviolations_daily = pd.read_csv('weathertimeviolations_dailymean.csv')"
   ]
  },
  {
   "cell_type": "code",
   "execution_count": 535,
   "metadata": {},
   "outputs": [
    {
     "data": {
      "text/plain": [
       "<matplotlib.collections.PathCollection at 0x1a4769a00b8>"
      ]
     },
     "execution_count": 535,
     "metadata": {},
     "output_type": "execute_result"
    },
    {
     "data": {
      "image/png": "[encoded data removed]",
      "text/plain": [
       "<Figure size 432x288 with 1 Axes>"
      ]
     },
     "metadata": {},
     "output_type": "display_data"
    }
   ],
   "source": [
    "plt.scatter(weatherviolations_hourly['hour'], weatherviolations_hourly['violations'])"
   ]
  },
  {
   "cell_type": "markdown",
   "metadata": {},
   "source": [
    "**More violations during the day**"
   ]
  },
  {
   "cell_type": "code",
   "execution_count": 536,
   "metadata": {},
   "outputs": [
    {
     "data": {
      "text/plain": [
       "<matplotlib.collections.PathCollection at 0x1a4769f8780>"
      ]
     },
     "execution_count": 536,
     "metadata": {},
     "output_type": "execute_result"
    },
    {
     "data": {
      "image/png": "[encoded data removed]",
      "text/plain": [
       "<Figure size 432x288 with 1 Axes>"
      ]
     },
     "metadata": {},
     "output_type": "display_data"
    }
   ],
   "source": [
    "plt.scatter(weatherviolations_hourly['temp'], weatherviolations_hourly['violations'])"
   ]
  },
  {
   "cell_type": "markdown",
   "metadata": {},
   "source": [
    "**More violations at 5-15 oC temperature?**"
   ]
  },
  {
   "cell_type": "code",
   "execution_count": 537,
   "metadata": {},
   "outputs": [
    {
     "data": {
      "text/plain": [
       "<matplotlib.collections.PathCollection at 0x1a476a12a90>"
      ]
     },
     "execution_count": 537,
     "metadata": {},
     "output_type": "execute_result"
    },
    {
     "data": {
      "image/png": "[encoded data removed]",
      "text/plain": [
       "<Figure size 432x288 with 1 Axes>"
      ]
     },
     "metadata": {},
     "output_type": "display_data"
    }
   ],
   "source": [
    "plt.scatter(weatherviolations_hourly['illuminance'], weatherviolations_hourly['violations'])"
   ]
  },
  {
   "cell_type": "markdown",
   "metadata": {},
   "source": [
    "**More violations at low luminance?**"
   ]
  },
  {
   "cell_type": "code",
   "execution_count": 509,
   "metadata": {},
   "outputs": [],
   "source": [
    "from sklearn.ensemble import RandomForestRegressor\n",
    "from sklearn.model_selection import train_test_split"
   ]
  },
  {
   "cell_type": "code",
   "execution_count": 510,
   "metadata": {},
   "outputs": [],
   "source": [
    "X_train, X_val, y_train, y_val = train_test_split(hourlymean_cd[['hour', 'temp', 'illuminance']], hourlymean_cd['violations'], test_size=0.3, random_state = 1)"
   ]
  },
  {
   "cell_type": "code",
   "execution_count": 511,
   "metadata": {},
   "outputs": [],
   "source": [
    "rf = RandomForestRegressor(n_estimators = 200, random_state = 1).fit(X_train, y_train)"
   ]
  },
  {
   "cell_type": "code",
   "execution_count": 512,
   "metadata": {},
   "outputs": [
    {
     "data": {
      "text/plain": [
       "0.035144376914424624"
      ]
     },
     "execution_count": 512,
     "metadata": {},
     "output_type": "execute_result"
    }
   ],
   "source": [
    "rf.score(X_val, y_val)"
   ]
  },
  {
   "cell_type": "markdown",
   "metadata": {},
   "source": [
    "# Heatmap intervals and classification"
   ]
  },
  {
   "cell_type": "code",
   "execution_count": null,
   "metadata": {},
   "outputs": [],
   "source": [
    "x_c = np.zeros((8, 1), dtype = int)\n",
    "y_c = np.zeros((1, 8), dtype = int)\n",
    "c = np.zeros((8, 8), dtype = int)"
   ]
  },
  {
   "cell_type": "code",
   "execution_count": null,
   "metadata": {},
   "outputs": [],
   "source": [
    "def interval(x_start, y_start, interval):\n",
    "\n",
    "    k = 1\n",
    "    while k <= len(x_c):\n",
    "        x_c[k-1][0] = x_start + (interval*k)\n",
    "        y_c[0][k-1] = y_start + (interval*k)\n",
    "        k += 1"
   ]
  },
  {
   "cell_type": "code",
   "execution_count": null,
   "metadata": {},
   "outputs": [],
   "source": [
    "def grid_loc(a, b, l1, l2): # l1 and l2 are to determain the coordinates position in the made grid\n",
    "    n = 0\n",
    "    l = [0, 0]\n",
    "    while n < len(l1):\n",
    "        if a < l1[n][0]: # a is the x-coordinate\n",
    "            l[0] = n\n",
    "            break\n",
    "\n",
    "        n += 1\n",
    "\n",
    "    z = 0\n",
    "    \n",
    "    while z < len(l1):\n",
    "        if b < l2[0][z]: # b is the y-coordinate\n",
    "            l[1] = z\n",
    "            break\n",
    "\n",
    "        z += 1"
   ]
  },
  {
   "cell_type": "code",
   "execution_count": null,
   "metadata": {},
   "outputs": [],
   "source": [
    "c"
   ]
  }
 ],
 "metadata": {
  "kernelspec": {
   "display_name": "Python 3",
   "language": "python",
   "name": "python3"
  },
  "language_info": {
   "codemirror_mode": {
    "name": "ipython",
    "version": 3
   },
   "file_extension": ".py",
   "mimetype": "text/x-python",
   "name": "python",
   "nbconvert_exporter": "python",
   "pygments_lexer": "ipython3",
   "version": "3.6.5"
  }
 },
 "nbformat": 4,
 "nbformat_minor": 2
}
