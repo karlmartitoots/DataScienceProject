{
 "cells": [
  {
   "cell_type": "code",
   "execution_count": 1,
   "metadata": {},
   "outputs": [
    {
     "name": "stdout",
     "output_type": "stream",
     "text": [
      "Hello world\n"
     ]
    }
   ],
   "source": [
    "import numpy as np\n",
    "import pandas as pd\n",
    "\n",
    "print(\"Hello world\")"
   ]
  },
  {
   "cell_type": "code",
   "execution_count": null,
   "metadata": {},
   "outputs": [],
   "source": [
    "data = open(\"liiklusjarelevalve_3.csv\", encoding = \"UTF-8\")\n",
    "\n",
    "# -----------------------------------\n",
    "\n",
    "n = 0\n",
    "data_list = []\n",
    "\n",
    "for row in data:\n",
    "    x = row.split(\"\\t\")\n",
    "    \n",
    "    l = len(x)\n",
    "    k = 0\n",
    "\n",
    "    while k < l:\n",
    "        x[k] = x[k].replace('\"', '')\n",
    "        k += 1\n",
    "        \n",
    "    if n == 0: # First row of the csv file is the variables list so it is separated from the others\n",
    "        cols = x\n",
    "        n += 1\n",
    "        \n",
    "    else:\n",
    "        data_list.append(x)\n",
    "        n += 1\n",
    "        if n == 10:\n",
    "            break\n",
    "            \n",
    "# ------------------------------------\n",
    "\n",
    "traffic_df = pd.DataFrame(data_list, columns = cols)\n",
    "\n",
    "traffic_df"
   ]
  },
  {
   "cell_type": "code",
   "execution_count": null,
   "metadata": {},
   "outputs": [],
   "source": [
    "traffic_df = traffic_df.rename(columns = {\"SyyteoLiik\\n\" : \"SyyteoLiik\"})"
   ]
  }
 ],
 "metadata": {
  "kernelspec": {
   "display_name": "Python 3",
   "language": "python",
   "name": "python3"
  },
  "language_info": {
   "codemirror_mode": {
    "name": "ipython",
    "version": 3
   },
   "file_extension": ".py",
   "mimetype": "text/x-python",
   "name": "python",
   "nbconvert_exporter": "python",
   "pygments_lexer": "ipython3",
   "version": "3.7.3"
  }
 },
 "nbformat": 4,
 "nbformat_minor": 2
}
